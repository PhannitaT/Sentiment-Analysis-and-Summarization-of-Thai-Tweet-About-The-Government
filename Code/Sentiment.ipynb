{
  "cells": [
    {
      "cell_type": "markdown",
      "metadata": {
        "id": "LLpRb7VNXsuQ"
      },
      "source": [
        "# **Install lib**"
      ]
    },
    {
      "cell_type": "code",
      "execution_count": null,
      "metadata": {
        "colab": {
          "base_uri": "https://localhost:8080/"
        },
        "id": "l8KUry-IXtkS",
        "outputId": "43aa6d50-3afd-4081-c4ce-6246d3a18aaf"
      },
      "outputs": [
        {
          "output_type": "stream",
          "name": "stdout",
          "text": [
            "fatal: destination path 'apex' already exists and is not an empty directory.\n",
            "/content/apex\n",
            "/usr/local/lib/python3.7/dist-packages/pip/_internal/commands/install.py:232: UserWarning: Disabling all use of wheels due to the use of --build-option / --global-option / --install-option.\n",
            "  cmdoptions.check_install_build_global(options)\n",
            "Using pip 21.1.3 from /usr/local/lib/python3.7/dist-packages/pip (python 3.7)\n",
            "Value for scheme.platlib does not match. Please report this to <https://github.com/pypa/pip/issues/9617>\n",
            "distutils: /usr/local/lib/python3.7/dist-packages\n",
            "sysconfig: /usr/lib/python3.7/site-packages\n",
            "Value for scheme.purelib does not match. Please report this to <https://github.com/pypa/pip/issues/9617>\n",
            "distutils: /usr/local/lib/python3.7/dist-packages\n",
            "sysconfig: /usr/lib/python3.7/site-packages\n",
            "Value for scheme.headers does not match. Please report this to <https://github.com/pypa/pip/issues/9617>\n",
            "distutils: /usr/local/include/python3.7/UNKNOWN\n",
            "sysconfig: /usr/include/python3.7m/UNKNOWN\n",
            "Value for scheme.scripts does not match. Please report this to <https://github.com/pypa/pip/issues/9617>\n",
            "distutils: /usr/local/bin\n",
            "sysconfig: /usr/bin\n",
            "Value for scheme.data does not match. Please report this to <https://github.com/pypa/pip/issues/9617>\n",
            "distutils: /usr/local\n",
            "sysconfig: /usr\n",
            "Additional context:\n",
            "user = False\n",
            "home = None\n",
            "root = None\n",
            "prefix = None\n",
            "Non-user install because site-packages writeable\n",
            "Created temporary directory: /tmp/pip-ephem-wheel-cache-yh09_bda\n",
            "Created temporary directory: /tmp/pip-req-tracker-3fptsqes\n",
            "Initialized build tracking at /tmp/pip-req-tracker-3fptsqes\n",
            "Created build tracker: /tmp/pip-req-tracker-3fptsqes\n",
            "Entered build tracker: /tmp/pip-req-tracker-3fptsqes\n",
            "Created temporary directory: /tmp/pip-install-ng_7mopk\n",
            "Looking in indexes: https://pypi.org/simple, https://us-python.pkg.dev/colab-wheels/public/simple/\n",
            "Processing /content/apex\n",
            "  Created temporary directory: /tmp/pip-req-build-cxuorwv8\n",
            "\u001b[33m  DEPRECATION: A future pip version will change local packages to be built in-place without first copying to a temporary directory. We recommend you use --use-feature=in-tree-build to test your packages with this new behavior before it becomes the default.\n",
            "   pip 21.3 will remove support for this functionality. You can find discussion regarding this at https://github.com/pypa/pip/issues/7555.\u001b[0m\n",
            "  Added file:///content/apex to build tracker '/tmp/pip-req-tracker-3fptsqes'\n",
            "    Running setup.py (path:/tmp/pip-req-build-cxuorwv8/setup.py) egg_info for package from file:///content/apex\n",
            "    Created temporary directory: /tmp/pip-pip-egg-info-srtpjiqh\n",
            "    Running command python setup.py egg_info\n",
            "    No CUDA runtime is found, using CUDA_HOME='/usr/local/cuda'\n",
            "\n",
            "    Warning: Torch did not find available GPUs on this system.\n",
            "     If your intention is to cross-compile, this is not an error.\n",
            "    By default, Apex will cross-compile for Pascal (compute capabilities 6.0, 6.1, 6.2),\n",
            "    Volta (compute capability 7.0), Turing (compute capability 7.5),\n",
            "    and, if the CUDA version is >= 11.0, Ampere (compute capability 8.0).\n",
            "    If you wish to cross-compile for a single specific architecture,\n",
            "    export TORCH_CUDA_ARCH_LIST=\"compute capability\" before running setup.py.\n",
            "\n",
            "\n",
            "\n",
            "    torch.__version__  = 1.5.0\n",
            "\n",
            "\n",
            "    running egg_info\n",
            "    creating /tmp/pip-pip-egg-info-srtpjiqh/apex.egg-info\n",
            "    writing /tmp/pip-pip-egg-info-srtpjiqh/apex.egg-info/PKG-INFO\n",
            "    writing dependency_links to /tmp/pip-pip-egg-info-srtpjiqh/apex.egg-info/dependency_links.txt\n",
            "    writing top-level names to /tmp/pip-pip-egg-info-srtpjiqh/apex.egg-info/top_level.txt\n",
            "    writing manifest file '/tmp/pip-pip-egg-info-srtpjiqh/apex.egg-info/SOURCES.txt'\n",
            "    adding license file 'LICENSE'\n",
            "    writing manifest file '/tmp/pip-pip-egg-info-srtpjiqh/apex.egg-info/SOURCES.txt'\n",
            "    /tmp/pip-req-build-cxuorwv8/setup.py:121: UserWarning: Option --pyprof not specified. Not installing PyProf dependencies!\n",
            "      warnings.warn(\"Option --pyprof not specified. Not installing PyProf dependencies!\")\n",
            "  Source in /tmp/pip-req-build-cxuorwv8 has version 0.1, which satisfies requirement apex==0.1 from file:///content/apex\n",
            "  Removed apex==0.1 from file:///content/apex from build tracker '/tmp/pip-req-tracker-3fptsqes'\n",
            "Created temporary directory: /tmp/pip-unpack-0bcn11ms\n",
            "Skipping wheel build for apex, due to binaries being disabled for it.\n",
            "Installing collected packages: apex\n",
            "  Value for scheme.platlib does not match. Please report this to <https://github.com/pypa/pip/issues/9617>\n",
            "  distutils: /usr/local/lib/python3.7/dist-packages\n",
            "  sysconfig: /usr/lib/python3.7/site-packages\n",
            "  Value for scheme.purelib does not match. Please report this to <https://github.com/pypa/pip/issues/9617>\n",
            "  distutils: /usr/local/lib/python3.7/dist-packages\n",
            "  sysconfig: /usr/lib/python3.7/site-packages\n",
            "  Value for scheme.headers does not match. Please report this to <https://github.com/pypa/pip/issues/9617>\n",
            "  distutils: /usr/local/include/python3.7/apex\n",
            "  sysconfig: /usr/include/python3.7m/apex\n",
            "  Value for scheme.scripts does not match. Please report this to <https://github.com/pypa/pip/issues/9617>\n",
            "  distutils: /usr/local/bin\n",
            "  sysconfig: /usr/bin\n",
            "  Value for scheme.data does not match. Please report this to <https://github.com/pypa/pip/issues/9617>\n",
            "  distutils: /usr/local\n",
            "  sysconfig: /usr\n",
            "  Additional context:\n",
            "  user = False\n",
            "  home = None\n",
            "  root = None\n",
            "  prefix = None\n",
            "  Created temporary directory: /tmp/pip-record-wxkb2bpj\n",
            "    Running command /usr/bin/python3 -u -c 'import io, os, sys, setuptools, tokenize; sys.argv[0] = '\"'\"'/tmp/pip-req-build-cxuorwv8/setup.py'\"'\"'; __file__='\"'\"'/tmp/pip-req-build-cxuorwv8/setup.py'\"'\"';f = getattr(tokenize, '\"'\"'open'\"'\"', open)(__file__) if os.path.exists(__file__) else io.StringIO('\"'\"'from setuptools import setup; setup()'\"'\"');code = f.read().replace('\"'\"'\\r\\n'\"'\"', '\"'\"'\\n'\"'\"');f.close();exec(compile(code, __file__, '\"'\"'exec'\"'\"'))' --cpp_ext --cuda_ext install --record /tmp/pip-record-wxkb2bpj/install-record.txt --single-version-externally-managed --compile --install-headers /usr/local/include/python3.7/apex\n",
            "    No CUDA runtime is found, using CUDA_HOME='/usr/local/cuda'\n",
            "\n",
            "    Warning: Torch did not find available GPUs on this system.\n",
            "     If your intention is to cross-compile, this is not an error.\n",
            "    By default, Apex will cross-compile for Pascal (compute capabilities 6.0, 6.1, 6.2),\n",
            "    Volta (compute capability 7.0), Turing (compute capability 7.5),\n",
            "    and, if the CUDA version is >= 11.0, Ampere (compute capability 8.0).\n",
            "    If you wish to cross-compile for a single specific architecture,\n",
            "    export TORCH_CUDA_ARCH_LIST=\"compute capability\" before running setup.py.\n",
            "\n",
            "\n",
            "\n",
            "    torch.__version__  = 1.5.0\n",
            "\n",
            "\n",
            "    /tmp/pip-req-build-cxuorwv8/setup.py:121: UserWarning: Option --pyprof not specified. Not installing PyProf dependencies!\n",
            "      warnings.warn(\"Option --pyprof not specified. Not installing PyProf dependencies!\")\n",
            "\n",
            "    Compiling cuda extensions with\n",
            "    nvcc: NVIDIA (R) Cuda compiler driver\n",
            "    Copyright (c) 2005-2020 NVIDIA Corporation\n",
            "    Built on Mon_Oct_12_20:09:46_PDT_2020\n",
            "    Cuda compilation tools, release 11.1, V11.1.105\n",
            "    Build cuda_11.1.TC455_06.29190527_0\n",
            "    from /usr/local/cuda/bin\n",
            "\n",
            "    Traceback (most recent call last):\n",
            "      File \"<string>\", line 1, in <module>\n",
            "      File \"/tmp/pip-req-build-cxuorwv8/setup.py\", line 189, in <module>\n",
            "        check_cuda_torch_binary_vs_bare_metal(CUDA_HOME)\n",
            "      File \"/tmp/pip-req-build-cxuorwv8/setup.py\", line 38, in check_cuda_torch_binary_vs_bare_metal\n",
            "        + \"In some cases, a minor-version mismatch will not cause later errors:  \"\n",
            "    RuntimeError: Cuda extensions are being compiled with a version of Cuda that does not match the version used to compile Pytorch binaries.  Pytorch binaries were compiled with Cuda 10.2.\n",
            "    In some cases, a minor-version mismatch will not cause later errors:  https://github.com/NVIDIA/apex/pull/323#discussion_r287021798.  You can try commenting out this check (at your own risk).\n",
            "    Running setup.py install for apex ... \u001b[?25l\u001b[?25herror\n",
            "\u001b[31mERROR: Command errored out with exit status 1: /usr/bin/python3 -u -c 'import io, os, sys, setuptools, tokenize; sys.argv[0] = '\"'\"'/tmp/pip-req-build-cxuorwv8/setup.py'\"'\"'; __file__='\"'\"'/tmp/pip-req-build-cxuorwv8/setup.py'\"'\"';f = getattr(tokenize, '\"'\"'open'\"'\"', open)(__file__) if os.path.exists(__file__) else io.StringIO('\"'\"'from setuptools import setup; setup()'\"'\"');code = f.read().replace('\"'\"'\\r\\n'\"'\"', '\"'\"'\\n'\"'\"');f.close();exec(compile(code, __file__, '\"'\"'exec'\"'\"'))' --cpp_ext --cuda_ext install --record /tmp/pip-record-wxkb2bpj/install-record.txt --single-version-externally-managed --compile --install-headers /usr/local/include/python3.7/apex Check the logs for full command output.\u001b[0m\n",
            "Exception information:\n",
            "Traceback (most recent call last):\n",
            "  File \"/usr/local/lib/python3.7/dist-packages/pip/_internal/req/req_install.py\", line 825, in install\n",
            "    req_description=str(self.req),\n",
            "  File \"/usr/local/lib/python3.7/dist-packages/pip/_internal/operations/install/legacy.py\", line 81, in install\n",
            "    raise LegacyInstallFailure\n",
            "pip._internal.operations.install.legacy.LegacyInstallFailure\n",
            "\n",
            "During handling of the above exception, another exception occurred:\n",
            "\n",
            "Traceback (most recent call last):\n",
            "  File \"/usr/local/lib/python3.7/dist-packages/pip/_internal/cli/base_command.py\", line 180, in _main\n",
            "    status = self.run(options, args)\n",
            "  File \"/usr/local/lib/python3.7/dist-packages/pip/_internal/cli/req_command.py\", line 199, in wrapper\n",
            "    return func(self, options, args)\n",
            "  File \"/usr/local/lib/python3.7/dist-packages/pip/_internal/commands/install.py\", line 402, in run\n",
            "    pycompile=options.compile,\n",
            "  File \"/usr/local/lib/python3.7/dist-packages/pip/_internal/req/__init__.py\", line 85, in install_given_reqs\n",
            "    pycompile=pycompile,\n",
            "  File \"/usr/local/lib/python3.7/dist-packages/pip/_internal/req/req_install.py\", line 829, in install\n",
            "    six.reraise(*exc.parent)\n",
            "  File \"/usr/local/lib/python3.7/dist-packages/pip/_vendor/six.py\", line 703, in reraise\n",
            "    raise value\n",
            "  File \"/usr/local/lib/python3.7/dist-packages/pip/_internal/operations/install/legacy.py\", line 71, in install\n",
            "    cwd=unpacked_source_directory,\n",
            "  File \"/usr/local/lib/python3.7/dist-packages/pip/_internal/utils/subprocess.py\", line 278, in runner\n",
            "    spinner=spinner,\n",
            "  File \"/usr/local/lib/python3.7/dist-packages/pip/_internal/utils/subprocess.py\", line 244, in call_subprocess\n",
            "    raise InstallationSubprocessError(proc.returncode, command_desc)\n",
            "pip._internal.exceptions.InstallationSubprocessError: Command errored out with exit status 1: /usr/bin/python3 -u -c 'import io, os, sys, setuptools, tokenize; sys.argv[0] = '\"'\"'/tmp/pip-req-build-cxuorwv8/setup.py'\"'\"'; __file__='\"'\"'/tmp/pip-req-build-cxuorwv8/setup.py'\"'\"';f = getattr(tokenize, '\"'\"'open'\"'\"', open)(__file__) if os.path.exists(__file__) else io.StringIO('\"'\"'from setuptools import setup; setup()'\"'\"');code = f.read().replace('\"'\"'\\r\\n'\"'\"', '\"'\"'\\n'\"'\"');f.close();exec(compile(code, __file__, '\"'\"'exec'\"'\"'))' --cpp_ext --cuda_ext install --record /tmp/pip-record-wxkb2bpj/install-record.txt --single-version-externally-managed --compile --install-headers /usr/local/include/python3.7/apex Check the logs for full command output.\n",
            "Removed build tracker: '/tmp/pip-req-tracker-3fptsqes'\n"
          ]
        }
      ],
      "source": [
        "!git clone https://github.com/NVIDIA/apex.git\n",
        "%cd apex\n",
        "!pip install -v --no-cache-dir --global-option=\"--cpp_ext\" --global-option=\"--cuda_ext\" ./"
      ]
    },
    {
      "cell_type": "code",
      "execution_count": null,
      "metadata": {
        "colab": {
          "base_uri": "https://localhost:8080/"
        },
        "id": "L7xfWixcYGLG",
        "outputId": "f4c87c01-12c9-4e1e-ee94-a4b2c4b84d43"
      },
      "outputs": [
        {
          "output_type": "stream",
          "name": "stdout",
          "text": [
            "\u001b[31mERROR: Cannot install thai2transformers==0.1.2 and transformers==3.4.0 because these package versions have conflicting dependencies.\u001b[0m\n",
            "\u001b[31mERROR: ResolutionImpossible: for help visit https://pip.pypa.io/en/latest/user_guide/#fixing-conflicting-dependencies\u001b[0m\n"
          ]
        }
      ],
      "source": [
        "# Install thai2transformer \n",
        "!pip -q install torch==1.5.0 torchtext==0.4.0 torchvision==0.6.0\n",
        "!pip -q install transformers==3.4.0 thai2transformers==0.1.2"
      ]
    },
    {
      "cell_type": "markdown",
      "metadata": {
        "id": "1VMzKOinXNUV"
      },
      "source": [
        "# **Import data**"
      ]
    },
    {
      "cell_type": "code",
      "execution_count": null,
      "metadata": {
        "id": "OAhLswfyfZLS"
      },
      "outputs": [],
      "source": [
        "import pandas as pd\n",
        "import numpy as np\n",
        "import re"
      ]
    },
    {
      "cell_type": "code",
      "execution_count": null,
      "metadata": {
        "id": "_ZnqswlYduig"
      },
      "outputs": [],
      "source": [
        "df1 = pd.read_csv('/content/drive/MyDrive/IS/Model_Real/Clean_m1.csv')\n",
        "df2 = pd.read_csv('/content/drive/MyDrive/IS/Model_Real/Clean_m2.csv')\n",
        "df3 = pd.read_csv('/content/drive/MyDrive/IS/Model_Real/Clean_m3.csv')"
      ]
    },
    {
      "cell_type": "code",
      "execution_count": null,
      "metadata": {
        "colab": {
          "base_uri": "https://localhost:8080/"
        },
        "id": "Q3Xd_HTcPTBZ",
        "outputId": "e4f77650-436e-4ada-aafd-9f0ba1cc1bf7"
      },
      "outputs": [
        {
          "output_type": "execute_result",
          "data": {
            "text/plain": [
              "Datetime      37352\n",
              "Text          37352\n",
              "CleanTweet    37352\n",
              "dtype: int64"
            ]
          },
          "metadata": {},
          "execution_count": 9
        }
      ],
      "source": [
        "df1.count()"
      ]
    },
    {
      "cell_type": "code",
      "execution_count": null,
      "metadata": {
        "colab": {
          "base_uri": "https://localhost:8080/"
        },
        "id": "2QfVnBOLRmNs",
        "outputId": "259714ab-6e01-4a00-af84-cfe6035d8f95"
      },
      "outputs": [
        {
          "output_type": "execute_result",
          "data": {
            "text/plain": [
              "Datetime      34384\n",
              "Text          34384\n",
              "CleanTweet    34384\n",
              "dtype: int64"
            ]
          },
          "metadata": {},
          "execution_count": 10
        }
      ],
      "source": [
        "df2.count()"
      ]
    },
    {
      "cell_type": "code",
      "execution_count": null,
      "metadata": {
        "colab": {
          "base_uri": "https://localhost:8080/"
        },
        "id": "hESz6dkIRmPt",
        "outputId": "88db5665-9f74-4a8c-875b-3131da007466"
      },
      "outputs": [
        {
          "output_type": "execute_result",
          "data": {
            "text/plain": [
              "Datetime      27566\n",
              "Text          27566\n",
              "CleanTweet    27566\n",
              "dtype: int64"
            ]
          },
          "metadata": {},
          "execution_count": 11
        }
      ],
      "source": [
        "df3.count()"
      ]
    },
    {
      "cell_type": "code",
      "execution_count": null,
      "metadata": {
        "id": "oxklKHe9QNFw"
      },
      "outputs": [],
      "source": [
        "df1['CleanTweet'] = df1['CleanTweet'].str.replace('\\u200b', '')\n",
        "df2['CleanTweet'] = df2['CleanTweet'].str.replace('\\u200b', '')\n",
        "df3['CleanTweet'] = df3['CleanTweet'].str.replace('\\u200b', '')"
      ]
    },
    {
      "cell_type": "markdown",
      "metadata": {
        "id": "FJXsQAp6Hjxf"
      },
      "source": [
        "# **Sentiment (Wangchanberta)**"
      ]
    },
    {
      "cell_type": "code",
      "execution_count": null,
      "metadata": {
        "id": "w2kByjBlXYxE"
      },
      "outputs": [],
      "source": [
        "from tqdm.auto import tqdm\n",
        "import torch\n",
        "\n",
        "#datasets\n",
        "from datasets import load_dataset\n",
        "\n",
        "#transformers\n",
        "from transformers import (\n",
        "    CamembertTokenizer,\n",
        "    AutoTokenizer,\n",
        "    AutoModel,\n",
        "    AutoModelForMaskedLM,\n",
        "    AutoModelForSequenceClassification,\n",
        "    AutoModelForTokenClassification,\n",
        "    TrainingArguments,\n",
        "    Trainer,\n",
        "    pipeline,\n",
        ")\n",
        "\n",
        "#thai2transformers\n",
        "import thai2transformers\n",
        "from thai2transformers.preprocess import process_transformers\n",
        "from thai2transformers.metrics import (\n",
        "    classification_metrics, \n",
        "    multilabel_classification_metrics,\n",
        ")\n",
        "from thai2transformers.tokenizers import (\n",
        "    ThaiRobertaTokenizer,\n",
        "    ThaiWordsNewmmTokenizer,\n",
        "    ThaiWordsSyllableTokenizer,\n",
        "    FakeSefrCutTokenizer,\n",
        "    SEFR_SPLIT_TOKEN\n",
        ")"
      ]
    },
    {
      "cell_type": "code",
      "execution_count": null,
      "metadata": {
        "colab": {
          "base_uri": "https://localhost:8080/",
          "height": 113,
          "referenced_widgets": [
            "197effc42b9c455cb26d55d5ca4f4d1a",
            "5cfc2072125b49d097829b8f1c04cba2",
            "4eb6dccd0e494fa1827a0528d1a800b2",
            "d2004dc0d6ef4054bb84afd4a0715c24",
            "472e901b35c04043b068b6057021227c",
            "6a11494251c04d1a92875cbcaaa7be1e",
            "d881b13f4cc249028a0dd371bbd9de0a",
            "5c85fe61d87d42a782552babfb9b64e6",
            "321cc37ce12f4ddda29548a814dcd517",
            "a70939fc055b4364b99ab70305796aa2",
            "89d8d18470ca449387aec7d03d42193f",
            "78d831532d72417ab7040a5695663fb7",
            "725031dda99a4282b72e749945652252",
            "ce733026a17f4b61978c44df340671b3",
            "7d76033362c8456fa1981e388ea9604a",
            "20167cee82544d8fb856f81560e38aa3",
            "c5a391ddc64744a59fee21221e25d620",
            "b1777ccd68954eb28e8d42ee4744de1e",
            "8cf360c5cf534ed6976966e543b4f745",
            "88eac521b3194c1c9764d54923f141fc",
            "667a585fd3844c3389af3b4ed0770e74",
            "47227e1c618a43bb8a51c58cc4c9159b",
            "998ffc80ee4f4985a0b2664caa16a7cb",
            "baa33b75160c4988a7820810a4f74eb2",
            "f6a1efbed41946b9af5fc3801a52d537",
            "57c4c057d1fc4e798a7b50cea99b8bce",
            "43964280a56949af86818b01eaa8192e",
            "9b2ec7a0979645f9a4ec4577a8f81fbf",
            "79b9affffce647e6859d4b1fc8ad6f02",
            "4cddca233a234859bb1954bd9dc470cd",
            "51a4a28503dd4f93abd3b2c7f5a25454",
            "8ccad362006b4f50bcabe8eac815fbce",
            "f0cb4cb95c224e5f96a9a475f3822681"
          ]
        },
        "id": "55OBFx6EmFbU",
        "outputId": "bef710a3-5704-43b9-a470-dc3b168922fb"
      },
      "outputs": [
        {
          "output_type": "display_data",
          "data": {
            "text/plain": [
              "Downloading:   0%|          | 0.00/546 [00:00<?, ?B/s]"
            ],
            "application/vnd.jupyter.widget-view+json": {
              "version_major": 2,
              "version_minor": 0,
              "model_id": "197effc42b9c455cb26d55d5ca4f4d1a"
            }
          },
          "metadata": {}
        },
        {
          "output_type": "display_data",
          "data": {
            "text/plain": [
              "Downloading:   0%|          | 0.00/905k [00:00<?, ?B/s]"
            ],
            "application/vnd.jupyter.widget-view+json": {
              "version_major": 2,
              "version_minor": 0,
              "model_id": "78d831532d72417ab7040a5695663fb7"
            }
          },
          "metadata": {}
        },
        {
          "output_type": "display_data",
          "data": {
            "text/plain": [
              "Downloading:   0%|          | 0.00/282 [00:00<?, ?B/s]"
            ],
            "application/vnd.jupyter.widget-view+json": {
              "version_major": 2,
              "version_minor": 0,
              "model_id": "998ffc80ee4f4985a0b2664caa16a7cb"
            }
          },
          "metadata": {}
        }
      ],
      "source": [
        "model_names = [\n",
        "    'wangchanberta-base-att-spm-uncased',\n",
        "    'xlm-roberta-base',\n",
        "    'bert-base-multilingual-cased',\n",
        "    'wangchanberta-base-wiki-newmm',\n",
        "    'wangchanberta-base-wiki-ssg',\n",
        "    'wangchanberta-base-wiki-sefr',\n",
        "    'wangchanberta-base-wiki-spm',\n",
        "]\n",
        "\n",
        "tokenizers = {\n",
        "    'wangchanberta-base-att-spm-uncased': AutoTokenizer,\n",
        "    'xlm-roberta-base': AutoTokenizer,\n",
        "    'bert-base-multilingual-cased': AutoTokenizer,\n",
        "    'wangchanberta-base-wiki-newmm': ThaiWordsNewmmTokenizer,\n",
        "    'wangchanberta-base-wiki-ssg': ThaiWordsSyllableTokenizer,\n",
        "    'wangchanberta-base-wiki-sefr': FakeSefrCutTokenizer,\n",
        "    'wangchanberta-base-wiki-spm': ThaiRobertaTokenizer,\n",
        "}\n",
        "public_models = ['xlm-roberta-base', 'bert-base-multilingual-cased'] \n",
        "#@title Choose Pretrained Model\n",
        "model_name = \"wangchanberta-base-att-spm-uncased\" #@param [\"wangchanberta-base-att-spm-uncased\", \"xlm-roberta-base\", \"bert-base-multilingual-cased\", \"wangchanberta-base-wiki-newmm\", \"wangchanberta-base-wiki-syllable\", \"wangchanberta-base-wiki-sefr\", \"wangchanberta-base-wiki-spm\"]\n",
        "\n",
        "#create tokenizer\n",
        "tokenizer = tokenizers[model_name].from_pretrained(\n",
        "                f'airesearch/{model_name}' if model_name not in public_models else f'{model_name}',\n",
        "                revision='main',\n",
        "                model_max_length=416,)"
      ]
    },
    {
      "cell_type": "code",
      "execution_count": null,
      "metadata": {
        "colab": {
          "base_uri": "https://localhost:8080/",
          "referenced_widgets": [
            "313d1d9a3b364496bddf017d303e49d9",
            "98761a9a3af44690a5bee2fc46c58d45",
            "4c6b1db17b3c45f9ac447406063387cd",
            "4f82d9ca5d974df5bdbba6e6b162c341",
            "c1bd60c0d9c346f2bde322c748e3f478",
            "6de813a7a97d4c828d9333513e17fdc4",
            "4d3db42a5ea54848a39e58a65c8917de",
            "9ae74d4cd0ca45adbe6b74c6a177652b",
            "b768b4d2eca440978b98f53f0b9a6060",
            "3efbfc26285640c1830b46db6a4ea0cb",
            "ce870576e80848fea29b75b58fadf5bc",
            "0ef9e787a78a4c84af3ea184282f5a17",
            "f81922baea744995a1cd34a37fb089df",
            "80f331b39637461fb2259cec1c63389e",
            "51ee0b4854ea4326bdf921de218f0532",
            "c98fb16a45ce4895a190fbe3ee6dc051",
            "f259f7577aab44498c98970cda123f2f",
            "f887662186d74f7790b366f44781e74a",
            "f53dc4e611c64335b849425b09be9e86",
            "306573afdd4942b0a6733ab0e7cedde1",
            "0768078e31e045a1b59cfec880d5a1b9",
            "77be580b52ba4c2583dcab4be7af6eb7",
            "8c299ccf6bb445e98b1fea273a1d1021",
            "57cb9180bc6d4422832144797dcfce0c",
            "633a7d03f1b345f0a6ff1bd5db5fc73c",
            "cf0ca0d44d5c4e669c6c7d18c5f86a04",
            "3c0923f6be594724a29556521b1a24aa",
            "a53e977f7b0941acbed6d14b234548b5",
            "466424ced53b4916b64742ac42f73c91",
            "ecc1295e68344bf4ae584fb056c85560",
            "bf931401b38a4187abfee93e364d23d8",
            "ccfe634dbebd4e958927944e7f93da62",
            "c32097017f7c411ba7ff950f6a5208ca"
          ]
        },
        "id": "EMHUUrOgmKkG",
        "outputId": "ddf3b2b5-ce53-4c94-d500-2557e4ee6513"
      },
      "outputs": [
        {
          "output_type": "display_data",
          "data": {
            "text/plain": [
              "Downloading:   0%|          | 0.00/423M [00:00<?, ?B/s]"
            ],
            "application/vnd.jupyter.widget-view+json": {
              "version_major": 2,
              "version_minor": 0,
              "model_id": "313d1d9a3b364496bddf017d303e49d9"
            }
          },
          "metadata": {}
        },
        {
          "output_type": "display_data",
          "data": {
            "text/plain": [
              "Downloading:   0%|          | 0.00/716 [00:00<?, ?B/s]"
            ],
            "application/vnd.jupyter.widget-view+json": {
              "version_major": 2,
              "version_minor": 0,
              "model_id": "0ef9e787a78a4c84af3ea184282f5a17"
            }
          },
          "metadata": {}
        },
        {
          "output_type": "display_data",
          "data": {
            "text/plain": [
              "Downloading:   0%|          | 0.00/421M [00:00<?, ?B/s]"
            ],
            "application/vnd.jupyter.widget-view+json": {
              "version_major": 2,
              "version_minor": 0,
              "model_id": "8c299ccf6bb445e98b1fea273a1d1021"
            }
          },
          "metadata": {}
        }
      ],
      "source": [
        "#@title Choose Multi-class Classification Dataset\n",
        "dataset_name = \"wisesight_sentiment\" #@param ['wisesight_sentiment','wongnai_reviews']\n",
        "\n",
        "#pipeline\n",
        "classify_multiclass = pipeline(task='sentiment-analysis',\n",
        "         tokenizer=tokenizer,\n",
        "         model = f'airesearch/{model_name}' if model_name not in public_models else f'{model_name}',\n",
        "         revision = f'finetuned@{dataset_name}')"
      ]
    },
    {
      "cell_type": "markdown",
      "metadata": {
        "id": "N8L2jp5Yy_Sj"
      },
      "source": [
        "# **Sentiment M1**"
      ]
    },
    {
      "cell_type": "code",
      "execution_count": null,
      "metadata": {
        "colab": {
          "base_uri": "https://localhost:8080/"
        },
        "id": "qeMOfMxBLAeZ",
        "outputId": "1202a1a4-952b-4170-f6a2-23e5fb32b564"
      },
      "outputs": [
        {
          "data": {
            "text/plain": [
              "37352"
            ]
          },
          "execution_count": 47,
          "metadata": {},
          "output_type": "execute_result"
        }
      ],
      "source": [
        "df1_clean = df1['CleanTweet']\n",
        "df1_clean.count()"
      ]
    },
    {
      "cell_type": "code",
      "execution_count": null,
      "metadata": {
        "colab": {
          "base_uri": "https://localhost:8080/"
        },
        "id": "tj1vWPDxK15w",
        "outputId": "6701e2c0-7e9a-40b3-a0d1-cf5b2349a9b3"
      },
      "outputs": [
        {
          "name": "stdout",
          "output_type": "stream",
          "text": [
            "25\n"
          ]
        }
      ],
      "source": [
        "#All data were divided into n sets of 1500 messages each for sentiment analysis.\n",
        "chunk_size = 1500  #chunk row size\n",
        "list_df1_clean = [list(df1_clean[i:i+chunk_size]) for i in range(0,df1_clean.shape[0],chunk_size)]\n",
        "\n",
        "n1 = len(list_df1_clean)\n",
        "print(n1)"
      ]
    },
    {
      "cell_type": "code",
      "execution_count": null,
      "metadata": {
        "id": "AVDgSSHZdO8z"
      },
      "outputs": [],
      "source": [
        "#infer\n",
        "m1_classify1 = classify_multiclass(list_df1_clean[0])\n",
        "m1_classify2 = classify_multiclass(list_df1_clean[1])\n",
        "m1_classify3 = classify_multiclass(list_df1_clean[2])\n",
        "m1_classify4 = classify_multiclass(list_df1_clean[3])\n",
        "m1_classify5 = classify_multiclass(list_df1_clean[4])"
      ]
    },
    {
      "cell_type": "code",
      "execution_count": null,
      "metadata": {
        "id": "GJVfGM0kDHwU"
      },
      "outputs": [],
      "source": [
        "#backup_m1_1\n",
        "m1_classify1_5 = [*m1_classify1, *m1_classify2, *m1_classify3, *m1_classify4, *m1_classify5]\n",
        "m1_classify1_5_df = pd.DataFrame(m1_classify1_5)\n",
        "m1_classify1_5_df.to_csv('/content/drive/MyDrive/IS/Model_Real/backup_classify/m1_classify1_5.csv', index=False, header=True)"
      ]
    },
    {
      "cell_type": "code",
      "execution_count": null,
      "metadata": {
        "id": "s1p99gfBFiY3"
      },
      "outputs": [],
      "source": [
        "m1_classify6 = classify_multiclass(list_df1_clean[5])\n",
        "m1_classify7 = classify_multiclass(list_df1_clean[6])\n",
        "m1_classify8 = classify_multiclass(list_df1_clean[7])\n",
        "m1_classify9 = classify_multiclass(list_df1_clean[8])\n",
        "m1_classify10 = classify_multiclass(list_df1_clean[9])"
      ]
    },
    {
      "cell_type": "code",
      "execution_count": null,
      "metadata": {
        "id": "P5lUf46PE-XV"
      },
      "outputs": [],
      "source": [
        "#backup_m1_2\n",
        "m1_classify6_10 = [*m1_classify6, *m1_classify7, *m1_classify8, *m1_classify9, *m1_classify10]\n",
        "m1_classify6_10_df = pd.DataFrame(m1_classify6_10)\n",
        "m1_classify6_10_df.to_csv('/content/drive/MyDrive/IS/Model_Real/backup_classify/m1_classify6_10.csv', index=False, header=True)"
      ]
    },
    {
      "cell_type": "code",
      "execution_count": null,
      "metadata": {
        "id": "0Wo4mTVRFoAO"
      },
      "outputs": [],
      "source": [
        "m1_classify11 = classify_multiclass(list_df1_clean[10])\n",
        "m1_classify12 = classify_multiclass(list_df1_clean[11])\n",
        "m1_classify13 = classify_multiclass(list_df1_clean[12])\n",
        "m1_classify14 = classify_multiclass(list_df1_clean[13])\n",
        "m1_classify15 = classify_multiclass(list_df1_clean[14])"
      ]
    },
    {
      "cell_type": "code",
      "execution_count": null,
      "metadata": {
        "id": "swkOVldeF2UI"
      },
      "outputs": [],
      "source": [
        "#backup_m1_3\n",
        "m1_classify11_15 = [*m1_classify11, *m1_classify12, *m1_classify13, *m1_classify14, *m1_classify15]\n",
        "m1_classify11_15_df = pd.DataFrame(m1_classify11_15)\n",
        "m1_classify11_15_df.to_csv('/content/drive/MyDrive/IS/Model_Real/backup_classify/m1_classify11_15.csv', index=False, header=True)"
      ]
    },
    {
      "cell_type": "code",
      "execution_count": null,
      "metadata": {
        "id": "bMHfoVjErZvC"
      },
      "outputs": [],
      "source": [
        "m1_classify16 = classify_multiclass(list_df1_clean[15])\n",
        "m1_classify17 = classify_multiclass(list_df1_clean[16])\n",
        "m1_classify18 = classify_multiclass(list_df1_clean[17])\n",
        "m1_classify19 = classify_multiclass(list_df1_clean[18])\n",
        "m1_classify20 = classify_multiclass(list_df1_clean[19])"
      ]
    },
    {
      "cell_type": "code",
      "execution_count": null,
      "metadata": {
        "id": "ym8OvTl2HH-S"
      },
      "outputs": [],
      "source": [
        "#backup_m1_4\n",
        "m1_classify16_20 = [*m1_classify16, *m1_classify17, *m1_classify18, *m1_classify19, *m1_classify20]\n",
        "m1_classify16_20_df = pd.DataFrame(m1_classify16_20)\n",
        "m1_classify16_20_df.to_csv('/content/drive/MyDrive/IS/Model_Real/backup_classify/m1_classify16_20.csv', index=False, header=True)"
      ]
    },
    {
      "cell_type": "code",
      "execution_count": null,
      "metadata": {
        "colab": {
          "background_save": true
        },
        "id": "FnYAFAsnF5CH"
      },
      "outputs": [],
      "source": [
        "m1_classify21 = classify_multiclass(list_df1_clean[20])\n",
        "m1_classify22 = classify_multiclass(list_df1_clean[21])\n",
        "m1_classify23 = classify_multiclass(list_df1_clean[22])\n",
        "m1_classify24 = classify_multiclass(list_df1_clean[23])\n",
        "m1_classify25 = classify_multiclass(list_df1_clean[24])"
      ]
    },
    {
      "cell_type": "code",
      "execution_count": null,
      "metadata": {
        "colab": {
          "background_save": true
        },
        "id": "s4KroW9YILtB"
      },
      "outputs": [],
      "source": [
        "#backup_m1_5\n",
        "m1_classify21_25 = [*m1_classify21, *m1_classify22, *m1_classify23, *m1_classify24, *m1_classify25]\n",
        "m1_classify21_25_df = pd.DataFrame(m1_classify21_25)\n",
        "m1_classify21_25_df.to_csv('/content/drive/MyDrive/IS/Model_Real/backup_classify/m1_classify21_25.csv', index=False, header=True)"
      ]
    },
    {
      "cell_type": "code",
      "execution_count": null,
      "metadata": {
        "colab": {
          "background_save": true
        },
        "id": "2ITc1MCfXIgl"
      },
      "outputs": [],
      "source": [
        "m1_classify = [*m1_classify1_5, *m1_classify6_10, *m1_classify11_15, *m1_classify16_20, *m1_classify21_25]"
      ]
    },
    {
      "cell_type": "code",
      "execution_count": null,
      "metadata": {
        "colab": {
          "background_save": true
        },
        "id": "BE44X1zDk7VQ",
        "outputId": "28374ee0-617c-45b8-b0c2-2c18f8482e09"
      },
      "outputs": [
        {
          "data": {
            "text/plain": [
              "37352"
            ]
          },
          "execution_count": null,
          "metadata": {},
          "output_type": "execute_result"
        }
      ],
      "source": [
        "len(m1_classify)"
      ]
    },
    {
      "cell_type": "code",
      "execution_count": null,
      "metadata": {
        "colab": {
          "background_save": true
        },
        "id": "9D8Txd1x1hW6"
      },
      "outputs": [],
      "source": [
        "df1_label = pd.DataFrame(m1_classify)"
      ]
    },
    {
      "cell_type": "code",
      "execution_count": null,
      "metadata": {
        "colab": {
          "background_save": true
        },
        "id": "i8IVRRwn1qqc"
      },
      "outputs": [],
      "source": [
        "df1.insert(loc=1,column='label',value=df1_label.label)\n",
        "df1.insert(loc=2,column='score',value=df1_label.score)"
      ]
    },
    {
      "cell_type": "code",
      "execution_count": null,
      "metadata": {
        "colab": {
          "background_save": true
        },
        "id": "dLjlXMR1r10q",
        "outputId": "37117e99-7a58-47ae-8f83-c3f86904dcbb"
      },
      "outputs": [
        {
          "data": {
            "text/plain": [
              "Datetime      37352\n",
              "label         37352\n",
              "score         37352\n",
              "Text          37352\n",
              "CleanTweet    37352\n",
              "dtype: int64"
            ]
          },
          "execution_count": null,
          "metadata": {},
          "output_type": "execute_result"
        }
      ],
      "source": [
        "df1.count()"
      ]
    },
    {
      "cell_type": "code",
      "execution_count": null,
      "metadata": {
        "colab": {
          "background_save": true
        },
        "id": "lKXOU81slOys",
        "outputId": "fbd7b4a0-f801-4c9e-be45-e47c25fc6f90"
      },
      "outputs": [
        {
          "data": {
            "text/html": [
              "\n",
              "  <div id=\"df-6784d78a-f61e-4ab4-8ba1-08b8b92b938b\">\n",
              "    <div class=\"colab-df-container\">\n",
              "      <div>\n",
              "<style scoped>\n",
              "    .dataframe tbody tr th:only-of-type {\n",
              "        vertical-align: middle;\n",
              "    }\n",
              "\n",
              "    .dataframe tbody tr th {\n",
              "        vertical-align: top;\n",
              "    }\n",
              "\n",
              "    .dataframe thead th {\n",
              "        text-align: right;\n",
              "    }\n",
              "</style>\n",
              "<table border=\"1\" class=\"dataframe\">\n",
              "  <thead>\n",
              "    <tr style=\"text-align: right;\">\n",
              "      <th></th>\n",
              "      <th>Datetime</th>\n",
              "      <th>label</th>\n",
              "      <th>score</th>\n",
              "      <th>Text</th>\n",
              "      <th>CleanTweet</th>\n",
              "    </tr>\n",
              "  </thead>\n",
              "  <tbody>\n",
              "    <tr>\n",
              "      <th>0</th>\n",
              "      <td>2022-01-01 00:01:09+00:00</td>\n",
              "      <td>neu</td>\n",
              "      <td>0.602003</td>\n",
              "      <td>Happy New Year 2022\\nขอให้ปีนี้มีแต่เรื่องดีๆ ...</td>\n",
              "      <td>happy&lt;_&gt;new&lt;_&gt;year&lt;_&gt;2022&lt;_&gt;ขอให้ปีนี้มีแต่เรื...</td>\n",
              "    </tr>\n",
              "    <tr>\n",
              "      <th>1</th>\n",
              "      <td>2022-01-01 00:05:23+00:00</td>\n",
              "      <td>neu</td>\n",
              "      <td>0.792513</td>\n",
              "      <td>ปีใหม่ขอรัฐบาลใหม่จ้า ขอแบบมาจากการเลือกตั้งที...</td>\n",
              "      <td>ปีใหม่ขอรัฐบาลใหม่จ้า&lt;_&gt;ขอแบบมาจากการเลือกตั้ง...</td>\n",
              "    </tr>\n",
              "    <tr>\n",
              "      <th>2</th>\n",
              "      <td>2022-01-01 00:13:06+00:00</td>\n",
              "      <td>neu</td>\n",
              "      <td>0.717748</td>\n",
              "      <td>@redbamboo16 ชัดเจน แจ่มแจ้ง เพียงแค่เรามีรัฐบ...</td>\n",
              "      <td>ชัดเจน&lt;_&gt;แจ่มแจ้ง&lt;_&gt;เพียงแค่เรามีรัฐบาลดีๆ&lt;_&gt;ไ...</td>\n",
              "    </tr>\n",
              "    <tr>\n",
              "      <th>3</th>\n",
              "      <td>2022-01-01 00:13:14+00:00</td>\n",
              "      <td>neu</td>\n",
              "      <td>0.541315</td>\n",
              "      <td>Happy new year\\n    (ปีใหม่แล้ว รัฐบาลใหม่ได้ย...</td>\n",
              "      <td>happy&lt;_&gt;new&lt;_&gt;year&lt;_&gt;(ปีใหม่แล้ว&lt;_&gt;รัฐบาลใหม่ไ...</td>\n",
              "    </tr>\n",
              "    <tr>\n",
              "      <th>4</th>\n",
              "      <td>2022-01-01 00:14:34+00:00</td>\n",
              "      <td>neu</td>\n",
              "      <td>0.729572</td>\n",
              "      <td>2022 ขอให้คนไทยได้นายกใหม่กันถ้วนหน้า มีคุณภาพ...</td>\n",
              "      <td>2022&lt;_&gt;ขอให้คนไทยได้นายกใหม่กันถ้วนหน้า&lt;_&gt;มีคุ...</td>\n",
              "    </tr>\n",
              "  </tbody>\n",
              "</table>\n",
              "</div>\n",
              "      <button class=\"colab-df-convert\" onclick=\"convertToInteractive('df-6784d78a-f61e-4ab4-8ba1-08b8b92b938b')\"\n",
              "              title=\"Convert this dataframe to an interactive table.\"\n",
              "              style=\"display:none;\">\n",
              "        \n",
              "  <svg xmlns=\"http://www.w3.org/2000/svg\" height=\"24px\"viewBox=\"0 0 24 24\"\n",
              "       width=\"24px\">\n",
              "    <path d=\"M0 0h24v24H0V0z\" fill=\"none\"/>\n",
              "    <path d=\"M18.56 5.44l.94 2.06.94-2.06 2.06-.94-2.06-.94-.94-2.06-.94 2.06-2.06.94zm-11 1L8.5 8.5l.94-2.06 2.06-.94-2.06-.94L8.5 2.5l-.94 2.06-2.06.94zm10 10l.94 2.06.94-2.06 2.06-.94-2.06-.94-.94-2.06-.94 2.06-2.06.94z\"/><path d=\"M17.41 7.96l-1.37-1.37c-.4-.4-.92-.59-1.43-.59-.52 0-1.04.2-1.43.59L10.3 9.45l-7.72 7.72c-.78.78-.78 2.05 0 2.83L4 21.41c.39.39.9.59 1.41.59.51 0 1.02-.2 1.41-.59l7.78-7.78 2.81-2.81c.8-.78.8-2.07 0-2.86zM5.41 20L4 18.59l7.72-7.72 1.47 1.35L5.41 20z\"/>\n",
              "  </svg>\n",
              "      </button>\n",
              "      \n",
              "  <style>\n",
              "    .colab-df-container {\n",
              "      display:flex;\n",
              "      flex-wrap:wrap;\n",
              "      gap: 12px;\n",
              "    }\n",
              "\n",
              "    .colab-df-convert {\n",
              "      background-color: #E8F0FE;\n",
              "      border: none;\n",
              "      border-radius: 50%;\n",
              "      cursor: pointer;\n",
              "      display: none;\n",
              "      fill: #1967D2;\n",
              "      height: 32px;\n",
              "      padding: 0 0 0 0;\n",
              "      width: 32px;\n",
              "    }\n",
              "\n",
              "    .colab-df-convert:hover {\n",
              "      background-color: #E2EBFA;\n",
              "      box-shadow: 0px 1px 2px rgba(60, 64, 67, 0.3), 0px 1px 3px 1px rgba(60, 64, 67, 0.15);\n",
              "      fill: #174EA6;\n",
              "    }\n",
              "\n",
              "    [theme=dark] .colab-df-convert {\n",
              "      background-color: #3B4455;\n",
              "      fill: #D2E3FC;\n",
              "    }\n",
              "\n",
              "    [theme=dark] .colab-df-convert:hover {\n",
              "      background-color: #434B5C;\n",
              "      box-shadow: 0px 1px 3px 1px rgba(0, 0, 0, 0.15);\n",
              "      filter: drop-shadow(0px 1px 2px rgba(0, 0, 0, 0.3));\n",
              "      fill: #FFFFFF;\n",
              "    }\n",
              "  </style>\n",
              "\n",
              "      <script>\n",
              "        const buttonEl =\n",
              "          document.querySelector('#df-6784d78a-f61e-4ab4-8ba1-08b8b92b938b button.colab-df-convert');\n",
              "        buttonEl.style.display =\n",
              "          google.colab.kernel.accessAllowed ? 'block' : 'none';\n",
              "\n",
              "        async function convertToInteractive(key) {\n",
              "          const element = document.querySelector('#df-6784d78a-f61e-4ab4-8ba1-08b8b92b938b');\n",
              "          const dataTable =\n",
              "            await google.colab.kernel.invokeFunction('convertToInteractive',\n",
              "                                                     [key], {});\n",
              "          if (!dataTable) return;\n",
              "\n",
              "          const docLinkHtml = 'Like what you see? Visit the ' +\n",
              "            '<a target=\"_blank\" href=https://colab.research.google.com/notebooks/data_table.ipynb>data table notebook</a>'\n",
              "            + ' to learn more about interactive tables.';\n",
              "          element.innerHTML = '';\n",
              "          dataTable['output_type'] = 'display_data';\n",
              "          await google.colab.output.renderOutput(dataTable, element);\n",
              "          const docLink = document.createElement('div');\n",
              "          docLink.innerHTML = docLinkHtml;\n",
              "          element.appendChild(docLink);\n",
              "        }\n",
              "      </script>\n",
              "    </div>\n",
              "  </div>\n",
              "  "
            ],
            "text/plain": [
              "                    Datetime label     score  \\\n",
              "0  2022-01-01 00:01:09+00:00   neu  0.602003   \n",
              "1  2022-01-01 00:05:23+00:00   neu  0.792513   \n",
              "2  2022-01-01 00:13:06+00:00   neu  0.717748   \n",
              "3  2022-01-01 00:13:14+00:00   neu  0.541315   \n",
              "4  2022-01-01 00:14:34+00:00   neu  0.729572   \n",
              "\n",
              "                                                Text  \\\n",
              "0  Happy New Year 2022\\nขอให้ปีนี้มีแต่เรื่องดีๆ ...   \n",
              "1  ปีใหม่ขอรัฐบาลใหม่จ้า ขอแบบมาจากการเลือกตั้งที...   \n",
              "2  @redbamboo16 ชัดเจน แจ่มแจ้ง เพียงแค่เรามีรัฐบ...   \n",
              "3  Happy new year\\n    (ปีใหม่แล้ว รัฐบาลใหม่ได้ย...   \n",
              "4  2022 ขอให้คนไทยได้นายกใหม่กันถ้วนหน้า มีคุณภาพ...   \n",
              "\n",
              "                                          CleanTweet  \n",
              "0  happy<_>new<_>year<_>2022<_>ขอให้ปีนี้มีแต่เรื...  \n",
              "1  ปีใหม่ขอรัฐบาลใหม่จ้า<_>ขอแบบมาจากการเลือกตั้ง...  \n",
              "2  ชัดเจน<_>แจ่มแจ้ง<_>เพียงแค่เรามีรัฐบาลดีๆ<_>ไ...  \n",
              "3  happy<_>new<_>year<_>(ปีใหม่แล้ว<_>รัฐบาลใหม่ไ...  \n",
              "4  2022<_>ขอให้คนไทยได้นายกใหม่กันถ้วนหน้า<_>มีคุ...  "
            ]
          },
          "execution_count": null,
          "metadata": {},
          "output_type": "execute_result"
        }
      ],
      "source": [
        "df1.head()"
      ]
    },
    {
      "cell_type": "code",
      "execution_count": null,
      "metadata": {
        "colab": {
          "background_save": true
        },
        "id": "oVY4Bv6X60qq"
      },
      "outputs": [],
      "source": [
        "df1.to_csv('/content/drive/MyDrive/IS/Model_Real/m1_classify.csv', index=False, header=True)"
      ]
    },
    {
      "cell_type": "markdown",
      "metadata": {
        "id": "OmsJFmG_3vPV"
      },
      "source": [
        "# **Sentiment M2**"
      ]
    },
    {
      "cell_type": "code",
      "execution_count": null,
      "metadata": {
        "colab": {
          "base_uri": "https://localhost:8080/"
        },
        "id": "KLgxpv5_3vPn",
        "outputId": "3192cb98-3920-47b0-e3e4-d31d123f6cf1"
      },
      "outputs": [
        {
          "output_type": "execute_result",
          "data": {
            "text/plain": [
              "34384"
            ]
          },
          "metadata": {},
          "execution_count": 13
        }
      ],
      "source": [
        "df2_clean = df2['CleanTweet']\n",
        "df2_clean.count()"
      ]
    },
    {
      "cell_type": "code",
      "execution_count": null,
      "metadata": {
        "colab": {
          "base_uri": "https://localhost:8080/"
        },
        "id": "UAK82Ql33vPo",
        "outputId": "9b03bf40-2184-4385-bde8-711d002e25ea"
      },
      "outputs": [
        {
          "output_type": "stream",
          "name": "stdout",
          "text": [
            "23\n"
          ]
        }
      ],
      "source": [
        "#All data were divided into n sets of 1500 messages each for sentiment analysis.\n",
        "chunk_size = 1500  #chunk row size\n",
        "list_df2_clean = [list(df2_clean[i:i+chunk_size]) for i in range(0,df2_clean.shape[0],chunk_size)]\n",
        "\n",
        "n2 = len(list_df2_clean)\n",
        "print(n2)"
      ]
    },
    {
      "cell_type": "code",
      "execution_count": null,
      "metadata": {
        "id": "arBuS-uQ3vPp"
      },
      "outputs": [],
      "source": [
        "#infer\n",
        "m2_classify1 = classify_multiclass(list_df2_clean[0])\n",
        "m2_classify2 = classify_multiclass(list_df2_clean[1])\n",
        "m2_classify3 = classify_multiclass(list_df2_clean[2])\n",
        "m2_classify4 = classify_multiclass(list_df2_clean[3])\n",
        "m2_classify5 = classify_multiclass(list_df2_clean[4])"
      ]
    },
    {
      "cell_type": "code",
      "execution_count": null,
      "metadata": {
        "id": "O2yj7DrO3vPp"
      },
      "outputs": [],
      "source": [
        "#backup_m2_1\n",
        "m2_classify1_5 = [*m2_classify1, *m2_classify2, *m2_classify3, *m2_classify4, *m2_classify5]\n",
        "m2_classify1_5_df = pd.DataFrame(m2_classify1_5)\n",
        "m2_classify1_5_df.to_csv('/content/drive/MyDrive/IS/Model_Real/backup_classify/m2_classify1_5.csv', index=False, header=True)"
      ]
    },
    {
      "cell_type": "code",
      "execution_count": null,
      "metadata": {
        "id": "3i--qRwg3vPp"
      },
      "outputs": [],
      "source": [
        "m2_classify6 = classify_multiclass(list_df2_clean[5])\n",
        "m2_classify7 = classify_multiclass(list_df2_clean[6])\n",
        "m2_classify8 = classify_multiclass(list_df2_clean[7])\n",
        "m2_classify9 = classify_multiclass(list_df2_clean[8])\n",
        "m2_classify10 = classify_multiclass(list_df2_clean[9])"
      ]
    },
    {
      "cell_type": "code",
      "execution_count": null,
      "metadata": {
        "id": "JuIWeVjK3vPq"
      },
      "outputs": [],
      "source": [
        "#backup_m2_2\n",
        "m2_classify6_10 = [*m2_classify6, *m2_classify7, *m2_classify8, *m2_classify9, *m2_classify10]\n",
        "m2_classify6_10_df = pd.DataFrame(m2_classify6_10)\n",
        "m2_classify6_10_df.to_csv('/content/drive/MyDrive/IS/Model_Real/backup_classify/m2_classify6_10.csv', index=False, header=True)"
      ]
    },
    {
      "cell_type": "code",
      "execution_count": null,
      "metadata": {
        "id": "rhA_nQzj3vPq"
      },
      "outputs": [],
      "source": [
        "m2_classify11 = classify_multiclass(list_df2_clean[10])\n",
        "m2_classify12 = classify_multiclass(list_df2_clean[11])\n",
        "m2_classify13 = classify_multiclass(list_df2_clean[12])\n",
        "m2_classify14 = classify_multiclass(list_df2_clean[13])\n",
        "m2_classify15 = classify_multiclass(list_df2_clean[14])"
      ]
    },
    {
      "cell_type": "code",
      "execution_count": null,
      "metadata": {
        "id": "HSKMiWX63vPr"
      },
      "outputs": [],
      "source": [
        "#backup_m2_3\n",
        "m2_classify11_15 = [*m2_classify11, *m2_classify12, *m2_classify13, *m2_classify14, *m2_classify15]\n",
        "m2_classify11_15_df = pd.DataFrame(m2_classify11_15)\n",
        "m2_classify11_15_df.to_csv('/content/drive/MyDrive/IS/Model_Real/backup_classify/m2_classify11_15.csv', index=False, header=True)"
      ]
    },
    {
      "cell_type": "code",
      "execution_count": null,
      "metadata": {
        "id": "VPzxNQaA3vPr"
      },
      "outputs": [],
      "source": [
        "m2_classify16 = classify_multiclass(list_df2_clean[15])\n",
        "m2_classify17 = classify_multiclass(list_df2_clean[16])\n",
        "m2_classify18 = classify_multiclass(list_df2_clean[17])\n",
        "m2_classify19 = classify_multiclass(list_df2_clean[18])\n",
        "m2_classify20 = classify_multiclass(list_df2_clean[19])"
      ]
    },
    {
      "cell_type": "code",
      "execution_count": null,
      "metadata": {
        "id": "PhNOTeMw3vPr"
      },
      "outputs": [],
      "source": [
        "#backup_m2_4\n",
        "m2_classify16_20 = [*m2_classify16, *m2_classify17, *m2_classify18, *m2_classify19, *m2_classify20]\n",
        "m2_classify16_20_df = pd.DataFrame(m2_classify16_20)\n",
        "m2_classify16_20_df.to_csv('/content/drive/MyDrive/IS/Model_Real/backup_classify/m2_classify16_20.csv', index=False, header=True)"
      ]
    },
    {
      "cell_type": "code",
      "execution_count": null,
      "metadata": {
        "id": "gU9Fkbt-3vPs"
      },
      "outputs": [],
      "source": [
        "m2_classify21 = classify_multiclass(list_df2_clean[20])\n",
        "m2_classify22 = classify_multiclass(list_df2_clean[21])\n",
        "m2_classify23 = classify_multiclass(list_df2_clean[22])"
      ]
    },
    {
      "cell_type": "code",
      "execution_count": null,
      "metadata": {
        "id": "o4uV2Jlb3vPs"
      },
      "outputs": [],
      "source": [
        "#backup_m2_5\n",
        "m2_classify21_23 = [*m2_classify21, *m2_classify22, *m2_classify23]\n",
        "m2_classify21_23_df = pd.DataFrame(m2_classify21_23)\n",
        "m2_classify21_23_df.to_csv('/content/drive/MyDrive/IS/Model_Real/backup_classify/m2_classify21_23.csv', index=False, header=True)"
      ]
    },
    {
      "cell_type": "code",
      "source": [
        "#session crashed while running data set 21-23\n",
        "#fix problem : use m2_classify1_5, m2_classify6_10, m2_classify11_15, m2_classify16_20 from backup\n",
        "m2_classify1_5_df = pd.read_csv('/content/drive/MyDrive/IS/Model_Real/backup_classify/m2_classify1_5.csv')\n",
        "m2_classify6_10_df = pd.read_csv('/content/drive/MyDrive/IS/Model_Real/backup_classify/m2_classify1_5.csv')\n",
        "m2_classify11_15_df = pd.read_csv('/content/drive/MyDrive/IS/Model_Real/backup_classify/m2_classify1_5.csv')\n",
        "m2_classify16_20_df = pd.read_csv('/content/drive/MyDrive/IS/Model_Real/backup_classify/m2_classify1_5.csv')\n",
        "\n",
        "m2_classify1_5 = m2_classify1_5_df.to_dict('records')\n",
        "m2_classify6_10 = m2_classify6_10_df.to_dict('records')\n",
        "m2_classify11_15 = m2_classify11_15_df.to_dict('records')\n",
        "m2_classify16_20 = m2_classify16_20_df.to_dict('records')"
      ],
      "metadata": {
        "id": "UpOO-jBp_KF0"
      },
      "execution_count": null,
      "outputs": []
    },
    {
      "cell_type": "code",
      "execution_count": null,
      "metadata": {
        "id": "OdO-hAnI3vPs"
      },
      "outputs": [],
      "source": [
        "m2_classify = [*m2_classify1_5, *m2_classify6_10, *m2_classify11_15, *m2_classify16_20, *m2_classify21_23]"
      ]
    },
    {
      "cell_type": "code",
      "execution_count": null,
      "metadata": {
        "colab": {
          "base_uri": "https://localhost:8080/"
        },
        "id": "zbQVsUfX3vPt",
        "outputId": "4b7634e9-f3f0-447a-a317-166734d67e3e"
      },
      "outputs": [
        {
          "output_type": "execute_result",
          "data": {
            "text/plain": [
              "34384"
            ]
          },
          "metadata": {},
          "execution_count": 21
        }
      ],
      "source": [
        "len(m2_classify)"
      ]
    },
    {
      "cell_type": "code",
      "execution_count": null,
      "metadata": {
        "id": "J0tgd6X63vPt"
      },
      "outputs": [],
      "source": [
        "df2_label = pd.DataFrame(m2_classify)"
      ]
    },
    {
      "cell_type": "code",
      "execution_count": null,
      "metadata": {
        "id": "mPNLN5sJ3vPu"
      },
      "outputs": [],
      "source": [
        "df2.insert(loc=1,column='label',value=df2_label.label)\n",
        "df2.insert(loc=2,column='score',value=df2_label.score)"
      ]
    },
    {
      "cell_type": "code",
      "execution_count": null,
      "metadata": {
        "id": "aK6oAoa03vPu",
        "colab": {
          "base_uri": "https://localhost:8080/"
        },
        "outputId": "49cbc993-f274-42bd-ebd6-a7587bde998d"
      },
      "outputs": [
        {
          "output_type": "execute_result",
          "data": {
            "text/plain": [
              "Datetime      34384\n",
              "label         34384\n",
              "score         34384\n",
              "Text          34384\n",
              "CleanTweet    34384\n",
              "dtype: int64"
            ]
          },
          "metadata": {},
          "execution_count": 24
        }
      ],
      "source": [
        "df2.count()"
      ]
    },
    {
      "cell_type": "code",
      "execution_count": null,
      "metadata": {
        "colab": {
          "base_uri": "https://localhost:8080/",
          "height": 206
        },
        "id": "6G0rDuez3vPu",
        "outputId": "184aac10-6cfc-4c0f-d39a-bc9bac9b0189"
      },
      "outputs": [
        {
          "output_type": "execute_result",
          "data": {
            "text/plain": [
              "                    Datetime label     score  \\\n",
              "0  2022-02-01 00:01:18+00:00   neg  0.972794   \n",
              "1  2022-02-01 00:01:58+00:00   neg  0.614448   \n",
              "2  2022-02-01 00:04:38+00:00   neg  0.706246   \n",
              "3  2022-02-01 00:08:40+00:00   neg  0.983391   \n",
              "4  2022-02-01 00:11:46+00:00   neu  0.542339   \n",
              "\n",
              "                                                Text  \\\n",
              "0  โอ้ยยยย อีเหี้ย ชีวิตที่เมืองไทย ถ้ากุยังอยุ่เ...   \n",
              "1  @ktnewsonline สังเกตนะครับ พรรคที่ชนะเลือกตั้ง...   \n",
              "2  ไปเมืองท่องเที่ยวเช่ารถเอานะ \\nไม่ต้องไปใช้หรอ...   \n",
              "3  ชาวบ้านต้องพึ่งปลัดขิกละ อีรัฐบาลช่วยไรไม่ได้ ...   \n",
              "4  @taopiphop เขารู้กันจ้า แต่เป็นนโยบายรัฐบาลนี้...   \n",
              "\n",
              "                                          CleanTweet  \n",
              "0  โอ้ย<_>อีเหี้ย<_>ชีวิตที่เมืองไทย<_>ถ้ากุยังอย...  \n",
              "1  สังเกตนะครับ<_>พรรคที่ชนะเลือกตั้งปี<_>62<_>แต...  \n",
              "2  ไปเมืองท่องเที่ยวเช่ารถเอานะ<_>ไม่ต้องไปใช้หรอ...  \n",
              "3  ชาวบ้านต้องพึ่งปลัดขิกละ<_>อีรัฐบาลช่วยไรไม่ได...  \n",
              "4  เขารู้กันจ้า<_>แต่เป็นนโยบายรัฐบาลนี้จ้า<_>เข้...  "
            ],
            "text/html": [
              "\n",
              "  <div id=\"df-40503d27-adbe-4d18-8e45-24fcbb7b03a9\">\n",
              "    <div class=\"colab-df-container\">\n",
              "      <div>\n",
              "<style scoped>\n",
              "    .dataframe tbody tr th:only-of-type {\n",
              "        vertical-align: middle;\n",
              "    }\n",
              "\n",
              "    .dataframe tbody tr th {\n",
              "        vertical-align: top;\n",
              "    }\n",
              "\n",
              "    .dataframe thead th {\n",
              "        text-align: right;\n",
              "    }\n",
              "</style>\n",
              "<table border=\"1\" class=\"dataframe\">\n",
              "  <thead>\n",
              "    <tr style=\"text-align: right;\">\n",
              "      <th></th>\n",
              "      <th>Datetime</th>\n",
              "      <th>label</th>\n",
              "      <th>score</th>\n",
              "      <th>Text</th>\n",
              "      <th>CleanTweet</th>\n",
              "    </tr>\n",
              "  </thead>\n",
              "  <tbody>\n",
              "    <tr>\n",
              "      <th>0</th>\n",
              "      <td>2022-02-01 00:01:18+00:00</td>\n",
              "      <td>neg</td>\n",
              "      <td>0.972794</td>\n",
              "      <td>โอ้ยยยย อีเหี้ย ชีวิตที่เมืองไทย ถ้ากุยังอยุ่เ...</td>\n",
              "      <td>โอ้ย&lt;_&gt;อีเหี้ย&lt;_&gt;ชีวิตที่เมืองไทย&lt;_&gt;ถ้ากุยังอย...</td>\n",
              "    </tr>\n",
              "    <tr>\n",
              "      <th>1</th>\n",
              "      <td>2022-02-01 00:01:58+00:00</td>\n",
              "      <td>neg</td>\n",
              "      <td>0.614448</td>\n",
              "      <td>@ktnewsonline สังเกตนะครับ พรรคที่ชนะเลือกตั้ง...</td>\n",
              "      <td>สังเกตนะครับ&lt;_&gt;พรรคที่ชนะเลือกตั้งปี&lt;_&gt;62&lt;_&gt;แต...</td>\n",
              "    </tr>\n",
              "    <tr>\n",
              "      <th>2</th>\n",
              "      <td>2022-02-01 00:04:38+00:00</td>\n",
              "      <td>neg</td>\n",
              "      <td>0.706246</td>\n",
              "      <td>ไปเมืองท่องเที่ยวเช่ารถเอานะ \\nไม่ต้องไปใช้หรอ...</td>\n",
              "      <td>ไปเมืองท่องเที่ยวเช่ารถเอานะ&lt;_&gt;ไม่ต้องไปใช้หรอ...</td>\n",
              "    </tr>\n",
              "    <tr>\n",
              "      <th>3</th>\n",
              "      <td>2022-02-01 00:08:40+00:00</td>\n",
              "      <td>neg</td>\n",
              "      <td>0.983391</td>\n",
              "      <td>ชาวบ้านต้องพึ่งปลัดขิกละ อีรัฐบาลช่วยไรไม่ได้ ...</td>\n",
              "      <td>ชาวบ้านต้องพึ่งปลัดขิกละ&lt;_&gt;อีรัฐบาลช่วยไรไม่ได...</td>\n",
              "    </tr>\n",
              "    <tr>\n",
              "      <th>4</th>\n",
              "      <td>2022-02-01 00:11:46+00:00</td>\n",
              "      <td>neu</td>\n",
              "      <td>0.542339</td>\n",
              "      <td>@taopiphop เขารู้กันจ้า แต่เป็นนโยบายรัฐบาลนี้...</td>\n",
              "      <td>เขารู้กันจ้า&lt;_&gt;แต่เป็นนโยบายรัฐบาลนี้จ้า&lt;_&gt;เข้...</td>\n",
              "    </tr>\n",
              "  </tbody>\n",
              "</table>\n",
              "</div>\n",
              "      <button class=\"colab-df-convert\" onclick=\"convertToInteractive('df-40503d27-adbe-4d18-8e45-24fcbb7b03a9')\"\n",
              "              title=\"Convert this dataframe to an interactive table.\"\n",
              "              style=\"display:none;\">\n",
              "        \n",
              "  <svg xmlns=\"http://www.w3.org/2000/svg\" height=\"24px\"viewBox=\"0 0 24 24\"\n",
              "       width=\"24px\">\n",
              "    <path d=\"M0 0h24v24H0V0z\" fill=\"none\"/>\n",
              "    <path d=\"M18.56 5.44l.94 2.06.94-2.06 2.06-.94-2.06-.94-.94-2.06-.94 2.06-2.06.94zm-11 1L8.5 8.5l.94-2.06 2.06-.94-2.06-.94L8.5 2.5l-.94 2.06-2.06.94zm10 10l.94 2.06.94-2.06 2.06-.94-2.06-.94-.94-2.06-.94 2.06-2.06.94z\"/><path d=\"M17.41 7.96l-1.37-1.37c-.4-.4-.92-.59-1.43-.59-.52 0-1.04.2-1.43.59L10.3 9.45l-7.72 7.72c-.78.78-.78 2.05 0 2.83L4 21.41c.39.39.9.59 1.41.59.51 0 1.02-.2 1.41-.59l7.78-7.78 2.81-2.81c.8-.78.8-2.07 0-2.86zM5.41 20L4 18.59l7.72-7.72 1.47 1.35L5.41 20z\"/>\n",
              "  </svg>\n",
              "      </button>\n",
              "      \n",
              "  <style>\n",
              "    .colab-df-container {\n",
              "      display:flex;\n",
              "      flex-wrap:wrap;\n",
              "      gap: 12px;\n",
              "    }\n",
              "\n",
              "    .colab-df-convert {\n",
              "      background-color: #E8F0FE;\n",
              "      border: none;\n",
              "      border-radius: 50%;\n",
              "      cursor: pointer;\n",
              "      display: none;\n",
              "      fill: #1967D2;\n",
              "      height: 32px;\n",
              "      padding: 0 0 0 0;\n",
              "      width: 32px;\n",
              "    }\n",
              "\n",
              "    .colab-df-convert:hover {\n",
              "      background-color: #E2EBFA;\n",
              "      box-shadow: 0px 1px 2px rgba(60, 64, 67, 0.3), 0px 1px 3px 1px rgba(60, 64, 67, 0.15);\n",
              "      fill: #174EA6;\n",
              "    }\n",
              "\n",
              "    [theme=dark] .colab-df-convert {\n",
              "      background-color: #3B4455;\n",
              "      fill: #D2E3FC;\n",
              "    }\n",
              "\n",
              "    [theme=dark] .colab-df-convert:hover {\n",
              "      background-color: #434B5C;\n",
              "      box-shadow: 0px 1px 3px 1px rgba(0, 0, 0, 0.15);\n",
              "      filter: drop-shadow(0px 1px 2px rgba(0, 0, 0, 0.3));\n",
              "      fill: #FFFFFF;\n",
              "    }\n",
              "  </style>\n",
              "\n",
              "      <script>\n",
              "        const buttonEl =\n",
              "          document.querySelector('#df-40503d27-adbe-4d18-8e45-24fcbb7b03a9 button.colab-df-convert');\n",
              "        buttonEl.style.display =\n",
              "          google.colab.kernel.accessAllowed ? 'block' : 'none';\n",
              "\n",
              "        async function convertToInteractive(key) {\n",
              "          const element = document.querySelector('#df-40503d27-adbe-4d18-8e45-24fcbb7b03a9');\n",
              "          const dataTable =\n",
              "            await google.colab.kernel.invokeFunction('convertToInteractive',\n",
              "                                                     [key], {});\n",
              "          if (!dataTable) return;\n",
              "\n",
              "          const docLinkHtml = 'Like what you see? Visit the ' +\n",
              "            '<a target=\"_blank\" href=https://colab.research.google.com/notebooks/data_table.ipynb>data table notebook</a>'\n",
              "            + ' to learn more about interactive tables.';\n",
              "          element.innerHTML = '';\n",
              "          dataTable['output_type'] = 'display_data';\n",
              "          await google.colab.output.renderOutput(dataTable, element);\n",
              "          const docLink = document.createElement('div');\n",
              "          docLink.innerHTML = docLinkHtml;\n",
              "          element.appendChild(docLink);\n",
              "        }\n",
              "      </script>\n",
              "    </div>\n",
              "  </div>\n",
              "  "
            ]
          },
          "metadata": {},
          "execution_count": 25
        }
      ],
      "source": [
        "df2.head()"
      ]
    },
    {
      "cell_type": "code",
      "execution_count": null,
      "metadata": {
        "id": "gHcuLVOm3vPu"
      },
      "outputs": [],
      "source": [
        "df2.to_csv('/content/drive/MyDrive/IS/Model_Real/m2_classify.csv', index=False, header=True)"
      ]
    },
    {
      "cell_type": "markdown",
      "metadata": {
        "id": "IkS2t7z-_R_j"
      },
      "source": [
        "# **Sentiment M3**"
      ]
    },
    {
      "cell_type": "code",
      "execution_count": null,
      "metadata": {
        "colab": {
          "base_uri": "https://localhost:8080/"
        },
        "id": "MA50z6jl_R__",
        "outputId": "251e03ae-b2e5-41f5-f10a-ca78c02cdb92"
      },
      "outputs": [
        {
          "output_type": "execute_result",
          "data": {
            "text/plain": [
              "27566"
            ]
          },
          "metadata": {},
          "execution_count": 27
        }
      ],
      "source": [
        "df3_clean = df3['CleanTweet']\n",
        "df3_clean.count()"
      ]
    },
    {
      "cell_type": "code",
      "execution_count": null,
      "metadata": {
        "colab": {
          "base_uri": "https://localhost:8080/"
        },
        "id": "fJhbzUB9_SAA",
        "outputId": "49a058d0-426c-4421-bdc1-ff2b1b395725"
      },
      "outputs": [
        {
          "output_type": "stream",
          "name": "stdout",
          "text": [
            "19\n"
          ]
        }
      ],
      "source": [
        "chunk_size = 1500  #chunk row size\n",
        "list_df3_clean = [list(df3_clean[i:i+chunk_size]) for i in range(0,df3_clean.shape[0],chunk_size)]\n",
        "\n",
        "n3 = len(list_df3_clean)\n",
        "print(n3)"
      ]
    },
    {
      "cell_type": "code",
      "execution_count": null,
      "metadata": {
        "id": "BQxE0SGj_SAA"
      },
      "outputs": [],
      "source": [
        "#infer\n",
        "m3_classify1 = classify_multiclass(list_df3_clean[0])\n",
        "m3_classify2 = classify_multiclass(list_df3_clean[1])\n",
        "m3_classify3 = classify_multiclass(list_df3_clean[2])\n",
        "m3_classify4 = classify_multiclass(list_df3_clean[3])\n",
        "m3_classify5 = classify_multiclass(list_df3_clean[4])"
      ]
    },
    {
      "cell_type": "code",
      "execution_count": null,
      "metadata": {
        "id": "w2gRqk91_SAA"
      },
      "outputs": [],
      "source": [
        "#backup_m3_1\n",
        "m3_classify1_5 = [*m3_classify1, *m3_classify2, *m3_classify3, *m3_classify4, *m3_classify5]\n",
        "m3_classify1_5_df = pd.DataFrame(m3_classify1_5)\n",
        "m3_classify1_5_df.to_csv('/content/drive/MyDrive/IS/Model_Real/backup_classify/m3_classify1_5.csv', index=False, header=True)"
      ]
    },
    {
      "cell_type": "code",
      "execution_count": null,
      "metadata": {
        "id": "xH-81Ucp_SAB"
      },
      "outputs": [],
      "source": [
        "m3_classify6 = classify_multiclass(list_df3_clean[5])\n",
        "m3_classify7 = classify_multiclass(list_df3_clean[6])\n",
        "m3_classify8 = classify_multiclass(list_df3_clean[7])\n",
        "m3_classify9 = classify_multiclass(list_df3_clean[8])\n",
        "m3_classify10 = classify_multiclass(list_df3_clean[9])"
      ]
    },
    {
      "cell_type": "code",
      "execution_count": null,
      "metadata": {
        "id": "FSclDSD3_SAB"
      },
      "outputs": [],
      "source": [
        "#backup_m3_2\n",
        "m3_classify6_10 = [*m3_classify6, *m3_classify7, *m3_classify8, *m3_classify9, *m3_classify10]\n",
        "m3_classify6_10_df = pd.DataFrame(m3_classify6_10)\n",
        "m3_classify6_10_df.to_csv('/content/drive/MyDrive/IS/Model_Real/backup_classify/m3_classify6_10.csv', index=False, header=True)"
      ]
    },
    {
      "cell_type": "code",
      "execution_count": null,
      "metadata": {
        "id": "Xpp411t7_SAB"
      },
      "outputs": [],
      "source": [
        "m3_classify11 = classify_multiclass(list_df3_clean[10])\n",
        "m3_classify12 = classify_multiclass(list_df3_clean[11])\n",
        "m3_classify13 = classify_multiclass(list_df3_clean[12])\n",
        "m3_classify14 = classify_multiclass(list_df3_clean[13])\n",
        "m3_classify15 = classify_multiclass(list_df3_clean[14])"
      ]
    },
    {
      "cell_type": "code",
      "execution_count": null,
      "metadata": {
        "id": "1YMFBUuy_SAB"
      },
      "outputs": [],
      "source": [
        "#backup_m3_3\n",
        "m3_classify11_15 = [*m3_classify11, *m3_classify12, *m3_classify13, *m3_classify14, *m3_classify15]\n",
        "m3_classify11_15_df = pd.DataFrame(m3_classify11_15)\n",
        "m3_classify11_15_df.to_csv('/content/drive/MyDrive/IS/Model_Real/backup_classify/m3_classify11_15.csv', index=False, header=True)"
      ]
    },
    {
      "cell_type": "code",
      "execution_count": null,
      "metadata": {
        "id": "iFP-WSTr_SAC"
      },
      "outputs": [],
      "source": [
        "m3_classify16 = classify_multiclass(list_df3_clean[15])\n",
        "m3_classify17 = classify_multiclass(list_df3_clean[16])\n",
        "m3_classify18 = classify_multiclass(list_df3_clean[17])\n",
        "m3_classify19 = classify_multiclass(list_df3_clean[18])"
      ]
    },
    {
      "cell_type": "code",
      "execution_count": null,
      "metadata": {
        "id": "rP2IMM23_SAC"
      },
      "outputs": [],
      "source": [
        "#backup_m3_4\n",
        "m3_classify16_19 = [*m3_classify16, *m3_classify17, *m3_classify18, *m3_classify19]\n",
        "m3_classify16_19_df = pd.DataFrame(m3_classify16_19)\n",
        "m3_classify16_19_df.to_csv('/content/drive/MyDrive/IS/Model_Real/backup_classify/m3_classify16_19.csv', index=False, header=True)"
      ]
    },
    {
      "cell_type": "code",
      "execution_count": null,
      "metadata": {
        "id": "PGX_So25_SAC"
      },
      "outputs": [],
      "source": [
        "m3_classify = [*m3_classify1_5, *m3_classify6_10, *m3_classify11_15, *m3_classify16_19]"
      ]
    },
    {
      "cell_type": "code",
      "execution_count": null,
      "metadata": {
        "colab": {
          "base_uri": "https://localhost:8080/"
        },
        "id": "YHVZNdM3_SAC",
        "outputId": "252bb4b8-1391-4c77-bfb7-9a1e51c7b165"
      },
      "outputs": [
        {
          "output_type": "execute_result",
          "data": {
            "text/plain": [
              "27566"
            ]
          },
          "metadata": {},
          "execution_count": 38
        }
      ],
      "source": [
        "len(m3_classify)"
      ]
    },
    {
      "cell_type": "code",
      "execution_count": null,
      "metadata": {
        "id": "diH3mGuY_SAD"
      },
      "outputs": [],
      "source": [
        "df3_label = pd.DataFrame(m3_classify)"
      ]
    },
    {
      "cell_type": "code",
      "execution_count": null,
      "metadata": {
        "id": "vzLYBYNs_SAD"
      },
      "outputs": [],
      "source": [
        "df3.insert(loc=1,column='label',value=df3_label.label)\n",
        "df3.insert(loc=2,column='score',value=df3_label.score)"
      ]
    },
    {
      "cell_type": "code",
      "execution_count": null,
      "metadata": {
        "id": "o8PBVMxh_SAD",
        "colab": {
          "base_uri": "https://localhost:8080/"
        },
        "outputId": "b7ef7a11-b4c7-4575-c558-2e5d256a7f7f"
      },
      "outputs": [
        {
          "output_type": "execute_result",
          "data": {
            "text/plain": [
              "Datetime      27566\n",
              "label         27566\n",
              "score         27566\n",
              "Text          27566\n",
              "CleanTweet    27566\n",
              "dtype: int64"
            ]
          },
          "metadata": {},
          "execution_count": 41
        }
      ],
      "source": [
        "df3.count()"
      ]
    },
    {
      "cell_type": "code",
      "execution_count": null,
      "metadata": {
        "colab": {
          "base_uri": "https://localhost:8080/",
          "height": 206
        },
        "id": "Rf-KbJ43_SAD",
        "outputId": "23846dc0-2e83-4927-a052-8ec971b8a311"
      },
      "outputs": [
        {
          "output_type": "execute_result",
          "data": {
            "text/plain": [
              "                    Datetime label     score  \\\n",
              "0  2022-03-01 00:00:29+00:00   neu  0.679244   \n",
              "1  2022-03-01 00:02:06+00:00   neg  0.508819   \n",
              "2  2022-03-01 00:05:53+00:00   neg  0.935615   \n",
              "3  2022-03-01 00:06:13+00:00   neu  0.736409   \n",
              "4  2022-03-01 00:12:00+00:00   neu  0.788561   \n",
              "\n",
              "                                                Text  \\\n",
              "0  @WassanaNanuam 3.ทีนี้มาแก้ตัวแบบไม่อายสุนัขว่...   \n",
              "1  ได้ยินมาว่ารัฐเริ่มเรียกเก็บภาษีย้อนหลังกันแล้...   \n",
              "2  รพ เอกชนวันนี้ ไม่ตรวจฟรี ไม่รักษาฟรีแล้ว รัฐบ...   \n",
              "3  @MatichonOnline ไม่ต้องพูดก็รู้ว่ารัฐบาลทหารจะ...   \n",
              "4  เอาจริง ๆ การที่รัฐบาลยูเครนอนุญาติให้พลเรือนช...   \n",
              "\n",
              "                                          CleanTweet  \n",
              "0  3.ทีนี้มาแก้ตัวแบบไม่อายสุนัขว่ารัฐบาลเยอรมนีเ...  \n",
              "1  ได้ยินมาว่ารัฐเริ่มเรียกเก็บภาษีย้อนหลังกันแล้...  \n",
              "2  รพ<_>เอกชนวันนี้<_>ไม่ตรวจฟรี<_>ไม่รักษาฟรีแล้...  \n",
              "3  ไม่ต้องพูดก็รู้ว่ารัฐบาลทหารจะเชียร์ใครถ้าไม่ใ...  \n",
              "4  เอาจริง<_>ๆ<_>การที่รัฐบาลยูเครนอนุญาติให้พลเร...  "
            ],
            "text/html": [
              "\n",
              "  <div id=\"df-6bb81cce-2255-43c4-8155-91469d39a730\">\n",
              "    <div class=\"colab-df-container\">\n",
              "      <div>\n",
              "<style scoped>\n",
              "    .dataframe tbody tr th:only-of-type {\n",
              "        vertical-align: middle;\n",
              "    }\n",
              "\n",
              "    .dataframe tbody tr th {\n",
              "        vertical-align: top;\n",
              "    }\n",
              "\n",
              "    .dataframe thead th {\n",
              "        text-align: right;\n",
              "    }\n",
              "</style>\n",
              "<table border=\"1\" class=\"dataframe\">\n",
              "  <thead>\n",
              "    <tr style=\"text-align: right;\">\n",
              "      <th></th>\n",
              "      <th>Datetime</th>\n",
              "      <th>label</th>\n",
              "      <th>score</th>\n",
              "      <th>Text</th>\n",
              "      <th>CleanTweet</th>\n",
              "    </tr>\n",
              "  </thead>\n",
              "  <tbody>\n",
              "    <tr>\n",
              "      <th>0</th>\n",
              "      <td>2022-03-01 00:00:29+00:00</td>\n",
              "      <td>neu</td>\n",
              "      <td>0.679244</td>\n",
              "      <td>@WassanaNanuam 3.ทีนี้มาแก้ตัวแบบไม่อายสุนัขว่...</td>\n",
              "      <td>3.ทีนี้มาแก้ตัวแบบไม่อายสุนัขว่ารัฐบาลเยอรมนีเ...</td>\n",
              "    </tr>\n",
              "    <tr>\n",
              "      <th>1</th>\n",
              "      <td>2022-03-01 00:02:06+00:00</td>\n",
              "      <td>neg</td>\n",
              "      <td>0.508819</td>\n",
              "      <td>ได้ยินมาว่ารัฐเริ่มเรียกเก็บภาษีย้อนหลังกันแล้...</td>\n",
              "      <td>ได้ยินมาว่ารัฐเริ่มเรียกเก็บภาษีย้อนหลังกันแล้...</td>\n",
              "    </tr>\n",
              "    <tr>\n",
              "      <th>2</th>\n",
              "      <td>2022-03-01 00:05:53+00:00</td>\n",
              "      <td>neg</td>\n",
              "      <td>0.935615</td>\n",
              "      <td>รพ เอกชนวันนี้ ไม่ตรวจฟรี ไม่รักษาฟรีแล้ว รัฐบ...</td>\n",
              "      <td>รพ&lt;_&gt;เอกชนวันนี้&lt;_&gt;ไม่ตรวจฟรี&lt;_&gt;ไม่รักษาฟรีแล้...</td>\n",
              "    </tr>\n",
              "    <tr>\n",
              "      <th>3</th>\n",
              "      <td>2022-03-01 00:06:13+00:00</td>\n",
              "      <td>neu</td>\n",
              "      <td>0.736409</td>\n",
              "      <td>@MatichonOnline ไม่ต้องพูดก็รู้ว่ารัฐบาลทหารจะ...</td>\n",
              "      <td>ไม่ต้องพูดก็รู้ว่ารัฐบาลทหารจะเชียร์ใครถ้าไม่ใ...</td>\n",
              "    </tr>\n",
              "    <tr>\n",
              "      <th>4</th>\n",
              "      <td>2022-03-01 00:12:00+00:00</td>\n",
              "      <td>neu</td>\n",
              "      <td>0.788561</td>\n",
              "      <td>เอาจริง ๆ การที่รัฐบาลยูเครนอนุญาติให้พลเรือนช...</td>\n",
              "      <td>เอาจริง&lt;_&gt;ๆ&lt;_&gt;การที่รัฐบาลยูเครนอนุญาติให้พลเร...</td>\n",
              "    </tr>\n",
              "  </tbody>\n",
              "</table>\n",
              "</div>\n",
              "      <button class=\"colab-df-convert\" onclick=\"convertToInteractive('df-6bb81cce-2255-43c4-8155-91469d39a730')\"\n",
              "              title=\"Convert this dataframe to an interactive table.\"\n",
              "              style=\"display:none;\">\n",
              "        \n",
              "  <svg xmlns=\"http://www.w3.org/2000/svg\" height=\"24px\"viewBox=\"0 0 24 24\"\n",
              "       width=\"24px\">\n",
              "    <path d=\"M0 0h24v24H0V0z\" fill=\"none\"/>\n",
              "    <path d=\"M18.56 5.44l.94 2.06.94-2.06 2.06-.94-2.06-.94-.94-2.06-.94 2.06-2.06.94zm-11 1L8.5 8.5l.94-2.06 2.06-.94-2.06-.94L8.5 2.5l-.94 2.06-2.06.94zm10 10l.94 2.06.94-2.06 2.06-.94-2.06-.94-.94-2.06-.94 2.06-2.06.94z\"/><path d=\"M17.41 7.96l-1.37-1.37c-.4-.4-.92-.59-1.43-.59-.52 0-1.04.2-1.43.59L10.3 9.45l-7.72 7.72c-.78.78-.78 2.05 0 2.83L4 21.41c.39.39.9.59 1.41.59.51 0 1.02-.2 1.41-.59l7.78-7.78 2.81-2.81c.8-.78.8-2.07 0-2.86zM5.41 20L4 18.59l7.72-7.72 1.47 1.35L5.41 20z\"/>\n",
              "  </svg>\n",
              "      </button>\n",
              "      \n",
              "  <style>\n",
              "    .colab-df-container {\n",
              "      display:flex;\n",
              "      flex-wrap:wrap;\n",
              "      gap: 12px;\n",
              "    }\n",
              "\n",
              "    .colab-df-convert {\n",
              "      background-color: #E8F0FE;\n",
              "      border: none;\n",
              "      border-radius: 50%;\n",
              "      cursor: pointer;\n",
              "      display: none;\n",
              "      fill: #1967D2;\n",
              "      height: 32px;\n",
              "      padding: 0 0 0 0;\n",
              "      width: 32px;\n",
              "    }\n",
              "\n",
              "    .colab-df-convert:hover {\n",
              "      background-color: #E2EBFA;\n",
              "      box-shadow: 0px 1px 2px rgba(60, 64, 67, 0.3), 0px 1px 3px 1px rgba(60, 64, 67, 0.15);\n",
              "      fill: #174EA6;\n",
              "    }\n",
              "\n",
              "    [theme=dark] .colab-df-convert {\n",
              "      background-color: #3B4455;\n",
              "      fill: #D2E3FC;\n",
              "    }\n",
              "\n",
              "    [theme=dark] .colab-df-convert:hover {\n",
              "      background-color: #434B5C;\n",
              "      box-shadow: 0px 1px 3px 1px rgba(0, 0, 0, 0.15);\n",
              "      filter: drop-shadow(0px 1px 2px rgba(0, 0, 0, 0.3));\n",
              "      fill: #FFFFFF;\n",
              "    }\n",
              "  </style>\n",
              "\n",
              "      <script>\n",
              "        const buttonEl =\n",
              "          document.querySelector('#df-6bb81cce-2255-43c4-8155-91469d39a730 button.colab-df-convert');\n",
              "        buttonEl.style.display =\n",
              "          google.colab.kernel.accessAllowed ? 'block' : 'none';\n",
              "\n",
              "        async function convertToInteractive(key) {\n",
              "          const element = document.querySelector('#df-6bb81cce-2255-43c4-8155-91469d39a730');\n",
              "          const dataTable =\n",
              "            await google.colab.kernel.invokeFunction('convertToInteractive',\n",
              "                                                     [key], {});\n",
              "          if (!dataTable) return;\n",
              "\n",
              "          const docLinkHtml = 'Like what you see? Visit the ' +\n",
              "            '<a target=\"_blank\" href=https://colab.research.google.com/notebooks/data_table.ipynb>data table notebook</a>'\n",
              "            + ' to learn more about interactive tables.';\n",
              "          element.innerHTML = '';\n",
              "          dataTable['output_type'] = 'display_data';\n",
              "          await google.colab.output.renderOutput(dataTable, element);\n",
              "          const docLink = document.createElement('div');\n",
              "          docLink.innerHTML = docLinkHtml;\n",
              "          element.appendChild(docLink);\n",
              "        }\n",
              "      </script>\n",
              "    </div>\n",
              "  </div>\n",
              "  "
            ]
          },
          "metadata": {},
          "execution_count": 42
        }
      ],
      "source": [
        "df3.head()"
      ]
    },
    {
      "cell_type": "code",
      "execution_count": null,
      "metadata": {
        "id": "hgT7O78d_SAD"
      },
      "outputs": [],
      "source": [
        "df3.to_csv('/content/drive/MyDrive/IS/Model_Real/m3_classify.csv', index=False, header=True)"
      ]
    }
  ],
  "metadata": {
    "colab": {
      "collapsed_sections": [
        "LLpRb7VNXsuQ",
        "1VMzKOinXNUV"
      ],
      "name": "Sentiment.ipynb",
      "provenance": []
    },
    "kernelspec": {
      "display_name": "Python 3",
      "name": "python3"
    },
    "language_info": {
      "name": "python"
    },
    "widgets": {
      "application/vnd.jupyter.widget-state+json": {
        "197effc42b9c455cb26d55d5ca4f4d1a": {
          "model_module": "@jupyter-widgets/controls",
          "model_name": "HBoxModel",
          "model_module_version": "1.5.0",
          "state": {
            "_dom_classes": [],
            "_model_module": "@jupyter-widgets/controls",
            "_model_module_version": "1.5.0",
            "_model_name": "HBoxModel",
            "_view_count": null,
            "_view_module": "@jupyter-widgets/controls",
            "_view_module_version": "1.5.0",
            "_view_name": "HBoxView",
            "box_style": "",
            "children": [
              "IPY_MODEL_5cfc2072125b49d097829b8f1c04cba2",
              "IPY_MODEL_4eb6dccd0e494fa1827a0528d1a800b2",
              "IPY_MODEL_d2004dc0d6ef4054bb84afd4a0715c24"
            ],
            "layout": "IPY_MODEL_472e901b35c04043b068b6057021227c"
          }
        },
        "5cfc2072125b49d097829b8f1c04cba2": {
          "model_module": "@jupyter-widgets/controls",
          "model_name": "HTMLModel",
          "model_module_version": "1.5.0",
          "state": {
            "_dom_classes": [],
            "_model_module": "@jupyter-widgets/controls",
            "_model_module_version": "1.5.0",
            "_model_name": "HTMLModel",
            "_view_count": null,
            "_view_module": "@jupyter-widgets/controls",
            "_view_module_version": "1.5.0",
            "_view_name": "HTMLView",
            "description": "",
            "description_tooltip": null,
            "layout": "IPY_MODEL_6a11494251c04d1a92875cbcaaa7be1e",
            "placeholder": "​",
            "style": "IPY_MODEL_d881b13f4cc249028a0dd371bbd9de0a",
            "value": "Downloading: 100%"
          }
        },
        "4eb6dccd0e494fa1827a0528d1a800b2": {
          "model_module": "@jupyter-widgets/controls",
          "model_name": "FloatProgressModel",
          "model_module_version": "1.5.0",
          "state": {
            "_dom_classes": [],
            "_model_module": "@jupyter-widgets/controls",
            "_model_module_version": "1.5.0",
            "_model_name": "FloatProgressModel",
            "_view_count": null,
            "_view_module": "@jupyter-widgets/controls",
            "_view_module_version": "1.5.0",
            "_view_name": "ProgressView",
            "bar_style": "success",
            "description": "",
            "description_tooltip": null,
            "layout": "IPY_MODEL_5c85fe61d87d42a782552babfb9b64e6",
            "max": 546,
            "min": 0,
            "orientation": "horizontal",
            "style": "IPY_MODEL_321cc37ce12f4ddda29548a814dcd517",
            "value": 546
          }
        },
        "d2004dc0d6ef4054bb84afd4a0715c24": {
          "model_module": "@jupyter-widgets/controls",
          "model_name": "HTMLModel",
          "model_module_version": "1.5.0",
          "state": {
            "_dom_classes": [],
            "_model_module": "@jupyter-widgets/controls",
            "_model_module_version": "1.5.0",
            "_model_name": "HTMLModel",
            "_view_count": null,
            "_view_module": "@jupyter-widgets/controls",
            "_view_module_version": "1.5.0",
            "_view_name": "HTMLView",
            "description": "",
            "description_tooltip": null,
            "layout": "IPY_MODEL_a70939fc055b4364b99ab70305796aa2",
            "placeholder": "​",
            "style": "IPY_MODEL_89d8d18470ca449387aec7d03d42193f",
            "value": " 546/546 [00:00&lt;00:00, 3.67kB/s]"
          }
        },
        "472e901b35c04043b068b6057021227c": {
          "model_module": "@jupyter-widgets/base",
          "model_name": "LayoutModel",
          "model_module_version": "1.2.0",
          "state": {
            "_model_module": "@jupyter-widgets/base",
            "_model_module_version": "1.2.0",
            "_model_name": "LayoutModel",
            "_view_count": null,
            "_view_module": "@jupyter-widgets/base",
            "_view_module_version": "1.2.0",
            "_view_name": "LayoutView",
            "align_content": null,
            "align_items": null,
            "align_self": null,
            "border": null,
            "bottom": null,
            "display": null,
            "flex": null,
            "flex_flow": null,
            "grid_area": null,
            "grid_auto_columns": null,
            "grid_auto_flow": null,
            "grid_auto_rows": null,
            "grid_column": null,
            "grid_gap": null,
            "grid_row": null,
            "grid_template_areas": null,
            "grid_template_columns": null,
            "grid_template_rows": null,
            "height": null,
            "justify_content": null,
            "justify_items": null,
            "left": null,
            "margin": null,
            "max_height": null,
            "max_width": null,
            "min_height": null,
            "min_width": null,
            "object_fit": null,
            "object_position": null,
            "order": null,
            "overflow": null,
            "overflow_x": null,
            "overflow_y": null,
            "padding": null,
            "right": null,
            "top": null,
            "visibility": null,
            "width": null
          }
        },
        "6a11494251c04d1a92875cbcaaa7be1e": {
          "model_module": "@jupyter-widgets/base",
          "model_name": "LayoutModel",
          "model_module_version": "1.2.0",
          "state": {
            "_model_module": "@jupyter-widgets/base",
            "_model_module_version": "1.2.0",
            "_model_name": "LayoutModel",
            "_view_count": null,
            "_view_module": "@jupyter-widgets/base",
            "_view_module_version": "1.2.0",
            "_view_name": "LayoutView",
            "align_content": null,
            "align_items": null,
            "align_self": null,
            "border": null,
            "bottom": null,
            "display": null,
            "flex": null,
            "flex_flow": null,
            "grid_area": null,
            "grid_auto_columns": null,
            "grid_auto_flow": null,
            "grid_auto_rows": null,
            "grid_column": null,
            "grid_gap": null,
            "grid_row": null,
            "grid_template_areas": null,
            "grid_template_columns": null,
            "grid_template_rows": null,
            "height": null,
            "justify_content": null,
            "justify_items": null,
            "left": null,
            "margin": null,
            "max_height": null,
            "max_width": null,
            "min_height": null,
            "min_width": null,
            "object_fit": null,
            "object_position": null,
            "order": null,
            "overflow": null,
            "overflow_x": null,
            "overflow_y": null,
            "padding": null,
            "right": null,
            "top": null,
            "visibility": null,
            "width": null
          }
        },
        "d881b13f4cc249028a0dd371bbd9de0a": {
          "model_module": "@jupyter-widgets/controls",
          "model_name": "DescriptionStyleModel",
          "model_module_version": "1.5.0",
          "state": {
            "_model_module": "@jupyter-widgets/controls",
            "_model_module_version": "1.5.0",
            "_model_name": "DescriptionStyleModel",
            "_view_count": null,
            "_view_module": "@jupyter-widgets/base",
            "_view_module_version": "1.2.0",
            "_view_name": "StyleView",
            "description_width": ""
          }
        },
        "5c85fe61d87d42a782552babfb9b64e6": {
          "model_module": "@jupyter-widgets/base",
          "model_name": "LayoutModel",
          "model_module_version": "1.2.0",
          "state": {
            "_model_module": "@jupyter-widgets/base",
            "_model_module_version": "1.2.0",
            "_model_name": "LayoutModel",
            "_view_count": null,
            "_view_module": "@jupyter-widgets/base",
            "_view_module_version": "1.2.0",
            "_view_name": "LayoutView",
            "align_content": null,
            "align_items": null,
            "align_self": null,
            "border": null,
            "bottom": null,
            "display": null,
            "flex": null,
            "flex_flow": null,
            "grid_area": null,
            "grid_auto_columns": null,
            "grid_auto_flow": null,
            "grid_auto_rows": null,
            "grid_column": null,
            "grid_gap": null,
            "grid_row": null,
            "grid_template_areas": null,
            "grid_template_columns": null,
            "grid_template_rows": null,
            "height": null,
            "justify_content": null,
            "justify_items": null,
            "left": null,
            "margin": null,
            "max_height": null,
            "max_width": null,
            "min_height": null,
            "min_width": null,
            "object_fit": null,
            "object_position": null,
            "order": null,
            "overflow": null,
            "overflow_x": null,
            "overflow_y": null,
            "padding": null,
            "right": null,
            "top": null,
            "visibility": null,
            "width": null
          }
        },
        "321cc37ce12f4ddda29548a814dcd517": {
          "model_module": "@jupyter-widgets/controls",
          "model_name": "ProgressStyleModel",
          "model_module_version": "1.5.0",
          "state": {
            "_model_module": "@jupyter-widgets/controls",
            "_model_module_version": "1.5.0",
            "_model_name": "ProgressStyleModel",
            "_view_count": null,
            "_view_module": "@jupyter-widgets/base",
            "_view_module_version": "1.2.0",
            "_view_name": "StyleView",
            "bar_color": null,
            "description_width": ""
          }
        },
        "a70939fc055b4364b99ab70305796aa2": {
          "model_module": "@jupyter-widgets/base",
          "model_name": "LayoutModel",
          "model_module_version": "1.2.0",
          "state": {
            "_model_module": "@jupyter-widgets/base",
            "_model_module_version": "1.2.0",
            "_model_name": "LayoutModel",
            "_view_count": null,
            "_view_module": "@jupyter-widgets/base",
            "_view_module_version": "1.2.0",
            "_view_name": "LayoutView",
            "align_content": null,
            "align_items": null,
            "align_self": null,
            "border": null,
            "bottom": null,
            "display": null,
            "flex": null,
            "flex_flow": null,
            "grid_area": null,
            "grid_auto_columns": null,
            "grid_auto_flow": null,
            "grid_auto_rows": null,
            "grid_column": null,
            "grid_gap": null,
            "grid_row": null,
            "grid_template_areas": null,
            "grid_template_columns": null,
            "grid_template_rows": null,
            "height": null,
            "justify_content": null,
            "justify_items": null,
            "left": null,
            "margin": null,
            "max_height": null,
            "max_width": null,
            "min_height": null,
            "min_width": null,
            "object_fit": null,
            "object_position": null,
            "order": null,
            "overflow": null,
            "overflow_x": null,
            "overflow_y": null,
            "padding": null,
            "right": null,
            "top": null,
            "visibility": null,
            "width": null
          }
        },
        "89d8d18470ca449387aec7d03d42193f": {
          "model_module": "@jupyter-widgets/controls",
          "model_name": "DescriptionStyleModel",
          "model_module_version": "1.5.0",
          "state": {
            "_model_module": "@jupyter-widgets/controls",
            "_model_module_version": "1.5.0",
            "_model_name": "DescriptionStyleModel",
            "_view_count": null,
            "_view_module": "@jupyter-widgets/base",
            "_view_module_version": "1.2.0",
            "_view_name": "StyleView",
            "description_width": ""
          }
        },
        "78d831532d72417ab7040a5695663fb7": {
          "model_module": "@jupyter-widgets/controls",
          "model_name": "HBoxModel",
          "model_module_version": "1.5.0",
          "state": {
            "_dom_classes": [],
            "_model_module": "@jupyter-widgets/controls",
            "_model_module_version": "1.5.0",
            "_model_name": "HBoxModel",
            "_view_count": null,
            "_view_module": "@jupyter-widgets/controls",
            "_view_module_version": "1.5.0",
            "_view_name": "HBoxView",
            "box_style": "",
            "children": [
              "IPY_MODEL_725031dda99a4282b72e749945652252",
              "IPY_MODEL_ce733026a17f4b61978c44df340671b3",
              "IPY_MODEL_7d76033362c8456fa1981e388ea9604a"
            ],
            "layout": "IPY_MODEL_20167cee82544d8fb856f81560e38aa3"
          }
        },
        "725031dda99a4282b72e749945652252": {
          "model_module": "@jupyter-widgets/controls",
          "model_name": "HTMLModel",
          "model_module_version": "1.5.0",
          "state": {
            "_dom_classes": [],
            "_model_module": "@jupyter-widgets/controls",
            "_model_module_version": "1.5.0",
            "_model_name": "HTMLModel",
            "_view_count": null,
            "_view_module": "@jupyter-widgets/controls",
            "_view_module_version": "1.5.0",
            "_view_name": "HTMLView",
            "description": "",
            "description_tooltip": null,
            "layout": "IPY_MODEL_c5a391ddc64744a59fee21221e25d620",
            "placeholder": "​",
            "style": "IPY_MODEL_b1777ccd68954eb28e8d42ee4744de1e",
            "value": "Downloading: 100%"
          }
        },
        "ce733026a17f4b61978c44df340671b3": {
          "model_module": "@jupyter-widgets/controls",
          "model_name": "FloatProgressModel",
          "model_module_version": "1.5.0",
          "state": {
            "_dom_classes": [],
            "_model_module": "@jupyter-widgets/controls",
            "_model_module_version": "1.5.0",
            "_model_name": "FloatProgressModel",
            "_view_count": null,
            "_view_module": "@jupyter-widgets/controls",
            "_view_module_version": "1.5.0",
            "_view_name": "ProgressView",
            "bar_style": "success",
            "description": "",
            "description_tooltip": null,
            "layout": "IPY_MODEL_8cf360c5cf534ed6976966e543b4f745",
            "max": 904693,
            "min": 0,
            "orientation": "horizontal",
            "style": "IPY_MODEL_88eac521b3194c1c9764d54923f141fc",
            "value": 904693
          }
        },
        "7d76033362c8456fa1981e388ea9604a": {
          "model_module": "@jupyter-widgets/controls",
          "model_name": "HTMLModel",
          "model_module_version": "1.5.0",
          "state": {
            "_dom_classes": [],
            "_model_module": "@jupyter-widgets/controls",
            "_model_module_version": "1.5.0",
            "_model_name": "HTMLModel",
            "_view_count": null,
            "_view_module": "@jupyter-widgets/controls",
            "_view_module_version": "1.5.0",
            "_view_name": "HTMLView",
            "description": "",
            "description_tooltip": null,
            "layout": "IPY_MODEL_667a585fd3844c3389af3b4ed0770e74",
            "placeholder": "​",
            "style": "IPY_MODEL_47227e1c618a43bb8a51c58cc4c9159b",
            "value": " 905k/905k [00:00&lt;00:00, 3.29MB/s]"
          }
        },
        "20167cee82544d8fb856f81560e38aa3": {
          "model_module": "@jupyter-widgets/base",
          "model_name": "LayoutModel",
          "model_module_version": "1.2.0",
          "state": {
            "_model_module": "@jupyter-widgets/base",
            "_model_module_version": "1.2.0",
            "_model_name": "LayoutModel",
            "_view_count": null,
            "_view_module": "@jupyter-widgets/base",
            "_view_module_version": "1.2.0",
            "_view_name": "LayoutView",
            "align_content": null,
            "align_items": null,
            "align_self": null,
            "border": null,
            "bottom": null,
            "display": null,
            "flex": null,
            "flex_flow": null,
            "grid_area": null,
            "grid_auto_columns": null,
            "grid_auto_flow": null,
            "grid_auto_rows": null,
            "grid_column": null,
            "grid_gap": null,
            "grid_row": null,
            "grid_template_areas": null,
            "grid_template_columns": null,
            "grid_template_rows": null,
            "height": null,
            "justify_content": null,
            "justify_items": null,
            "left": null,
            "margin": null,
            "max_height": null,
            "max_width": null,
            "min_height": null,
            "min_width": null,
            "object_fit": null,
            "object_position": null,
            "order": null,
            "overflow": null,
            "overflow_x": null,
            "overflow_y": null,
            "padding": null,
            "right": null,
            "top": null,
            "visibility": null,
            "width": null
          }
        },
        "c5a391ddc64744a59fee21221e25d620": {
          "model_module": "@jupyter-widgets/base",
          "model_name": "LayoutModel",
          "model_module_version": "1.2.0",
          "state": {
            "_model_module": "@jupyter-widgets/base",
            "_model_module_version": "1.2.0",
            "_model_name": "LayoutModel",
            "_view_count": null,
            "_view_module": "@jupyter-widgets/base",
            "_view_module_version": "1.2.0",
            "_view_name": "LayoutView",
            "align_content": null,
            "align_items": null,
            "align_self": null,
            "border": null,
            "bottom": null,
            "display": null,
            "flex": null,
            "flex_flow": null,
            "grid_area": null,
            "grid_auto_columns": null,
            "grid_auto_flow": null,
            "grid_auto_rows": null,
            "grid_column": null,
            "grid_gap": null,
            "grid_row": null,
            "grid_template_areas": null,
            "grid_template_columns": null,
            "grid_template_rows": null,
            "height": null,
            "justify_content": null,
            "justify_items": null,
            "left": null,
            "margin": null,
            "max_height": null,
            "max_width": null,
            "min_height": null,
            "min_width": null,
            "object_fit": null,
            "object_position": null,
            "order": null,
            "overflow": null,
            "overflow_x": null,
            "overflow_y": null,
            "padding": null,
            "right": null,
            "top": null,
            "visibility": null,
            "width": null
          }
        },
        "b1777ccd68954eb28e8d42ee4744de1e": {
          "model_module": "@jupyter-widgets/controls",
          "model_name": "DescriptionStyleModel",
          "model_module_version": "1.5.0",
          "state": {
            "_model_module": "@jupyter-widgets/controls",
            "_model_module_version": "1.5.0",
            "_model_name": "DescriptionStyleModel",
            "_view_count": null,
            "_view_module": "@jupyter-widgets/base",
            "_view_module_version": "1.2.0",
            "_view_name": "StyleView",
            "description_width": ""
          }
        },
        "8cf360c5cf534ed6976966e543b4f745": {
          "model_module": "@jupyter-widgets/base",
          "model_name": "LayoutModel",
          "model_module_version": "1.2.0",
          "state": {
            "_model_module": "@jupyter-widgets/base",
            "_model_module_version": "1.2.0",
            "_model_name": "LayoutModel",
            "_view_count": null,
            "_view_module": "@jupyter-widgets/base",
            "_view_module_version": "1.2.0",
            "_view_name": "LayoutView",
            "align_content": null,
            "align_items": null,
            "align_self": null,
            "border": null,
            "bottom": null,
            "display": null,
            "flex": null,
            "flex_flow": null,
            "grid_area": null,
            "grid_auto_columns": null,
            "grid_auto_flow": null,
            "grid_auto_rows": null,
            "grid_column": null,
            "grid_gap": null,
            "grid_row": null,
            "grid_template_areas": null,
            "grid_template_columns": null,
            "grid_template_rows": null,
            "height": null,
            "justify_content": null,
            "justify_items": null,
            "left": null,
            "margin": null,
            "max_height": null,
            "max_width": null,
            "min_height": null,
            "min_width": null,
            "object_fit": null,
            "object_position": null,
            "order": null,
            "overflow": null,
            "overflow_x": null,
            "overflow_y": null,
            "padding": null,
            "right": null,
            "top": null,
            "visibility": null,
            "width": null
          }
        },
        "88eac521b3194c1c9764d54923f141fc": {
          "model_module": "@jupyter-widgets/controls",
          "model_name": "ProgressStyleModel",
          "model_module_version": "1.5.0",
          "state": {
            "_model_module": "@jupyter-widgets/controls",
            "_model_module_version": "1.5.0",
            "_model_name": "ProgressStyleModel",
            "_view_count": null,
            "_view_module": "@jupyter-widgets/base",
            "_view_module_version": "1.2.0",
            "_view_name": "StyleView",
            "bar_color": null,
            "description_width": ""
          }
        },
        "667a585fd3844c3389af3b4ed0770e74": {
          "model_module": "@jupyter-widgets/base",
          "model_name": "LayoutModel",
          "model_module_version": "1.2.0",
          "state": {
            "_model_module": "@jupyter-widgets/base",
            "_model_module_version": "1.2.0",
            "_model_name": "LayoutModel",
            "_view_count": null,
            "_view_module": "@jupyter-widgets/base",
            "_view_module_version": "1.2.0",
            "_view_name": "LayoutView",
            "align_content": null,
            "align_items": null,
            "align_self": null,
            "border": null,
            "bottom": null,
            "display": null,
            "flex": null,
            "flex_flow": null,
            "grid_area": null,
            "grid_auto_columns": null,
            "grid_auto_flow": null,
            "grid_auto_rows": null,
            "grid_column": null,
            "grid_gap": null,
            "grid_row": null,
            "grid_template_areas": null,
            "grid_template_columns": null,
            "grid_template_rows": null,
            "height": null,
            "justify_content": null,
            "justify_items": null,
            "left": null,
            "margin": null,
            "max_height": null,
            "max_width": null,
            "min_height": null,
            "min_width": null,
            "object_fit": null,
            "object_position": null,
            "order": null,
            "overflow": null,
            "overflow_x": null,
            "overflow_y": null,
            "padding": null,
            "right": null,
            "top": null,
            "visibility": null,
            "width": null
          }
        },
        "47227e1c618a43bb8a51c58cc4c9159b": {
          "model_module": "@jupyter-widgets/controls",
          "model_name": "DescriptionStyleModel",
          "model_module_version": "1.5.0",
          "state": {
            "_model_module": "@jupyter-widgets/controls",
            "_model_module_version": "1.5.0",
            "_model_name": "DescriptionStyleModel",
            "_view_count": null,
            "_view_module": "@jupyter-widgets/base",
            "_view_module_version": "1.2.0",
            "_view_name": "StyleView",
            "description_width": ""
          }
        },
        "998ffc80ee4f4985a0b2664caa16a7cb": {
          "model_module": "@jupyter-widgets/controls",
          "model_name": "HBoxModel",
          "model_module_version": "1.5.0",
          "state": {
            "_dom_classes": [],
            "_model_module": "@jupyter-widgets/controls",
            "_model_module_version": "1.5.0",
            "_model_name": "HBoxModel",
            "_view_count": null,
            "_view_module": "@jupyter-widgets/controls",
            "_view_module_version": "1.5.0",
            "_view_name": "HBoxView",
            "box_style": "",
            "children": [
              "IPY_MODEL_baa33b75160c4988a7820810a4f74eb2",
              "IPY_MODEL_f6a1efbed41946b9af5fc3801a52d537",
              "IPY_MODEL_57c4c057d1fc4e798a7b50cea99b8bce"
            ],
            "layout": "IPY_MODEL_43964280a56949af86818b01eaa8192e"
          }
        },
        "baa33b75160c4988a7820810a4f74eb2": {
          "model_module": "@jupyter-widgets/controls",
          "model_name": "HTMLModel",
          "model_module_version": "1.5.0",
          "state": {
            "_dom_classes": [],
            "_model_module": "@jupyter-widgets/controls",
            "_model_module_version": "1.5.0",
            "_model_name": "HTMLModel",
            "_view_count": null,
            "_view_module": "@jupyter-widgets/controls",
            "_view_module_version": "1.5.0",
            "_view_name": "HTMLView",
            "description": "",
            "description_tooltip": null,
            "layout": "IPY_MODEL_9b2ec7a0979645f9a4ec4577a8f81fbf",
            "placeholder": "​",
            "style": "IPY_MODEL_79b9affffce647e6859d4b1fc8ad6f02",
            "value": "Downloading: 100%"
          }
        },
        "f6a1efbed41946b9af5fc3801a52d537": {
          "model_module": "@jupyter-widgets/controls",
          "model_name": "FloatProgressModel",
          "model_module_version": "1.5.0",
          "state": {
            "_dom_classes": [],
            "_model_module": "@jupyter-widgets/controls",
            "_model_module_version": "1.5.0",
            "_model_name": "FloatProgressModel",
            "_view_count": null,
            "_view_module": "@jupyter-widgets/controls",
            "_view_module_version": "1.5.0",
            "_view_name": "ProgressView",
            "bar_style": "success",
            "description": "",
            "description_tooltip": null,
            "layout": "IPY_MODEL_4cddca233a234859bb1954bd9dc470cd",
            "max": 282,
            "min": 0,
            "orientation": "horizontal",
            "style": "IPY_MODEL_51a4a28503dd4f93abd3b2c7f5a25454",
            "value": 282
          }
        },
        "57c4c057d1fc4e798a7b50cea99b8bce": {
          "model_module": "@jupyter-widgets/controls",
          "model_name": "HTMLModel",
          "model_module_version": "1.5.0",
          "state": {
            "_dom_classes": [],
            "_model_module": "@jupyter-widgets/controls",
            "_model_module_version": "1.5.0",
            "_model_name": "HTMLModel",
            "_view_count": null,
            "_view_module": "@jupyter-widgets/controls",
            "_view_module_version": "1.5.0",
            "_view_name": "HTMLView",
            "description": "",
            "description_tooltip": null,
            "layout": "IPY_MODEL_8ccad362006b4f50bcabe8eac815fbce",
            "placeholder": "​",
            "style": "IPY_MODEL_f0cb4cb95c224e5f96a9a475f3822681",
            "value": " 282/282 [00:00&lt;00:00, 2.42kB/s]"
          }
        },
        "43964280a56949af86818b01eaa8192e": {
          "model_module": "@jupyter-widgets/base",
          "model_name": "LayoutModel",
          "model_module_version": "1.2.0",
          "state": {
            "_model_module": "@jupyter-widgets/base",
            "_model_module_version": "1.2.0",
            "_model_name": "LayoutModel",
            "_view_count": null,
            "_view_module": "@jupyter-widgets/base",
            "_view_module_version": "1.2.0",
            "_view_name": "LayoutView",
            "align_content": null,
            "align_items": null,
            "align_self": null,
            "border": null,
            "bottom": null,
            "display": null,
            "flex": null,
            "flex_flow": null,
            "grid_area": null,
            "grid_auto_columns": null,
            "grid_auto_flow": null,
            "grid_auto_rows": null,
            "grid_column": null,
            "grid_gap": null,
            "grid_row": null,
            "grid_template_areas": null,
            "grid_template_columns": null,
            "grid_template_rows": null,
            "height": null,
            "justify_content": null,
            "justify_items": null,
            "left": null,
            "margin": null,
            "max_height": null,
            "max_width": null,
            "min_height": null,
            "min_width": null,
            "object_fit": null,
            "object_position": null,
            "order": null,
            "overflow": null,
            "overflow_x": null,
            "overflow_y": null,
            "padding": null,
            "right": null,
            "top": null,
            "visibility": null,
            "width": null
          }
        },
        "9b2ec7a0979645f9a4ec4577a8f81fbf": {
          "model_module": "@jupyter-widgets/base",
          "model_name": "LayoutModel",
          "model_module_version": "1.2.0",
          "state": {
            "_model_module": "@jupyter-widgets/base",
            "_model_module_version": "1.2.0",
            "_model_name": "LayoutModel",
            "_view_count": null,
            "_view_module": "@jupyter-widgets/base",
            "_view_module_version": "1.2.0",
            "_view_name": "LayoutView",
            "align_content": null,
            "align_items": null,
            "align_self": null,
            "border": null,
            "bottom": null,
            "display": null,
            "flex": null,
            "flex_flow": null,
            "grid_area": null,
            "grid_auto_columns": null,
            "grid_auto_flow": null,
            "grid_auto_rows": null,
            "grid_column": null,
            "grid_gap": null,
            "grid_row": null,
            "grid_template_areas": null,
            "grid_template_columns": null,
            "grid_template_rows": null,
            "height": null,
            "justify_content": null,
            "justify_items": null,
            "left": null,
            "margin": null,
            "max_height": null,
            "max_width": null,
            "min_height": null,
            "min_width": null,
            "object_fit": null,
            "object_position": null,
            "order": null,
            "overflow": null,
            "overflow_x": null,
            "overflow_y": null,
            "padding": null,
            "right": null,
            "top": null,
            "visibility": null,
            "width": null
          }
        },
        "79b9affffce647e6859d4b1fc8ad6f02": {
          "model_module": "@jupyter-widgets/controls",
          "model_name": "DescriptionStyleModel",
          "model_module_version": "1.5.0",
          "state": {
            "_model_module": "@jupyter-widgets/controls",
            "_model_module_version": "1.5.0",
            "_model_name": "DescriptionStyleModel",
            "_view_count": null,
            "_view_module": "@jupyter-widgets/base",
            "_view_module_version": "1.2.0",
            "_view_name": "StyleView",
            "description_width": ""
          }
        },
        "4cddca233a234859bb1954bd9dc470cd": {
          "model_module": "@jupyter-widgets/base",
          "model_name": "LayoutModel",
          "model_module_version": "1.2.0",
          "state": {
            "_model_module": "@jupyter-widgets/base",
            "_model_module_version": "1.2.0",
            "_model_name": "LayoutModel",
            "_view_count": null,
            "_view_module": "@jupyter-widgets/base",
            "_view_module_version": "1.2.0",
            "_view_name": "LayoutView",
            "align_content": null,
            "align_items": null,
            "align_self": null,
            "border": null,
            "bottom": null,
            "display": null,
            "flex": null,
            "flex_flow": null,
            "grid_area": null,
            "grid_auto_columns": null,
            "grid_auto_flow": null,
            "grid_auto_rows": null,
            "grid_column": null,
            "grid_gap": null,
            "grid_row": null,
            "grid_template_areas": null,
            "grid_template_columns": null,
            "grid_template_rows": null,
            "height": null,
            "justify_content": null,
            "justify_items": null,
            "left": null,
            "margin": null,
            "max_height": null,
            "max_width": null,
            "min_height": null,
            "min_width": null,
            "object_fit": null,
            "object_position": null,
            "order": null,
            "overflow": null,
            "overflow_x": null,
            "overflow_y": null,
            "padding": null,
            "right": null,
            "top": null,
            "visibility": null,
            "width": null
          }
        },
        "51a4a28503dd4f93abd3b2c7f5a25454": {
          "model_module": "@jupyter-widgets/controls",
          "model_name": "ProgressStyleModel",
          "model_module_version": "1.5.0",
          "state": {
            "_model_module": "@jupyter-widgets/controls",
            "_model_module_version": "1.5.0",
            "_model_name": "ProgressStyleModel",
            "_view_count": null,
            "_view_module": "@jupyter-widgets/base",
            "_view_module_version": "1.2.0",
            "_view_name": "StyleView",
            "bar_color": null,
            "description_width": ""
          }
        },
        "8ccad362006b4f50bcabe8eac815fbce": {
          "model_module": "@jupyter-widgets/base",
          "model_name": "LayoutModel",
          "model_module_version": "1.2.0",
          "state": {
            "_model_module": "@jupyter-widgets/base",
            "_model_module_version": "1.2.0",
            "_model_name": "LayoutModel",
            "_view_count": null,
            "_view_module": "@jupyter-widgets/base",
            "_view_module_version": "1.2.0",
            "_view_name": "LayoutView",
            "align_content": null,
            "align_items": null,
            "align_self": null,
            "border": null,
            "bottom": null,
            "display": null,
            "flex": null,
            "flex_flow": null,
            "grid_area": null,
            "grid_auto_columns": null,
            "grid_auto_flow": null,
            "grid_auto_rows": null,
            "grid_column": null,
            "grid_gap": null,
            "grid_row": null,
            "grid_template_areas": null,
            "grid_template_columns": null,
            "grid_template_rows": null,
            "height": null,
            "justify_content": null,
            "justify_items": null,
            "left": null,
            "margin": null,
            "max_height": null,
            "max_width": null,
            "min_height": null,
            "min_width": null,
            "object_fit": null,
            "object_position": null,
            "order": null,
            "overflow": null,
            "overflow_x": null,
            "overflow_y": null,
            "padding": null,
            "right": null,
            "top": null,
            "visibility": null,
            "width": null
          }
        },
        "f0cb4cb95c224e5f96a9a475f3822681": {
          "model_module": "@jupyter-widgets/controls",
          "model_name": "DescriptionStyleModel",
          "model_module_version": "1.5.0",
          "state": {
            "_model_module": "@jupyter-widgets/controls",
            "_model_module_version": "1.5.0",
            "_model_name": "DescriptionStyleModel",
            "_view_count": null,
            "_view_module": "@jupyter-widgets/base",
            "_view_module_version": "1.2.0",
            "_view_name": "StyleView",
            "description_width": ""
          }
        },
        "313d1d9a3b364496bddf017d303e49d9": {
          "model_module": "@jupyter-widgets/controls",
          "model_name": "HBoxModel",
          "model_module_version": "1.5.0",
          "state": {
            "_dom_classes": [],
            "_model_module": "@jupyter-widgets/controls",
            "_model_module_version": "1.5.0",
            "_model_name": "HBoxModel",
            "_view_count": null,
            "_view_module": "@jupyter-widgets/controls",
            "_view_module_version": "1.5.0",
            "_view_name": "HBoxView",
            "box_style": "",
            "children": [
              "IPY_MODEL_98761a9a3af44690a5bee2fc46c58d45",
              "IPY_MODEL_4c6b1db17b3c45f9ac447406063387cd",
              "IPY_MODEL_4f82d9ca5d974df5bdbba6e6b162c341"
            ],
            "layout": "IPY_MODEL_c1bd60c0d9c346f2bde322c748e3f478"
          }
        },
        "98761a9a3af44690a5bee2fc46c58d45": {
          "model_module": "@jupyter-widgets/controls",
          "model_name": "HTMLModel",
          "model_module_version": "1.5.0",
          "state": {
            "_dom_classes": [],
            "_model_module": "@jupyter-widgets/controls",
            "_model_module_version": "1.5.0",
            "_model_name": "HTMLModel",
            "_view_count": null,
            "_view_module": "@jupyter-widgets/controls",
            "_view_module_version": "1.5.0",
            "_view_name": "HTMLView",
            "description": "",
            "description_tooltip": null,
            "layout": "IPY_MODEL_6de813a7a97d4c828d9333513e17fdc4",
            "placeholder": "​",
            "style": "IPY_MODEL_4d3db42a5ea54848a39e58a65c8917de",
            "value": "Downloading: 100%"
          }
        },
        "4c6b1db17b3c45f9ac447406063387cd": {
          "model_module": "@jupyter-widgets/controls",
          "model_name": "FloatProgressModel",
          "model_module_version": "1.5.0",
          "state": {
            "_dom_classes": [],
            "_model_module": "@jupyter-widgets/controls",
            "_model_module_version": "1.5.0",
            "_model_name": "FloatProgressModel",
            "_view_count": null,
            "_view_module": "@jupyter-widgets/controls",
            "_view_module_version": "1.5.0",
            "_view_name": "ProgressView",
            "bar_style": "success",
            "description": "",
            "description_tooltip": null,
            "layout": "IPY_MODEL_9ae74d4cd0ca45adbe6b74c6a177652b",
            "max": 423498558,
            "min": 0,
            "orientation": "horizontal",
            "style": "IPY_MODEL_b768b4d2eca440978b98f53f0b9a6060",
            "value": 423498558
          }
        },
        "4f82d9ca5d974df5bdbba6e6b162c341": {
          "model_module": "@jupyter-widgets/controls",
          "model_name": "HTMLModel",
          "model_module_version": "1.5.0",
          "state": {
            "_dom_classes": [],
            "_model_module": "@jupyter-widgets/controls",
            "_model_module_version": "1.5.0",
            "_model_name": "HTMLModel",
            "_view_count": null,
            "_view_module": "@jupyter-widgets/controls",
            "_view_module_version": "1.5.0",
            "_view_name": "HTMLView",
            "description": "",
            "description_tooltip": null,
            "layout": "IPY_MODEL_3efbfc26285640c1830b46db6a4ea0cb",
            "placeholder": "​",
            "style": "IPY_MODEL_ce870576e80848fea29b75b58fadf5bc",
            "value": " 423M/423M [00:20&lt;00:00, 22.2MB/s]"
          }
        },
        "c1bd60c0d9c346f2bde322c748e3f478": {
          "model_module": "@jupyter-widgets/base",
          "model_name": "LayoutModel",
          "model_module_version": "1.2.0",
          "state": {
            "_model_module": "@jupyter-widgets/base",
            "_model_module_version": "1.2.0",
            "_model_name": "LayoutModel",
            "_view_count": null,
            "_view_module": "@jupyter-widgets/base",
            "_view_module_version": "1.2.0",
            "_view_name": "LayoutView",
            "align_content": null,
            "align_items": null,
            "align_self": null,
            "border": null,
            "bottom": null,
            "display": null,
            "flex": null,
            "flex_flow": null,
            "grid_area": null,
            "grid_auto_columns": null,
            "grid_auto_flow": null,
            "grid_auto_rows": null,
            "grid_column": null,
            "grid_gap": null,
            "grid_row": null,
            "grid_template_areas": null,
            "grid_template_columns": null,
            "grid_template_rows": null,
            "height": null,
            "justify_content": null,
            "justify_items": null,
            "left": null,
            "margin": null,
            "max_height": null,
            "max_width": null,
            "min_height": null,
            "min_width": null,
            "object_fit": null,
            "object_position": null,
            "order": null,
            "overflow": null,
            "overflow_x": null,
            "overflow_y": null,
            "padding": null,
            "right": null,
            "top": null,
            "visibility": null,
            "width": null
          }
        },
        "6de813a7a97d4c828d9333513e17fdc4": {
          "model_module": "@jupyter-widgets/base",
          "model_name": "LayoutModel",
          "model_module_version": "1.2.0",
          "state": {
            "_model_module": "@jupyter-widgets/base",
            "_model_module_version": "1.2.0",
            "_model_name": "LayoutModel",
            "_view_count": null,
            "_view_module": "@jupyter-widgets/base",
            "_view_module_version": "1.2.0",
            "_view_name": "LayoutView",
            "align_content": null,
            "align_items": null,
            "align_self": null,
            "border": null,
            "bottom": null,
            "display": null,
            "flex": null,
            "flex_flow": null,
            "grid_area": null,
            "grid_auto_columns": null,
            "grid_auto_flow": null,
            "grid_auto_rows": null,
            "grid_column": null,
            "grid_gap": null,
            "grid_row": null,
            "grid_template_areas": null,
            "grid_template_columns": null,
            "grid_template_rows": null,
            "height": null,
            "justify_content": null,
            "justify_items": null,
            "left": null,
            "margin": null,
            "max_height": null,
            "max_width": null,
            "min_height": null,
            "min_width": null,
            "object_fit": null,
            "object_position": null,
            "order": null,
            "overflow": null,
            "overflow_x": null,
            "overflow_y": null,
            "padding": null,
            "right": null,
            "top": null,
            "visibility": null,
            "width": null
          }
        },
        "4d3db42a5ea54848a39e58a65c8917de": {
          "model_module": "@jupyter-widgets/controls",
          "model_name": "DescriptionStyleModel",
          "model_module_version": "1.5.0",
          "state": {
            "_model_module": "@jupyter-widgets/controls",
            "_model_module_version": "1.5.0",
            "_model_name": "DescriptionStyleModel",
            "_view_count": null,
            "_view_module": "@jupyter-widgets/base",
            "_view_module_version": "1.2.0",
            "_view_name": "StyleView",
            "description_width": ""
          }
        },
        "9ae74d4cd0ca45adbe6b74c6a177652b": {
          "model_module": "@jupyter-widgets/base",
          "model_name": "LayoutModel",
          "model_module_version": "1.2.0",
          "state": {
            "_model_module": "@jupyter-widgets/base",
            "_model_module_version": "1.2.0",
            "_model_name": "LayoutModel",
            "_view_count": null,
            "_view_module": "@jupyter-widgets/base",
            "_view_module_version": "1.2.0",
            "_view_name": "LayoutView",
            "align_content": null,
            "align_items": null,
            "align_self": null,
            "border": null,
            "bottom": null,
            "display": null,
            "flex": null,
            "flex_flow": null,
            "grid_area": null,
            "grid_auto_columns": null,
            "grid_auto_flow": null,
            "grid_auto_rows": null,
            "grid_column": null,
            "grid_gap": null,
            "grid_row": null,
            "grid_template_areas": null,
            "grid_template_columns": null,
            "grid_template_rows": null,
            "height": null,
            "justify_content": null,
            "justify_items": null,
            "left": null,
            "margin": null,
            "max_height": null,
            "max_width": null,
            "min_height": null,
            "min_width": null,
            "object_fit": null,
            "object_position": null,
            "order": null,
            "overflow": null,
            "overflow_x": null,
            "overflow_y": null,
            "padding": null,
            "right": null,
            "top": null,
            "visibility": null,
            "width": null
          }
        },
        "b768b4d2eca440978b98f53f0b9a6060": {
          "model_module": "@jupyter-widgets/controls",
          "model_name": "ProgressStyleModel",
          "model_module_version": "1.5.0",
          "state": {
            "_model_module": "@jupyter-widgets/controls",
            "_model_module_version": "1.5.0",
            "_model_name": "ProgressStyleModel",
            "_view_count": null,
            "_view_module": "@jupyter-widgets/base",
            "_view_module_version": "1.2.0",
            "_view_name": "StyleView",
            "bar_color": null,
            "description_width": ""
          }
        },
        "3efbfc26285640c1830b46db6a4ea0cb": {
          "model_module": "@jupyter-widgets/base",
          "model_name": "LayoutModel",
          "model_module_version": "1.2.0",
          "state": {
            "_model_module": "@jupyter-widgets/base",
            "_model_module_version": "1.2.0",
            "_model_name": "LayoutModel",
            "_view_count": null,
            "_view_module": "@jupyter-widgets/base",
            "_view_module_version": "1.2.0",
            "_view_name": "LayoutView",
            "align_content": null,
            "align_items": null,
            "align_self": null,
            "border": null,
            "bottom": null,
            "display": null,
            "flex": null,
            "flex_flow": null,
            "grid_area": null,
            "grid_auto_columns": null,
            "grid_auto_flow": null,
            "grid_auto_rows": null,
            "grid_column": null,
            "grid_gap": null,
            "grid_row": null,
            "grid_template_areas": null,
            "grid_template_columns": null,
            "grid_template_rows": null,
            "height": null,
            "justify_content": null,
            "justify_items": null,
            "left": null,
            "margin": null,
            "max_height": null,
            "max_width": null,
            "min_height": null,
            "min_width": null,
            "object_fit": null,
            "object_position": null,
            "order": null,
            "overflow": null,
            "overflow_x": null,
            "overflow_y": null,
            "padding": null,
            "right": null,
            "top": null,
            "visibility": null,
            "width": null
          }
        },
        "ce870576e80848fea29b75b58fadf5bc": {
          "model_module": "@jupyter-widgets/controls",
          "model_name": "DescriptionStyleModel",
          "model_module_version": "1.5.0",
          "state": {
            "_model_module": "@jupyter-widgets/controls",
            "_model_module_version": "1.5.0",
            "_model_name": "DescriptionStyleModel",
            "_view_count": null,
            "_view_module": "@jupyter-widgets/base",
            "_view_module_version": "1.2.0",
            "_view_name": "StyleView",
            "description_width": ""
          }
        },
        "0ef9e787a78a4c84af3ea184282f5a17": {
          "model_module": "@jupyter-widgets/controls",
          "model_name": "HBoxModel",
          "model_module_version": "1.5.0",
          "state": {
            "_dom_classes": [],
            "_model_module": "@jupyter-widgets/controls",
            "_model_module_version": "1.5.0",
            "_model_name": "HBoxModel",
            "_view_count": null,
            "_view_module": "@jupyter-widgets/controls",
            "_view_module_version": "1.5.0",
            "_view_name": "HBoxView",
            "box_style": "",
            "children": [
              "IPY_MODEL_f81922baea744995a1cd34a37fb089df",
              "IPY_MODEL_80f331b39637461fb2259cec1c63389e",
              "IPY_MODEL_51ee0b4854ea4326bdf921de218f0532"
            ],
            "layout": "IPY_MODEL_c98fb16a45ce4895a190fbe3ee6dc051"
          }
        },
        "f81922baea744995a1cd34a37fb089df": {
          "model_module": "@jupyter-widgets/controls",
          "model_name": "HTMLModel",
          "model_module_version": "1.5.0",
          "state": {
            "_dom_classes": [],
            "_model_module": "@jupyter-widgets/controls",
            "_model_module_version": "1.5.0",
            "_model_name": "HTMLModel",
            "_view_count": null,
            "_view_module": "@jupyter-widgets/controls",
            "_view_module_version": "1.5.0",
            "_view_name": "HTMLView",
            "description": "",
            "description_tooltip": null,
            "layout": "IPY_MODEL_f259f7577aab44498c98970cda123f2f",
            "placeholder": "​",
            "style": "IPY_MODEL_f887662186d74f7790b366f44781e74a",
            "value": "Downloading: 100%"
          }
        },
        "80f331b39637461fb2259cec1c63389e": {
          "model_module": "@jupyter-widgets/controls",
          "model_name": "FloatProgressModel",
          "model_module_version": "1.5.0",
          "state": {
            "_dom_classes": [],
            "_model_module": "@jupyter-widgets/controls",
            "_model_module_version": "1.5.0",
            "_model_name": "FloatProgressModel",
            "_view_count": null,
            "_view_module": "@jupyter-widgets/controls",
            "_view_module_version": "1.5.0",
            "_view_name": "ProgressView",
            "bar_style": "success",
            "description": "",
            "description_tooltip": null,
            "layout": "IPY_MODEL_f53dc4e611c64335b849425b09be9e86",
            "max": 716,
            "min": 0,
            "orientation": "horizontal",
            "style": "IPY_MODEL_306573afdd4942b0a6733ab0e7cedde1",
            "value": 716
          }
        },
        "51ee0b4854ea4326bdf921de218f0532": {
          "model_module": "@jupyter-widgets/controls",
          "model_name": "HTMLModel",
          "model_module_version": "1.5.0",
          "state": {
            "_dom_classes": [],
            "_model_module": "@jupyter-widgets/controls",
            "_model_module_version": "1.5.0",
            "_model_name": "HTMLModel",
            "_view_count": null,
            "_view_module": "@jupyter-widgets/controls",
            "_view_module_version": "1.5.0",
            "_view_name": "HTMLView",
            "description": "",
            "description_tooltip": null,
            "layout": "IPY_MODEL_0768078e31e045a1b59cfec880d5a1b9",
            "placeholder": "​",
            "style": "IPY_MODEL_77be580b52ba4c2583dcab4be7af6eb7",
            "value": " 716/716 [00:00&lt;00:00, 16.9kB/s]"
          }
        },
        "c98fb16a45ce4895a190fbe3ee6dc051": {
          "model_module": "@jupyter-widgets/base",
          "model_name": "LayoutModel",
          "model_module_version": "1.2.0",
          "state": {
            "_model_module": "@jupyter-widgets/base",
            "_model_module_version": "1.2.0",
            "_model_name": "LayoutModel",
            "_view_count": null,
            "_view_module": "@jupyter-widgets/base",
            "_view_module_version": "1.2.0",
            "_view_name": "LayoutView",
            "align_content": null,
            "align_items": null,
            "align_self": null,
            "border": null,
            "bottom": null,
            "display": null,
            "flex": null,
            "flex_flow": null,
            "grid_area": null,
            "grid_auto_columns": null,
            "grid_auto_flow": null,
            "grid_auto_rows": null,
            "grid_column": null,
            "grid_gap": null,
            "grid_row": null,
            "grid_template_areas": null,
            "grid_template_columns": null,
            "grid_template_rows": null,
            "height": null,
            "justify_content": null,
            "justify_items": null,
            "left": null,
            "margin": null,
            "max_height": null,
            "max_width": null,
            "min_height": null,
            "min_width": null,
            "object_fit": null,
            "object_position": null,
            "order": null,
            "overflow": null,
            "overflow_x": null,
            "overflow_y": null,
            "padding": null,
            "right": null,
            "top": null,
            "visibility": null,
            "width": null
          }
        },
        "f259f7577aab44498c98970cda123f2f": {
          "model_module": "@jupyter-widgets/base",
          "model_name": "LayoutModel",
          "model_module_version": "1.2.0",
          "state": {
            "_model_module": "@jupyter-widgets/base",
            "_model_module_version": "1.2.0",
            "_model_name": "LayoutModel",
            "_view_count": null,
            "_view_module": "@jupyter-widgets/base",
            "_view_module_version": "1.2.0",
            "_view_name": "LayoutView",
            "align_content": null,
            "align_items": null,
            "align_self": null,
            "border": null,
            "bottom": null,
            "display": null,
            "flex": null,
            "flex_flow": null,
            "grid_area": null,
            "grid_auto_columns": null,
            "grid_auto_flow": null,
            "grid_auto_rows": null,
            "grid_column": null,
            "grid_gap": null,
            "grid_row": null,
            "grid_template_areas": null,
            "grid_template_columns": null,
            "grid_template_rows": null,
            "height": null,
            "justify_content": null,
            "justify_items": null,
            "left": null,
            "margin": null,
            "max_height": null,
            "max_width": null,
            "min_height": null,
            "min_width": null,
            "object_fit": null,
            "object_position": null,
            "order": null,
            "overflow": null,
            "overflow_x": null,
            "overflow_y": null,
            "padding": null,
            "right": null,
            "top": null,
            "visibility": null,
            "width": null
          }
        },
        "f887662186d74f7790b366f44781e74a": {
          "model_module": "@jupyter-widgets/controls",
          "model_name": "DescriptionStyleModel",
          "model_module_version": "1.5.0",
          "state": {
            "_model_module": "@jupyter-widgets/controls",
            "_model_module_version": "1.5.0",
            "_model_name": "DescriptionStyleModel",
            "_view_count": null,
            "_view_module": "@jupyter-widgets/base",
            "_view_module_version": "1.2.0",
            "_view_name": "StyleView",
            "description_width": ""
          }
        },
        "f53dc4e611c64335b849425b09be9e86": {
          "model_module": "@jupyter-widgets/base",
          "model_name": "LayoutModel",
          "model_module_version": "1.2.0",
          "state": {
            "_model_module": "@jupyter-widgets/base",
            "_model_module_version": "1.2.0",
            "_model_name": "LayoutModel",
            "_view_count": null,
            "_view_module": "@jupyter-widgets/base",
            "_view_module_version": "1.2.0",
            "_view_name": "LayoutView",
            "align_content": null,
            "align_items": null,
            "align_self": null,
            "border": null,
            "bottom": null,
            "display": null,
            "flex": null,
            "flex_flow": null,
            "grid_area": null,
            "grid_auto_columns": null,
            "grid_auto_flow": null,
            "grid_auto_rows": null,
            "grid_column": null,
            "grid_gap": null,
            "grid_row": null,
            "grid_template_areas": null,
            "grid_template_columns": null,
            "grid_template_rows": null,
            "height": null,
            "justify_content": null,
            "justify_items": null,
            "left": null,
            "margin": null,
            "max_height": null,
            "max_width": null,
            "min_height": null,
            "min_width": null,
            "object_fit": null,
            "object_position": null,
            "order": null,
            "overflow": null,
            "overflow_x": null,
            "overflow_y": null,
            "padding": null,
            "right": null,
            "top": null,
            "visibility": null,
            "width": null
          }
        },
        "306573afdd4942b0a6733ab0e7cedde1": {
          "model_module": "@jupyter-widgets/controls",
          "model_name": "ProgressStyleModel",
          "model_module_version": "1.5.0",
          "state": {
            "_model_module": "@jupyter-widgets/controls",
            "_model_module_version": "1.5.0",
            "_model_name": "ProgressStyleModel",
            "_view_count": null,
            "_view_module": "@jupyter-widgets/base",
            "_view_module_version": "1.2.0",
            "_view_name": "StyleView",
            "bar_color": null,
            "description_width": ""
          }
        },
        "0768078e31e045a1b59cfec880d5a1b9": {
          "model_module": "@jupyter-widgets/base",
          "model_name": "LayoutModel",
          "model_module_version": "1.2.0",
          "state": {
            "_model_module": "@jupyter-widgets/base",
            "_model_module_version": "1.2.0",
            "_model_name": "LayoutModel",
            "_view_count": null,
            "_view_module": "@jupyter-widgets/base",
            "_view_module_version": "1.2.0",
            "_view_name": "LayoutView",
            "align_content": null,
            "align_items": null,
            "align_self": null,
            "border": null,
            "bottom": null,
            "display": null,
            "flex": null,
            "flex_flow": null,
            "grid_area": null,
            "grid_auto_columns": null,
            "grid_auto_flow": null,
            "grid_auto_rows": null,
            "grid_column": null,
            "grid_gap": null,
            "grid_row": null,
            "grid_template_areas": null,
            "grid_template_columns": null,
            "grid_template_rows": null,
            "height": null,
            "justify_content": null,
            "justify_items": null,
            "left": null,
            "margin": null,
            "max_height": null,
            "max_width": null,
            "min_height": null,
            "min_width": null,
            "object_fit": null,
            "object_position": null,
            "order": null,
            "overflow": null,
            "overflow_x": null,
            "overflow_y": null,
            "padding": null,
            "right": null,
            "top": null,
            "visibility": null,
            "width": null
          }
        },
        "77be580b52ba4c2583dcab4be7af6eb7": {
          "model_module": "@jupyter-widgets/controls",
          "model_name": "DescriptionStyleModel",
          "model_module_version": "1.5.0",
          "state": {
            "_model_module": "@jupyter-widgets/controls",
            "_model_module_version": "1.5.0",
            "_model_name": "DescriptionStyleModel",
            "_view_count": null,
            "_view_module": "@jupyter-widgets/base",
            "_view_module_version": "1.2.0",
            "_view_name": "StyleView",
            "description_width": ""
          }
        },
        "8c299ccf6bb445e98b1fea273a1d1021": {
          "model_module": "@jupyter-widgets/controls",
          "model_name": "HBoxModel",
          "model_module_version": "1.5.0",
          "state": {
            "_dom_classes": [],
            "_model_module": "@jupyter-widgets/controls",
            "_model_module_version": "1.5.0",
            "_model_name": "HBoxModel",
            "_view_count": null,
            "_view_module": "@jupyter-widgets/controls",
            "_view_module_version": "1.5.0",
            "_view_name": "HBoxView",
            "box_style": "",
            "children": [
              "IPY_MODEL_57cb9180bc6d4422832144797dcfce0c",
              "IPY_MODEL_633a7d03f1b345f0a6ff1bd5db5fc73c",
              "IPY_MODEL_cf0ca0d44d5c4e669c6c7d18c5f86a04"
            ],
            "layout": "IPY_MODEL_3c0923f6be594724a29556521b1a24aa"
          }
        },
        "57cb9180bc6d4422832144797dcfce0c": {
          "model_module": "@jupyter-widgets/controls",
          "model_name": "HTMLModel",
          "model_module_version": "1.5.0",
          "state": {
            "_dom_classes": [],
            "_model_module": "@jupyter-widgets/controls",
            "_model_module_version": "1.5.0",
            "_model_name": "HTMLModel",
            "_view_count": null,
            "_view_module": "@jupyter-widgets/controls",
            "_view_module_version": "1.5.0",
            "_view_name": "HTMLView",
            "description": "",
            "description_tooltip": null,
            "layout": "IPY_MODEL_a53e977f7b0941acbed6d14b234548b5",
            "placeholder": "​",
            "style": "IPY_MODEL_466424ced53b4916b64742ac42f73c91",
            "value": "Downloading: 100%"
          }
        },
        "633a7d03f1b345f0a6ff1bd5db5fc73c": {
          "model_module": "@jupyter-widgets/controls",
          "model_name": "FloatProgressModel",
          "model_module_version": "1.5.0",
          "state": {
            "_dom_classes": [],
            "_model_module": "@jupyter-widgets/controls",
            "_model_module_version": "1.5.0",
            "_model_name": "FloatProgressModel",
            "_view_count": null,
            "_view_module": "@jupyter-widgets/controls",
            "_view_module_version": "1.5.0",
            "_view_name": "ProgressView",
            "bar_style": "success",
            "description": "",
            "description_tooltip": null,
            "layout": "IPY_MODEL_ecc1295e68344bf4ae584fb056c85560",
            "max": 421045754,
            "min": 0,
            "orientation": "horizontal",
            "style": "IPY_MODEL_bf931401b38a4187abfee93e364d23d8",
            "value": 421045754
          }
        },
        "cf0ca0d44d5c4e669c6c7d18c5f86a04": {
          "model_module": "@jupyter-widgets/controls",
          "model_name": "HTMLModel",
          "model_module_version": "1.5.0",
          "state": {
            "_dom_classes": [],
            "_model_module": "@jupyter-widgets/controls",
            "_model_module_version": "1.5.0",
            "_model_name": "HTMLModel",
            "_view_count": null,
            "_view_module": "@jupyter-widgets/controls",
            "_view_module_version": "1.5.0",
            "_view_name": "HTMLView",
            "description": "",
            "description_tooltip": null,
            "layout": "IPY_MODEL_ccfe634dbebd4e958927944e7f93da62",
            "placeholder": "​",
            "style": "IPY_MODEL_c32097017f7c411ba7ff950f6a5208ca",
            "value": " 421M/421M [00:08&lt;00:00, 47.1MB/s]"
          }
        },
        "3c0923f6be594724a29556521b1a24aa": {
          "model_module": "@jupyter-widgets/base",
          "model_name": "LayoutModel",
          "model_module_version": "1.2.0",
          "state": {
            "_model_module": "@jupyter-widgets/base",
            "_model_module_version": "1.2.0",
            "_model_name": "LayoutModel",
            "_view_count": null,
            "_view_module": "@jupyter-widgets/base",
            "_view_module_version": "1.2.0",
            "_view_name": "LayoutView",
            "align_content": null,
            "align_items": null,
            "align_self": null,
            "border": null,
            "bottom": null,
            "display": null,
            "flex": null,
            "flex_flow": null,
            "grid_area": null,
            "grid_auto_columns": null,
            "grid_auto_flow": null,
            "grid_auto_rows": null,
            "grid_column": null,
            "grid_gap": null,
            "grid_row": null,
            "grid_template_areas": null,
            "grid_template_columns": null,
            "grid_template_rows": null,
            "height": null,
            "justify_content": null,
            "justify_items": null,
            "left": null,
            "margin": null,
            "max_height": null,
            "max_width": null,
            "min_height": null,
            "min_width": null,
            "object_fit": null,
            "object_position": null,
            "order": null,
            "overflow": null,
            "overflow_x": null,
            "overflow_y": null,
            "padding": null,
            "right": null,
            "top": null,
            "visibility": null,
            "width": null
          }
        },
        "a53e977f7b0941acbed6d14b234548b5": {
          "model_module": "@jupyter-widgets/base",
          "model_name": "LayoutModel",
          "model_module_version": "1.2.0",
          "state": {
            "_model_module": "@jupyter-widgets/base",
            "_model_module_version": "1.2.0",
            "_model_name": "LayoutModel",
            "_view_count": null,
            "_view_module": "@jupyter-widgets/base",
            "_view_module_version": "1.2.0",
            "_view_name": "LayoutView",
            "align_content": null,
            "align_items": null,
            "align_self": null,
            "border": null,
            "bottom": null,
            "display": null,
            "flex": null,
            "flex_flow": null,
            "grid_area": null,
            "grid_auto_columns": null,
            "grid_auto_flow": null,
            "grid_auto_rows": null,
            "grid_column": null,
            "grid_gap": null,
            "grid_row": null,
            "grid_template_areas": null,
            "grid_template_columns": null,
            "grid_template_rows": null,
            "height": null,
            "justify_content": null,
            "justify_items": null,
            "left": null,
            "margin": null,
            "max_height": null,
            "max_width": null,
            "min_height": null,
            "min_width": null,
            "object_fit": null,
            "object_position": null,
            "order": null,
            "overflow": null,
            "overflow_x": null,
            "overflow_y": null,
            "padding": null,
            "right": null,
            "top": null,
            "visibility": null,
            "width": null
          }
        },
        "466424ced53b4916b64742ac42f73c91": {
          "model_module": "@jupyter-widgets/controls",
          "model_name": "DescriptionStyleModel",
          "model_module_version": "1.5.0",
          "state": {
            "_model_module": "@jupyter-widgets/controls",
            "_model_module_version": "1.5.0",
            "_model_name": "DescriptionStyleModel",
            "_view_count": null,
            "_view_module": "@jupyter-widgets/base",
            "_view_module_version": "1.2.0",
            "_view_name": "StyleView",
            "description_width": ""
          }
        },
        "ecc1295e68344bf4ae584fb056c85560": {
          "model_module": "@jupyter-widgets/base",
          "model_name": "LayoutModel",
          "model_module_version": "1.2.0",
          "state": {
            "_model_module": "@jupyter-widgets/base",
            "_model_module_version": "1.2.0",
            "_model_name": "LayoutModel",
            "_view_count": null,
            "_view_module": "@jupyter-widgets/base",
            "_view_module_version": "1.2.0",
            "_view_name": "LayoutView",
            "align_content": null,
            "align_items": null,
            "align_self": null,
            "border": null,
            "bottom": null,
            "display": null,
            "flex": null,
            "flex_flow": null,
            "grid_area": null,
            "grid_auto_columns": null,
            "grid_auto_flow": null,
            "grid_auto_rows": null,
            "grid_column": null,
            "grid_gap": null,
            "grid_row": null,
            "grid_template_areas": null,
            "grid_template_columns": null,
            "grid_template_rows": null,
            "height": null,
            "justify_content": null,
            "justify_items": null,
            "left": null,
            "margin": null,
            "max_height": null,
            "max_width": null,
            "min_height": null,
            "min_width": null,
            "object_fit": null,
            "object_position": null,
            "order": null,
            "overflow": null,
            "overflow_x": null,
            "overflow_y": null,
            "padding": null,
            "right": null,
            "top": null,
            "visibility": null,
            "width": null
          }
        },
        "bf931401b38a4187abfee93e364d23d8": {
          "model_module": "@jupyter-widgets/controls",
          "model_name": "ProgressStyleModel",
          "model_module_version": "1.5.0",
          "state": {
            "_model_module": "@jupyter-widgets/controls",
            "_model_module_version": "1.5.0",
            "_model_name": "ProgressStyleModel",
            "_view_count": null,
            "_view_module": "@jupyter-widgets/base",
            "_view_module_version": "1.2.0",
            "_view_name": "StyleView",
            "bar_color": null,
            "description_width": ""
          }
        },
        "ccfe634dbebd4e958927944e7f93da62": {
          "model_module": "@jupyter-widgets/base",
          "model_name": "LayoutModel",
          "model_module_version": "1.2.0",
          "state": {
            "_model_module": "@jupyter-widgets/base",
            "_model_module_version": "1.2.0",
            "_model_name": "LayoutModel",
            "_view_count": null,
            "_view_module": "@jupyter-widgets/base",
            "_view_module_version": "1.2.0",
            "_view_name": "LayoutView",
            "align_content": null,
            "align_items": null,
            "align_self": null,
            "border": null,
            "bottom": null,
            "display": null,
            "flex": null,
            "flex_flow": null,
            "grid_area": null,
            "grid_auto_columns": null,
            "grid_auto_flow": null,
            "grid_auto_rows": null,
            "grid_column": null,
            "grid_gap": null,
            "grid_row": null,
            "grid_template_areas": null,
            "grid_template_columns": null,
            "grid_template_rows": null,
            "height": null,
            "justify_content": null,
            "justify_items": null,
            "left": null,
            "margin": null,
            "max_height": null,
            "max_width": null,
            "min_height": null,
            "min_width": null,
            "object_fit": null,
            "object_position": null,
            "order": null,
            "overflow": null,
            "overflow_x": null,
            "overflow_y": null,
            "padding": null,
            "right": null,
            "top": null,
            "visibility": null,
            "width": null
          }
        },
        "c32097017f7c411ba7ff950f6a5208ca": {
          "model_module": "@jupyter-widgets/controls",
          "model_name": "DescriptionStyleModel",
          "model_module_version": "1.5.0",
          "state": {
            "_model_module": "@jupyter-widgets/controls",
            "_model_module_version": "1.5.0",
            "_model_name": "DescriptionStyleModel",
            "_view_count": null,
            "_view_module": "@jupyter-widgets/base",
            "_view_module_version": "1.2.0",
            "_view_name": "StyleView",
            "description_width": ""
          }
        }
      }
    }
  },
  "nbformat": 4,
  "nbformat_minor": 0
}