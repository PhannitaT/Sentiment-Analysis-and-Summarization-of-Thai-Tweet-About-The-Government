{
 "cells": [
  {
   "cell_type": "code",
   "execution_count": null,
   "metadata": {},
   "outputs": [],
   "source": [
    "!pip3 install snscrape"
   ]
  },
  {
   "cell_type": "code",
   "execution_count": null,
   "metadata": {},
   "outputs": [],
   "source": [
    "import snscrape.modules.twitter as sntwitter\n",
    "import os\n",
    "import pandas as pd\n",
    "from datetime import date\n",
    "import string"
   ]
  },
  {
   "cell_type": "code",
   "execution_count": null,
   "metadata": {},
   "outputs": [],
   "source": [
    "def scrape_tweets(search_query, max_tweets_count=10,start=0, end=0):\n",
    "    \n",
    "    tweets_list = []\n",
    "        \n",
    "    # Using TwitterSearchScraper to scrape data and append tweets to list\n",
    "    for fetched_tweets_no, tweet in enumerate(sntwitter.TwitterSearchScraper('{} since:{} until:{} lang:th'.format(search_query, start, end)).get_items()):\n",
    "        \n",
    "        if fetched_tweets_no>=max_tweets_count:\n",
    "            break\n",
    "        \n",
    "        tweets_list1.append([tweet.date, tweet.id, tweet.content, tweet.user.username])\n",
    "                \n",
    "    # Creating a dataframe from the tweets list above\n",
    "    tweets_df = pd.DataFrame(tweets_list, columns=['Datetime', 'Tweet Id', 'Text', 'Username'])\n",
    "    \n",
    "    return tweets_df"
   ]
  },
  {
   "cell_type": "code",
   "execution_count": null,
   "metadata": {},
   "outputs": [],
   "source": [
    "df_m1 = scrape_tweets(\"รัฐบาล\", 1000000, '2022-1-1', '2022-1-31')"
   ]
  },
  {
   "cell_type": "code",
   "execution_count": null,
   "metadata": {},
   "outputs": [],
   "source": [
    "df_m2 = scrape_tweets(\"รัฐบาล\", 1000000, '2022-2-1', '2022-2-28')"
   ]
  },
  {
   "cell_type": "code",
   "execution_count": null,
   "metadata": {},
   "outputs": [],
   "source": [
    "df_m3 = scrape_tweets(\"รัฐบาล\", 1000000, '2022-3-1', '2022-3-31')"
   ]
  },
  {
   "cell_type": "code",
   "execution_count": null,
   "metadata": {},
   "outputs": [],
   "source": [
    "#select rows that contain the partial string \"รัฐบาล\" in the conference column\n",
    "df_m1 = df_m1[df_m1['Text'].str.contains('รัฐบาล', case=False, na=False)]\n",
    "df_m2 = df_m2[df_m2['Text'].str.contains('รัฐบาล', case=False, na=False)]\n",
    "df_m3 = df_m3[df_m3['Text'].str.contains('รัฐบาล', case=False, na=False)]"
   ]
  },
  {
   "cell_type": "code",
   "execution_count": null,
   "metadata": {},
   "outputs": [],
   "source": [
    "df_m1 = df_m1[['Datetime', 'Text']]\n",
    "df_m2 = df_m2[['Datetime', 'Text']]\n",
    "df_m3 = df_m3[['Datetime', 'Text']]"
   ]
  },
  {
   "cell_type": "code",
   "execution_count": null,
   "metadata": {},
   "outputs": [],
   "source": [
    "df_m1.to_csv(r'C:\\Users\\PanniT\\Desktop\\IS\\snscraping\\gov_ori_m1_2022.csv', index=False, header=True)\n",
    "df_m2.to_csv(r'C:\\Users\\PanniT\\Desktop\\IS\\snscraping\\gov_ori_m2_2022.csv', index=False, header=True)\n",
    "df_m3.to_csv(r'C:\\Users\\PanniT\\Desktop\\IS\\snscraping\\gov_ori_m3_2022.csv', index=False, header=True)"
   ]
  }
 ],
 "metadata": {
  "kernelspec": {
   "display_name": "Python 3",
   "language": "python",
   "name": "python3"
  },
  "language_info": {
   "codemirror_mode": {
    "name": "ipython",
    "version": 3
   },
   "file_extension": ".py",
   "mimetype": "text/x-python",
   "name": "python",
   "nbconvert_exporter": "python",
   "pygments_lexer": "ipython3",
   "version": "3.8.3"
  }
 },
 "nbformat": 4,
 "nbformat_minor": 4
}
