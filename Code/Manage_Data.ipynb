{
  "nbformat": 4,
  "nbformat_minor": 0,
  "metadata": {
    "colab": {
      "name": "Manage_Data.ipynb",
      "provenance": []
    },
    "kernelspec": {
      "name": "python3",
      "display_name": "Python 3"
    },
    "language_info": {
      "name": "python"
    }
  },
  "cells": [
    {
      "cell_type": "markdown",
      "metadata": {
        "id": "1VMzKOinXNUV"
      },
      "source": [
        "# **Import data**"
      ]
    },
    {
      "cell_type": "code",
      "execution_count": null,
      "metadata": {
        "id": "OAhLswfyfZLS"
      },
      "outputs": [],
      "source": [
        "import pandas as pd\n",
        "import numpy as np\n",
        "import re"
      ]
    },
    {
      "cell_type": "code",
      "execution_count": null,
      "metadata": {
        "id": "_ZnqswlYduig"
      },
      "outputs": [],
      "source": [
        "df1 = pd.read_csv('/content/drive/MyDrive/IS/Model_Real/m1_classify.csv')\n",
        "df2 = pd.read_csv('/content/drive/MyDrive/IS/Model_Real/m2_classify.csv')\n",
        "df3 = pd.read_csv('/content/drive/MyDrive/IS/Model_Real/m3_classify.csv')"
      ]
    },
    {
      "cell_type": "code",
      "execution_count": null,
      "metadata": {
        "colab": {
          "base_uri": "https://localhost:8080/"
        },
        "id": "Q3Xd_HTcPTBZ",
        "outputId": "22f4fe43-9e9c-4218-ad52-466ad40e440a"
      },
      "outputs": [
        {
          "output_type": "execute_result",
          "data": {
            "text/plain": [
              "Datetime      37352\n",
              "label         37352\n",
              "score         37352\n",
              "Text          37352\n",
              "CleanTweet    37352\n",
              "dtype: int64"
            ]
          },
          "metadata": {},
          "execution_count": 4
        }
      ],
      "source": [
        "df1.count()"
      ]
    },
    {
      "cell_type": "code",
      "execution_count": null,
      "metadata": {
        "colab": {
          "base_uri": "https://localhost:8080/"
        },
        "id": "2QfVnBOLRmNs",
        "outputId": "a40b10a3-e588-4486-b263-a6567917a666"
      },
      "outputs": [
        {
          "output_type": "execute_result",
          "data": {
            "text/plain": [
              "Datetime      34384\n",
              "label         34384\n",
              "score         34384\n",
              "Text          34384\n",
              "CleanTweet    34384\n",
              "dtype: int64"
            ]
          },
          "metadata": {},
          "execution_count": 5
        }
      ],
      "source": [
        "df2.count()"
      ]
    },
    {
      "cell_type": "code",
      "execution_count": null,
      "metadata": {
        "colab": {
          "base_uri": "https://localhost:8080/"
        },
        "id": "hESz6dkIRmPt",
        "outputId": "63bfb2fc-b62a-4458-ab34-231196472410"
      },
      "outputs": [
        {
          "output_type": "execute_result",
          "data": {
            "text/plain": [
              "Datetime      27566\n",
              "label         27566\n",
              "score         27566\n",
              "Text          27566\n",
              "CleanTweet    27566\n",
              "dtype: int64"
            ]
          },
          "metadata": {},
          "execution_count": 6
        }
      ],
      "source": [
        "df3.count()"
      ]
    },
    {
      "cell_type": "markdown",
      "metadata": {
        "id": "-RaX8C0lExY8"
      },
      "source": [
        "# **Manage data**"
      ]
    },
    {
      "cell_type": "code",
      "execution_count": null,
      "metadata": {
        "id": "G07jgWa3E2bz"
      },
      "outputs": [],
      "source": [
        "#Combine all 3 months of data together\n",
        "q1 = [df1, df2, df3]\n",
        "q1_df = pd.concat(q1)"
      ]
    },
    {
      "cell_type": "code",
      "execution_count": null,
      "metadata": {
        "id": "vz6CR6YbVl3r",
        "colab": {
          "base_uri": "https://localhost:8080/"
        },
        "outputId": "590c9b19-62fc-42f4-becf-e90ec67b8837"
      },
      "outputs": [
        {
          "output_type": "execute_result",
          "data": {
            "text/plain": [
              "Datetime      99302\n",
              "label         99302\n",
              "score         99302\n",
              "Text          99302\n",
              "CleanTweet    99302\n",
              "dtype: int64"
            ]
          },
          "metadata": {},
          "execution_count": 18
        }
      ],
      "source": [
        "q1_df.count()"
      ]
    },
    {
      "cell_type": "code",
      "execution_count": null,
      "metadata": {
        "id": "RIX6a62cFKJU"
      },
      "outputs": [],
      "source": [
        "q1_df.to_csv('/content/drive/MyDrive/IS/Model_Real/q1_classify.csv', index=False, header=True)"
      ]
    },
    {
      "cell_type": "code",
      "execution_count": null,
      "metadata": {
        "id": "vaXsvJmBPKis",
        "colab": {
          "base_uri": "https://localhost:8080/"
        },
        "outputId": "5c84f0b2-f0bc-420a-bc20-16a262547aa8"
      },
      "outputs": [
        {
          "output_type": "execute_result",
          "data": {
            "text/plain": [
              "neu    48736\n",
              "neg    48598\n",
              "pos     1952\n",
              "q         16\n",
              "Name: label, dtype: int64"
            ]
          },
          "metadata": {},
          "execution_count": 22
        }
      ],
      "source": [
        "#Find and Count sentiment\n",
        "q1_df.label.value_counts()"
      ]
    },
    {
      "cell_type": "code",
      "source": [
        "q1_df.head()"
      ],
      "metadata": {
        "colab": {
          "base_uri": "https://localhost:8080/",
          "height": 206
        },
        "id": "q6Ebt0L6J-yw",
        "outputId": "f4bb39ba-496a-4b77-90df-3ec886181767"
      },
      "execution_count": null,
      "outputs": [
        {
          "output_type": "execute_result",
          "data": {
            "text/plain": [
              "                    Datetime label     score  \\\n",
              "0  2022-01-01 00:01:09+00:00   neu  0.602003   \n",
              "1  2022-01-01 00:05:23+00:00   neu  0.792513   \n",
              "2  2022-01-01 00:13:06+00:00   neu  0.717748   \n",
              "3  2022-01-01 00:13:14+00:00   neu  0.541315   \n",
              "4  2022-01-01 00:14:34+00:00   neu  0.729572   \n",
              "\n",
              "                                                Text  \\\n",
              "0  Happy New Year 2022\\nขอให้ปีนี้มีแต่เรื่องดีๆ ...   \n",
              "1  ปีใหม่ขอรัฐบาลใหม่จ้า ขอแบบมาจากการเลือกตั้งที...   \n",
              "2  @redbamboo16 ชัดเจน แจ่มแจ้ง เพียงแค่เรามีรัฐบ...   \n",
              "3  Happy new year\\n    (ปีใหม่แล้ว รัฐบาลใหม่ได้ย...   \n",
              "4  2022 ขอให้คนไทยได้นายกใหม่กันถ้วนหน้า มีคุณภาพ...   \n",
              "\n",
              "                                          CleanTweet  \n",
              "0  happy<_>new<_>year<_>2022<_>ขอให้ปีนี้มีแต่เรื...  \n",
              "1  ปีใหม่ขอรัฐบาลใหม่จ้า<_>ขอแบบมาจากการเลือกตั้ง...  \n",
              "2  ชัดเจน<_>แจ่มแจ้ง<_>เพียงแค่เรามีรัฐบาลดีๆ<_>ไ...  \n",
              "3  happy<_>new<_>year<_>(ปีใหม่แล้ว<_>รัฐบาลใหม่ไ...  \n",
              "4  2022<_>ขอให้คนไทยได้นายกใหม่กันถ้วนหน้า<_>มีคุ...  "
            ],
            "text/html": [
              "\n",
              "  <div id=\"df-9a8a8604-9d1c-4e13-8ddf-de2b58251b92\">\n",
              "    <div class=\"colab-df-container\">\n",
              "      <div>\n",
              "<style scoped>\n",
              "    .dataframe tbody tr th:only-of-type {\n",
              "        vertical-align: middle;\n",
              "    }\n",
              "\n",
              "    .dataframe tbody tr th {\n",
              "        vertical-align: top;\n",
              "    }\n",
              "\n",
              "    .dataframe thead th {\n",
              "        text-align: right;\n",
              "    }\n",
              "</style>\n",
              "<table border=\"1\" class=\"dataframe\">\n",
              "  <thead>\n",
              "    <tr style=\"text-align: right;\">\n",
              "      <th></th>\n",
              "      <th>Datetime</th>\n",
              "      <th>label</th>\n",
              "      <th>score</th>\n",
              "      <th>Text</th>\n",
              "      <th>CleanTweet</th>\n",
              "    </tr>\n",
              "  </thead>\n",
              "  <tbody>\n",
              "    <tr>\n",
              "      <th>0</th>\n",
              "      <td>2022-01-01 00:01:09+00:00</td>\n",
              "      <td>neu</td>\n",
              "      <td>0.602003</td>\n",
              "      <td>Happy New Year 2022\\nขอให้ปีนี้มีแต่เรื่องดีๆ ...</td>\n",
              "      <td>happy&lt;_&gt;new&lt;_&gt;year&lt;_&gt;2022&lt;_&gt;ขอให้ปีนี้มีแต่เรื...</td>\n",
              "    </tr>\n",
              "    <tr>\n",
              "      <th>1</th>\n",
              "      <td>2022-01-01 00:05:23+00:00</td>\n",
              "      <td>neu</td>\n",
              "      <td>0.792513</td>\n",
              "      <td>ปีใหม่ขอรัฐบาลใหม่จ้า ขอแบบมาจากการเลือกตั้งที...</td>\n",
              "      <td>ปีใหม่ขอรัฐบาลใหม่จ้า&lt;_&gt;ขอแบบมาจากการเลือกตั้ง...</td>\n",
              "    </tr>\n",
              "    <tr>\n",
              "      <th>2</th>\n",
              "      <td>2022-01-01 00:13:06+00:00</td>\n",
              "      <td>neu</td>\n",
              "      <td>0.717748</td>\n",
              "      <td>@redbamboo16 ชัดเจน แจ่มแจ้ง เพียงแค่เรามีรัฐบ...</td>\n",
              "      <td>ชัดเจน&lt;_&gt;แจ่มแจ้ง&lt;_&gt;เพียงแค่เรามีรัฐบาลดีๆ&lt;_&gt;ไ...</td>\n",
              "    </tr>\n",
              "    <tr>\n",
              "      <th>3</th>\n",
              "      <td>2022-01-01 00:13:14+00:00</td>\n",
              "      <td>neu</td>\n",
              "      <td>0.541315</td>\n",
              "      <td>Happy new year\\n    (ปีใหม่แล้ว รัฐบาลใหม่ได้ย...</td>\n",
              "      <td>happy&lt;_&gt;new&lt;_&gt;year&lt;_&gt;(ปีใหม่แล้ว&lt;_&gt;รัฐบาลใหม่ไ...</td>\n",
              "    </tr>\n",
              "    <tr>\n",
              "      <th>4</th>\n",
              "      <td>2022-01-01 00:14:34+00:00</td>\n",
              "      <td>neu</td>\n",
              "      <td>0.729572</td>\n",
              "      <td>2022 ขอให้คนไทยได้นายกใหม่กันถ้วนหน้า มีคุณภาพ...</td>\n",
              "      <td>2022&lt;_&gt;ขอให้คนไทยได้นายกใหม่กันถ้วนหน้า&lt;_&gt;มีคุ...</td>\n",
              "    </tr>\n",
              "  </tbody>\n",
              "</table>\n",
              "</div>\n",
              "      <button class=\"colab-df-convert\" onclick=\"convertToInteractive('df-9a8a8604-9d1c-4e13-8ddf-de2b58251b92')\"\n",
              "              title=\"Convert this dataframe to an interactive table.\"\n",
              "              style=\"display:none;\">\n",
              "        \n",
              "  <svg xmlns=\"http://www.w3.org/2000/svg\" height=\"24px\"viewBox=\"0 0 24 24\"\n",
              "       width=\"24px\">\n",
              "    <path d=\"M0 0h24v24H0V0z\" fill=\"none\"/>\n",
              "    <path d=\"M18.56 5.44l.94 2.06.94-2.06 2.06-.94-2.06-.94-.94-2.06-.94 2.06-2.06.94zm-11 1L8.5 8.5l.94-2.06 2.06-.94-2.06-.94L8.5 2.5l-.94 2.06-2.06.94zm10 10l.94 2.06.94-2.06 2.06-.94-2.06-.94-.94-2.06-.94 2.06-2.06.94z\"/><path d=\"M17.41 7.96l-1.37-1.37c-.4-.4-.92-.59-1.43-.59-.52 0-1.04.2-1.43.59L10.3 9.45l-7.72 7.72c-.78.78-.78 2.05 0 2.83L4 21.41c.39.39.9.59 1.41.59.51 0 1.02-.2 1.41-.59l7.78-7.78 2.81-2.81c.8-.78.8-2.07 0-2.86zM5.41 20L4 18.59l7.72-7.72 1.47 1.35L5.41 20z\"/>\n",
              "  </svg>\n",
              "      </button>\n",
              "      \n",
              "  <style>\n",
              "    .colab-df-container {\n",
              "      display:flex;\n",
              "      flex-wrap:wrap;\n",
              "      gap: 12px;\n",
              "    }\n",
              "\n",
              "    .colab-df-convert {\n",
              "      background-color: #E8F0FE;\n",
              "      border: none;\n",
              "      border-radius: 50%;\n",
              "      cursor: pointer;\n",
              "      display: none;\n",
              "      fill: #1967D2;\n",
              "      height: 32px;\n",
              "      padding: 0 0 0 0;\n",
              "      width: 32px;\n",
              "    }\n",
              "\n",
              "    .colab-df-convert:hover {\n",
              "      background-color: #E2EBFA;\n",
              "      box-shadow: 0px 1px 2px rgba(60, 64, 67, 0.3), 0px 1px 3px 1px rgba(60, 64, 67, 0.15);\n",
              "      fill: #174EA6;\n",
              "    }\n",
              "\n",
              "    [theme=dark] .colab-df-convert {\n",
              "      background-color: #3B4455;\n",
              "      fill: #D2E3FC;\n",
              "    }\n",
              "\n",
              "    [theme=dark] .colab-df-convert:hover {\n",
              "      background-color: #434B5C;\n",
              "      box-shadow: 0px 1px 3px 1px rgba(0, 0, 0, 0.15);\n",
              "      filter: drop-shadow(0px 1px 2px rgba(0, 0, 0, 0.3));\n",
              "      fill: #FFFFFF;\n",
              "    }\n",
              "  </style>\n",
              "\n",
              "      <script>\n",
              "        const buttonEl =\n",
              "          document.querySelector('#df-9a8a8604-9d1c-4e13-8ddf-de2b58251b92 button.colab-df-convert');\n",
              "        buttonEl.style.display =\n",
              "          google.colab.kernel.accessAllowed ? 'block' : 'none';\n",
              "\n",
              "        async function convertToInteractive(key) {\n",
              "          const element = document.querySelector('#df-9a8a8604-9d1c-4e13-8ddf-de2b58251b92');\n",
              "          const dataTable =\n",
              "            await google.colab.kernel.invokeFunction('convertToInteractive',\n",
              "                                                     [key], {});\n",
              "          if (!dataTable) return;\n",
              "\n",
              "          const docLinkHtml = 'Like what you see? Visit the ' +\n",
              "            '<a target=\"_blank\" href=https://colab.research.google.com/notebooks/data_table.ipynb>data table notebook</a>'\n",
              "            + ' to learn more about interactive tables.';\n",
              "          element.innerHTML = '';\n",
              "          dataTable['output_type'] = 'display_data';\n",
              "          await google.colab.output.renderOutput(dataTable, element);\n",
              "          const docLink = document.createElement('div');\n",
              "          docLink.innerHTML = docLinkHtml;\n",
              "          element.appendChild(docLink);\n",
              "        }\n",
              "      </script>\n",
              "    </div>\n",
              "  </div>\n",
              "  "
            ]
          },
          "metadata": {},
          "execution_count": 23
        }
      ]
    },
    {
      "cell_type": "code",
      "execution_count": null,
      "metadata": {
        "id": "tW1gFAFWPZjc"
      },
      "outputs": [],
      "source": [
        "q1_neu = q1_df[q1_df['label'] == 'neu'].reset_index(drop=True)\n",
        "\n",
        "q1_neg = q1_df[q1_df['label'] == 'neg'].reset_index(drop=True)\n",
        "\n",
        "q1_pos = q1_df[q1_df['label'] == 'pos'].reset_index(drop=True)\n",
        "\n",
        "q1_q = q1_df[q1_df['label'] == 'q'].reset_index(drop=True)"
      ]
    },
    {
      "cell_type": "code",
      "execution_count": null,
      "metadata": {
        "id": "5FnA36CUPtW_"
      },
      "outputs": [],
      "source": [
        "q1_neu.to_csv('/content/drive/MyDrive/IS/Model_Real/neu_q1.csv', index=False, header=True)\n",
        "q1_neg.to_csv('/content/drive/MyDrive/IS/Model_Real/neg_q1.csv', index=False, header=True)\n",
        "q1_pos.to_csv('/content/drive/MyDrive/IS/Model_Real/pos_q1.csv', index=False, header=True)\n",
        "q1_q.to_csv('/content/drive/MyDrive/IS/Model_Real/q_q1.csv', index=False, header=True)"
      ]
    },
    {
      "cell_type": "markdown",
      "metadata": {
        "id": "01BJzQjdYus6"
      },
      "source": [
        "# **Random sample**"
      ]
    },
    {
      "cell_type": "code",
      "execution_count": null,
      "metadata": {
        "id": "jCwWe3udYyxi"
      },
      "outputs": [],
      "source": [
        "#random for label(manual)\n",
        "sample1 = q1_df.sample(n=100)\n",
        "sample2 = q1_df.sample(n=100)\n",
        "sample3 = q1_df.sample(n=100)"
      ]
    },
    {
      "cell_type": "code",
      "execution_count": null,
      "metadata": {
        "id": "3f1LPEO_ZrAx"
      },
      "outputs": [],
      "source": [
        "sample1.to_csv('/content/drive/MyDrive/IS/Model_Real/sample1.csv', index=False, header=True)\n",
        "sample2.to_csv('/content/drive/MyDrive/IS/Model_Real/sample2.csv', index=False, header=True)\n",
        "sample3.to_csv('/content/drive/MyDrive/IS/Model_Real/sample3.csv', index=False, header=True)"
      ]
    }
  ]
}