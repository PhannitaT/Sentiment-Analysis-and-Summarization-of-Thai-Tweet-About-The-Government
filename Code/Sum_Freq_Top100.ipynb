{
  "nbformat": 4,
  "nbformat_minor": 0,
  "metadata": {
    "colab": {
      "name": "Sum_Freq_Top100.ipynb",
      "provenance": []
    },
    "kernelspec": {
      "name": "python3",
      "display_name": "Python 3"
    },
    "language_info": {
      "name": "python"
    }
  },
  "cells": [
    {
      "cell_type": "markdown",
      "metadata": {
        "id": "1VMzKOinXNUV"
      },
      "source": [
        "# **Import data**"
      ]
    },
    {
      "cell_type": "code",
      "execution_count": 1,
      "metadata": {
        "id": "OAhLswfyfZLS"
      },
      "outputs": [],
      "source": [
        "import pandas as pd\n",
        "import numpy as np\n",
        "import re"
      ]
    },
    {
      "cell_type": "code",
      "execution_count": 2,
      "metadata": {
        "id": "_ZnqswlYduig"
      },
      "outputs": [],
      "source": [
        "neu = pd.read_csv('/content/drive/MyDrive/IS/Model_Real/neu_q1.csv')\n",
        "neg = pd.read_csv('/content/drive/MyDrive/IS/Model_Real/neg_q1.csv')\n",
        "pos = pd.read_csv('/content/drive/MyDrive/IS/Model_Real/pos_q1.csv')\n",
        "q = pd.read_csv('/content/drive/MyDrive/IS/Model_Real/q_q1.csv')"
      ]
    },
    {
      "cell_type": "code",
      "source": [
        "#Select the text with the highest probabilities based on sentiment analysis in the top 100.\n",
        "neu = neu.nlargest(100, ['score'])\n",
        "neg = neg.nlargest(100, ['score'])\n",
        "pos = pos.nlargest(100, ['score'])\n",
        "q = q.nlargest(100, ['score'])"
      ],
      "metadata": {
        "id": "qj4cy9zkNjkA"
      },
      "execution_count": 3,
      "outputs": []
    },
    {
      "cell_type": "code",
      "execution_count": 4,
      "metadata": {
        "colab": {
          "base_uri": "https://localhost:8080/"
        },
        "id": "Q3Xd_HTcPTBZ",
        "outputId": "f3807f92-0a1b-4449-dc77-fc138a29de09"
      },
      "outputs": [
        {
          "output_type": "execute_result",
          "data": {
            "text/plain": [
              "Datetime      100\n",
              "label         100\n",
              "score         100\n",
              "Text          100\n",
              "CleanTweet    100\n",
              "dtype: int64"
            ]
          },
          "metadata": {},
          "execution_count": 4
        }
      ],
      "source": [
        "neu.count()"
      ]
    },
    {
      "cell_type": "code",
      "source": [
        "neu.head()"
      ],
      "metadata": {
        "colab": {
          "base_uri": "https://localhost:8080/",
          "height": 0
        },
        "id": "iVTCXE1hClmI",
        "outputId": "0690a395-96c0-499a-d1a5-b31f7eac122d"
      },
      "execution_count": 5,
      "outputs": [
        {
          "output_type": "execute_result",
          "data": {
            "text/plain": [
              "                        Datetime label     score  \\\n",
              "36107  2022-03-03 08:23:05+00:00   neu  0.994375   \n",
              "36534  2022-03-04 04:27:39+00:00   neu  0.994346   \n",
              "36419  2022-03-03 17:09:50+00:00   neu  0.993973   \n",
              "3389   2022-01-07 07:52:06+00:00   neu  0.993846   \n",
              "6888   2022-01-12 10:27:15+00:00   neu  0.993690   \n",
              "\n",
              "                                                    Text  \\\n",
              "36107  \"ทางรอดปากท้อง ทางออกเศรษฐกิจฝ่าคลื่นโควิด : โ...   \n",
              "36534  \"ทางรอดปากท้อง ทางออกเศรษฐกิจฝ่าคลื่นโควิด : โ...   \n",
              "36419  \"ทางรอดปากท้อง ทางออกเศรษฐกิจฝ่าคลื่นโควิด : โ...   \n",
              "3389   \"รับมือ COVID-19 โอมิครอน เตียงล้น คนทะลัก\"\\n\\...   \n",
              "6888   Q&amp;A คลายข้อข้องใจ \\nQ : เตรียมพร้อมฉีดวัคซ...   \n",
              "\n",
              "                                              CleanTweet  \n",
              "36107  \"ทางรอดปากท้อง<_>ทางออกเศรษฐกิจฝ่าคลื่นโควิด<_...  \n",
              "36534  \"ทางรอดปากท้อง<_>ทางออกเศรษฐกิจฝ่าคลื่นโควิด<_...  \n",
              "36419  \"ทางรอดปากท้อง<_>ทางออกเศรษฐกิจฝ่าคลื่นโควิด<_...  \n",
              "3389   \"รับมือ<_>covid-19<_>โอมิครอน<_>เตียงล้น<_>คนท...  \n",
              "6888   q&&a<_>คลายข้อข้องใจ<_>q<_>:<_>เตรียมพร้อมฉีดว...  "
            ],
            "text/html": [
              "\n",
              "  <div id=\"df-f5008f4f-74b7-4014-99a8-40502893aa7c\">\n",
              "    <div class=\"colab-df-container\">\n",
              "      <div>\n",
              "<style scoped>\n",
              "    .dataframe tbody tr th:only-of-type {\n",
              "        vertical-align: middle;\n",
              "    }\n",
              "\n",
              "    .dataframe tbody tr th {\n",
              "        vertical-align: top;\n",
              "    }\n",
              "\n",
              "    .dataframe thead th {\n",
              "        text-align: right;\n",
              "    }\n",
              "</style>\n",
              "<table border=\"1\" class=\"dataframe\">\n",
              "  <thead>\n",
              "    <tr style=\"text-align: right;\">\n",
              "      <th></th>\n",
              "      <th>Datetime</th>\n",
              "      <th>label</th>\n",
              "      <th>score</th>\n",
              "      <th>Text</th>\n",
              "      <th>CleanTweet</th>\n",
              "    </tr>\n",
              "  </thead>\n",
              "  <tbody>\n",
              "    <tr>\n",
              "      <th>36107</th>\n",
              "      <td>2022-03-03 08:23:05+00:00</td>\n",
              "      <td>neu</td>\n",
              "      <td>0.994375</td>\n",
              "      <td>\"ทางรอดปากท้อง ทางออกเศรษฐกิจฝ่าคลื่นโควิด : โ...</td>\n",
              "      <td>\"ทางรอดปากท้อง&lt;_&gt;ทางออกเศรษฐกิจฝ่าคลื่นโควิด&lt;_...</td>\n",
              "    </tr>\n",
              "    <tr>\n",
              "      <th>36534</th>\n",
              "      <td>2022-03-04 04:27:39+00:00</td>\n",
              "      <td>neu</td>\n",
              "      <td>0.994346</td>\n",
              "      <td>\"ทางรอดปากท้อง ทางออกเศรษฐกิจฝ่าคลื่นโควิด : โ...</td>\n",
              "      <td>\"ทางรอดปากท้อง&lt;_&gt;ทางออกเศรษฐกิจฝ่าคลื่นโควิด&lt;_...</td>\n",
              "    </tr>\n",
              "    <tr>\n",
              "      <th>36419</th>\n",
              "      <td>2022-03-03 17:09:50+00:00</td>\n",
              "      <td>neu</td>\n",
              "      <td>0.993973</td>\n",
              "      <td>\"ทางรอดปากท้อง ทางออกเศรษฐกิจฝ่าคลื่นโควิด : โ...</td>\n",
              "      <td>\"ทางรอดปากท้อง&lt;_&gt;ทางออกเศรษฐกิจฝ่าคลื่นโควิด&lt;_...</td>\n",
              "    </tr>\n",
              "    <tr>\n",
              "      <th>3389</th>\n",
              "      <td>2022-01-07 07:52:06+00:00</td>\n",
              "      <td>neu</td>\n",
              "      <td>0.993846</td>\n",
              "      <td>\"รับมือ COVID-19 โอมิครอน เตียงล้น คนทะลัก\"\\n\\...</td>\n",
              "      <td>\"รับมือ&lt;_&gt;covid-19&lt;_&gt;โอมิครอน&lt;_&gt;เตียงล้น&lt;_&gt;คนท...</td>\n",
              "    </tr>\n",
              "    <tr>\n",
              "      <th>6888</th>\n",
              "      <td>2022-01-12 10:27:15+00:00</td>\n",
              "      <td>neu</td>\n",
              "      <td>0.993690</td>\n",
              "      <td>Q&amp;amp;A คลายข้อข้องใจ \\nQ : เตรียมพร้อมฉีดวัคซ...</td>\n",
              "      <td>q&amp;&amp;a&lt;_&gt;คลายข้อข้องใจ&lt;_&gt;q&lt;_&gt;:&lt;_&gt;เตรียมพร้อมฉีดว...</td>\n",
              "    </tr>\n",
              "  </tbody>\n",
              "</table>\n",
              "</div>\n",
              "      <button class=\"colab-df-convert\" onclick=\"convertToInteractive('df-f5008f4f-74b7-4014-99a8-40502893aa7c')\"\n",
              "              title=\"Convert this dataframe to an interactive table.\"\n",
              "              style=\"display:none;\">\n",
              "        \n",
              "  <svg xmlns=\"http://www.w3.org/2000/svg\" height=\"24px\"viewBox=\"0 0 24 24\"\n",
              "       width=\"24px\">\n",
              "    <path d=\"M0 0h24v24H0V0z\" fill=\"none\"/>\n",
              "    <path d=\"M18.56 5.44l.94 2.06.94-2.06 2.06-.94-2.06-.94-.94-2.06-.94 2.06-2.06.94zm-11 1L8.5 8.5l.94-2.06 2.06-.94-2.06-.94L8.5 2.5l-.94 2.06-2.06.94zm10 10l.94 2.06.94-2.06 2.06-.94-2.06-.94-.94-2.06-.94 2.06-2.06.94z\"/><path d=\"M17.41 7.96l-1.37-1.37c-.4-.4-.92-.59-1.43-.59-.52 0-1.04.2-1.43.59L10.3 9.45l-7.72 7.72c-.78.78-.78 2.05 0 2.83L4 21.41c.39.39.9.59 1.41.59.51 0 1.02-.2 1.41-.59l7.78-7.78 2.81-2.81c.8-.78.8-2.07 0-2.86zM5.41 20L4 18.59l7.72-7.72 1.47 1.35L5.41 20z\"/>\n",
              "  </svg>\n",
              "      </button>\n",
              "      \n",
              "  <style>\n",
              "    .colab-df-container {\n",
              "      display:flex;\n",
              "      flex-wrap:wrap;\n",
              "      gap: 12px;\n",
              "    }\n",
              "\n",
              "    .colab-df-convert {\n",
              "      background-color: #E8F0FE;\n",
              "      border: none;\n",
              "      border-radius: 50%;\n",
              "      cursor: pointer;\n",
              "      display: none;\n",
              "      fill: #1967D2;\n",
              "      height: 32px;\n",
              "      padding: 0 0 0 0;\n",
              "      width: 32px;\n",
              "    }\n",
              "\n",
              "    .colab-df-convert:hover {\n",
              "      background-color: #E2EBFA;\n",
              "      box-shadow: 0px 1px 2px rgba(60, 64, 67, 0.3), 0px 1px 3px 1px rgba(60, 64, 67, 0.15);\n",
              "      fill: #174EA6;\n",
              "    }\n",
              "\n",
              "    [theme=dark] .colab-df-convert {\n",
              "      background-color: #3B4455;\n",
              "      fill: #D2E3FC;\n",
              "    }\n",
              "\n",
              "    [theme=dark] .colab-df-convert:hover {\n",
              "      background-color: #434B5C;\n",
              "      box-shadow: 0px 1px 3px 1px rgba(0, 0, 0, 0.15);\n",
              "      filter: drop-shadow(0px 1px 2px rgba(0, 0, 0, 0.3));\n",
              "      fill: #FFFFFF;\n",
              "    }\n",
              "  </style>\n",
              "\n",
              "      <script>\n",
              "        const buttonEl =\n",
              "          document.querySelector('#df-f5008f4f-74b7-4014-99a8-40502893aa7c button.colab-df-convert');\n",
              "        buttonEl.style.display =\n",
              "          google.colab.kernel.accessAllowed ? 'block' : 'none';\n",
              "\n",
              "        async function convertToInteractive(key) {\n",
              "          const element = document.querySelector('#df-f5008f4f-74b7-4014-99a8-40502893aa7c');\n",
              "          const dataTable =\n",
              "            await google.colab.kernel.invokeFunction('convertToInteractive',\n",
              "                                                     [key], {});\n",
              "          if (!dataTable) return;\n",
              "\n",
              "          const docLinkHtml = 'Like what you see? Visit the ' +\n",
              "            '<a target=\"_blank\" href=https://colab.research.google.com/notebooks/data_table.ipynb>data table notebook</a>'\n",
              "            + ' to learn more about interactive tables.';\n",
              "          element.innerHTML = '';\n",
              "          dataTable['output_type'] = 'display_data';\n",
              "          await google.colab.output.renderOutput(dataTable, element);\n",
              "          const docLink = document.createElement('div');\n",
              "          docLink.innerHTML = docLinkHtml;\n",
              "          element.appendChild(docLink);\n",
              "        }\n",
              "      </script>\n",
              "    </div>\n",
              "  </div>\n",
              "  "
            ]
          },
          "metadata": {},
          "execution_count": 5
        }
      ]
    },
    {
      "cell_type": "code",
      "execution_count": 6,
      "metadata": {
        "colab": {
          "base_uri": "https://localhost:8080/"
        },
        "id": "hESz6dkIRmPt",
        "outputId": "c0c5b959-3381-4733-eba8-9591cfc26a83"
      },
      "outputs": [
        {
          "output_type": "execute_result",
          "data": {
            "text/plain": [
              "Datetime      100\n",
              "label         100\n",
              "score         100\n",
              "Text          100\n",
              "CleanTweet    100\n",
              "dtype: int64"
            ]
          },
          "metadata": {},
          "execution_count": 6
        }
      ],
      "source": [
        "neg.count()"
      ]
    },
    {
      "cell_type": "code",
      "source": [
        "neg.head()"
      ],
      "metadata": {
        "colab": {
          "base_uri": "https://localhost:8080/",
          "height": 0
        },
        "id": "M_QlG_TLCfy8",
        "outputId": "22b784ca-0d48-4bb9-b3db-0d9bff154ecc"
      },
      "execution_count": 7,
      "outputs": [
        {
          "output_type": "execute_result",
          "data": {
            "text/plain": [
              "                        Datetime label     score  \\\n",
              "33750  2022-02-24 19:01:58+00:00   neg  0.995181   \n",
              "9811   2022-01-12 16:22:52+00:00   neg  0.995053   \n",
              "20554  2022-02-01 17:37:09+00:00   neg  0.994965   \n",
              "23928  2022-02-06 07:50:33+00:00   neg  0.994965   \n",
              "27302  2022-02-12 19:12:23+00:00   neg  0.994965   \n",
              "\n",
              "                                                    Text  \\\n",
              "33750  ที่โมโหสุดคือเครื่องมือไม่พร้อมเลยมึงรัฐบาลเอา...   \n",
              "9811                 เว็บรัฐบาลแม่งใช้โคตรยาก อารมณ์เสีย   \n",
              "20554  อีรัฐบาลอีควาย โมโห ควยคุมราคาของห่าอะไรไม่ได้เลย   \n",
              "23928  เลือกตั้งหลังยุบสภา แต่ล่ะครั้ง ๆมีค่าใช้จ่ายก...   \n",
              "27302  @SpeechThailand @ThaiPolitica @Hero2020Street ...   \n",
              "\n",
              "                                              CleanTweet  \n",
              "33750  ที่โมโหสุดคือเครื่องมือไม่พร้อมเลยมึงรัฐบาลเอา...  \n",
              "9811               เว็บรัฐบาลแม่งใช้โคตรยาก<_>อารมณ์เสีย  \n",
              "20554  อีรัฐบาลอีควาย<_>โมโห<_>ควยคุมราคาของห่าอะไรไม...  \n",
              "23928  เลือกตั้งหลังยุบสภา<_>แต่ล่ะครั้ง<_>ๆมีค่าใช้จ...  \n",
              "27302  เพิ่งรู้ว่า.การรัก๋าองค์ประชุมเป็นหน้าที่ของฝ่...  "
            ],
            "text/html": [
              "\n",
              "  <div id=\"df-95b6c997-2376-4ea5-bf90-328b393106fd\">\n",
              "    <div class=\"colab-df-container\">\n",
              "      <div>\n",
              "<style scoped>\n",
              "    .dataframe tbody tr th:only-of-type {\n",
              "        vertical-align: middle;\n",
              "    }\n",
              "\n",
              "    .dataframe tbody tr th {\n",
              "        vertical-align: top;\n",
              "    }\n",
              "\n",
              "    .dataframe thead th {\n",
              "        text-align: right;\n",
              "    }\n",
              "</style>\n",
              "<table border=\"1\" class=\"dataframe\">\n",
              "  <thead>\n",
              "    <tr style=\"text-align: right;\">\n",
              "      <th></th>\n",
              "      <th>Datetime</th>\n",
              "      <th>label</th>\n",
              "      <th>score</th>\n",
              "      <th>Text</th>\n",
              "      <th>CleanTweet</th>\n",
              "    </tr>\n",
              "  </thead>\n",
              "  <tbody>\n",
              "    <tr>\n",
              "      <th>33750</th>\n",
              "      <td>2022-02-24 19:01:58+00:00</td>\n",
              "      <td>neg</td>\n",
              "      <td>0.995181</td>\n",
              "      <td>ที่โมโหสุดคือเครื่องมือไม่พร้อมเลยมึงรัฐบาลเอา...</td>\n",
              "      <td>ที่โมโหสุดคือเครื่องมือไม่พร้อมเลยมึงรัฐบาลเอา...</td>\n",
              "    </tr>\n",
              "    <tr>\n",
              "      <th>9811</th>\n",
              "      <td>2022-01-12 16:22:52+00:00</td>\n",
              "      <td>neg</td>\n",
              "      <td>0.995053</td>\n",
              "      <td>เว็บรัฐบาลแม่งใช้โคตรยาก อารมณ์เสีย</td>\n",
              "      <td>เว็บรัฐบาลแม่งใช้โคตรยาก&lt;_&gt;อารมณ์เสีย</td>\n",
              "    </tr>\n",
              "    <tr>\n",
              "      <th>20554</th>\n",
              "      <td>2022-02-01 17:37:09+00:00</td>\n",
              "      <td>neg</td>\n",
              "      <td>0.994965</td>\n",
              "      <td>อีรัฐบาลอีควาย โมโห ควยคุมราคาของห่าอะไรไม่ได้เลย</td>\n",
              "      <td>อีรัฐบาลอีควาย&lt;_&gt;โมโห&lt;_&gt;ควยคุมราคาของห่าอะไรไม...</td>\n",
              "    </tr>\n",
              "    <tr>\n",
              "      <th>23928</th>\n",
              "      <td>2022-02-06 07:50:33+00:00</td>\n",
              "      <td>neg</td>\n",
              "      <td>0.994965</td>\n",
              "      <td>เลือกตั้งหลังยุบสภา แต่ล่ะครั้ง ๆมีค่าใช้จ่ายก...</td>\n",
              "      <td>เลือกตั้งหลังยุบสภา&lt;_&gt;แต่ล่ะครั้ง&lt;_&gt;ๆมีค่าใช้จ...</td>\n",
              "    </tr>\n",
              "    <tr>\n",
              "      <th>27302</th>\n",
              "      <td>2022-02-12 19:12:23+00:00</td>\n",
              "      <td>neg</td>\n",
              "      <td>0.994965</td>\n",
              "      <td>@SpeechThailand @ThaiPolitica @Hero2020Street ...</td>\n",
              "      <td>เพิ่งรู้ว่า.การรัก๋าองค์ประชุมเป็นหน้าที่ของฝ่...</td>\n",
              "    </tr>\n",
              "  </tbody>\n",
              "</table>\n",
              "</div>\n",
              "      <button class=\"colab-df-convert\" onclick=\"convertToInteractive('df-95b6c997-2376-4ea5-bf90-328b393106fd')\"\n",
              "              title=\"Convert this dataframe to an interactive table.\"\n",
              "              style=\"display:none;\">\n",
              "        \n",
              "  <svg xmlns=\"http://www.w3.org/2000/svg\" height=\"24px\"viewBox=\"0 0 24 24\"\n",
              "       width=\"24px\">\n",
              "    <path d=\"M0 0h24v24H0V0z\" fill=\"none\"/>\n",
              "    <path d=\"M18.56 5.44l.94 2.06.94-2.06 2.06-.94-2.06-.94-.94-2.06-.94 2.06-2.06.94zm-11 1L8.5 8.5l.94-2.06 2.06-.94-2.06-.94L8.5 2.5l-.94 2.06-2.06.94zm10 10l.94 2.06.94-2.06 2.06-.94-2.06-.94-.94-2.06-.94 2.06-2.06.94z\"/><path d=\"M17.41 7.96l-1.37-1.37c-.4-.4-.92-.59-1.43-.59-.52 0-1.04.2-1.43.59L10.3 9.45l-7.72 7.72c-.78.78-.78 2.05 0 2.83L4 21.41c.39.39.9.59 1.41.59.51 0 1.02-.2 1.41-.59l7.78-7.78 2.81-2.81c.8-.78.8-2.07 0-2.86zM5.41 20L4 18.59l7.72-7.72 1.47 1.35L5.41 20z\"/>\n",
              "  </svg>\n",
              "      </button>\n",
              "      \n",
              "  <style>\n",
              "    .colab-df-container {\n",
              "      display:flex;\n",
              "      flex-wrap:wrap;\n",
              "      gap: 12px;\n",
              "    }\n",
              "\n",
              "    .colab-df-convert {\n",
              "      background-color: #E8F0FE;\n",
              "      border: none;\n",
              "      border-radius: 50%;\n",
              "      cursor: pointer;\n",
              "      display: none;\n",
              "      fill: #1967D2;\n",
              "      height: 32px;\n",
              "      padding: 0 0 0 0;\n",
              "      width: 32px;\n",
              "    }\n",
              "\n",
              "    .colab-df-convert:hover {\n",
              "      background-color: #E2EBFA;\n",
              "      box-shadow: 0px 1px 2px rgba(60, 64, 67, 0.3), 0px 1px 3px 1px rgba(60, 64, 67, 0.15);\n",
              "      fill: #174EA6;\n",
              "    }\n",
              "\n",
              "    [theme=dark] .colab-df-convert {\n",
              "      background-color: #3B4455;\n",
              "      fill: #D2E3FC;\n",
              "    }\n",
              "\n",
              "    [theme=dark] .colab-df-convert:hover {\n",
              "      background-color: #434B5C;\n",
              "      box-shadow: 0px 1px 3px 1px rgba(0, 0, 0, 0.15);\n",
              "      filter: drop-shadow(0px 1px 2px rgba(0, 0, 0, 0.3));\n",
              "      fill: #FFFFFF;\n",
              "    }\n",
              "  </style>\n",
              "\n",
              "      <script>\n",
              "        const buttonEl =\n",
              "          document.querySelector('#df-95b6c997-2376-4ea5-bf90-328b393106fd button.colab-df-convert');\n",
              "        buttonEl.style.display =\n",
              "          google.colab.kernel.accessAllowed ? 'block' : 'none';\n",
              "\n",
              "        async function convertToInteractive(key) {\n",
              "          const element = document.querySelector('#df-95b6c997-2376-4ea5-bf90-328b393106fd');\n",
              "          const dataTable =\n",
              "            await google.colab.kernel.invokeFunction('convertToInteractive',\n",
              "                                                     [key], {});\n",
              "          if (!dataTable) return;\n",
              "\n",
              "          const docLinkHtml = 'Like what you see? Visit the ' +\n",
              "            '<a target=\"_blank\" href=https://colab.research.google.com/notebooks/data_table.ipynb>data table notebook</a>'\n",
              "            + ' to learn more about interactive tables.';\n",
              "          element.innerHTML = '';\n",
              "          dataTable['output_type'] = 'display_data';\n",
              "          await google.colab.output.renderOutput(dataTable, element);\n",
              "          const docLink = document.createElement('div');\n",
              "          docLink.innerHTML = docLinkHtml;\n",
              "          element.appendChild(docLink);\n",
              "        }\n",
              "      </script>\n",
              "    </div>\n",
              "  </div>\n",
              "  "
            ]
          },
          "metadata": {},
          "execution_count": 7
        }
      ]
    },
    {
      "cell_type": "code",
      "source": [
        "pos.count()"
      ],
      "metadata": {
        "colab": {
          "base_uri": "https://localhost:8080/"
        },
        "id": "NO3lRybLCdSQ",
        "outputId": "3aa4a804-62ba-449c-b85f-d85dc2637452"
      },
      "execution_count": 8,
      "outputs": [
        {
          "output_type": "execute_result",
          "data": {
            "text/plain": [
              "Datetime      100\n",
              "label         100\n",
              "score         100\n",
              "Text          100\n",
              "CleanTweet    100\n",
              "dtype: int64"
            ]
          },
          "metadata": {},
          "execution_count": 8
        }
      ]
    },
    {
      "cell_type": "code",
      "source": [
        "pos.head()"
      ],
      "metadata": {
        "colab": {
          "base_uri": "https://localhost:8080/",
          "height": 0
        },
        "id": "uvy9f5oTCvYe",
        "outputId": "881bbb3a-a6c3-4b5e-84e7-478894f776ea"
      },
      "execution_count": 9,
      "outputs": [
        {
          "output_type": "execute_result",
          "data": {
            "text/plain": [
              "                       Datetime label     score  \\\n",
              "1477  2022-03-03 05:05:07+00:00   pos  0.974171   \n",
              "1737  2022-03-19 13:09:36+00:00   pos  0.969461   \n",
              "1752  2022-03-20 04:01:27+00:00   pos  0.964053   \n",
              "1829  2022-03-23 13:27:07+00:00   pos  0.963258   \n",
              "374   2022-01-15 17:07:18+00:00   pos  0.962111   \n",
              "\n",
              "                                                   Text  \\\n",
              "1477  ใครเป็นคนคิดชื่อนิทรรศกีชอบมากอยากมอบโล่ให้ใดๆ...   \n",
              "1737  อันแรกคือแบบ สนุกอ่ะ ดูแล้วก็หมั่นไส้ฝั่งรัฐบา...   \n",
              "1752  พี่อิ่มเก่งมากๆ ทุกประเด็น ทุกคำพูดคือดีทุกอย่...   \n",
              "1829  @Emiui000008 คุนแยมน่ารักมาก เวลาเมย์เห็นคุนแย...   \n",
              "374               รัฐบาลญี่ปุ่นทำงานดีมากดีมาตลอดชอบอ่ะ   \n",
              "\n",
              "                                             CleanTweet  \n",
              "1477  ใครเป็นคนคิดชื่อนิทรรศกีชอบมากอยากมอบโล่ให้ใดๆ...  \n",
              "1737  อันแรกคือแบบ<_>สนุกอ่ะ<_>ดูแล้วก็หมั่นไส้ฝั่งร...  \n",
              "1752  พี่อิ่มเก่งมากๆ<_>ทุกประเด็น<_>ทุกคำพูดคือดีทุ...  \n",
              "1829  คุนแยมน่ารักมาก<_>เวลาเมย์เห็นคุนแยมผ่านทล.เหม...  \n",
              "374               รัฐบาลญี่ปุ่นทำงานดีมากดีมาตลอดชอบอ่ะ  "
            ],
            "text/html": [
              "\n",
              "  <div id=\"df-9c9a25db-6fa1-4476-98e8-09b56b47d583\">\n",
              "    <div class=\"colab-df-container\">\n",
              "      <div>\n",
              "<style scoped>\n",
              "    .dataframe tbody tr th:only-of-type {\n",
              "        vertical-align: middle;\n",
              "    }\n",
              "\n",
              "    .dataframe tbody tr th {\n",
              "        vertical-align: top;\n",
              "    }\n",
              "\n",
              "    .dataframe thead th {\n",
              "        text-align: right;\n",
              "    }\n",
              "</style>\n",
              "<table border=\"1\" class=\"dataframe\">\n",
              "  <thead>\n",
              "    <tr style=\"text-align: right;\">\n",
              "      <th></th>\n",
              "      <th>Datetime</th>\n",
              "      <th>label</th>\n",
              "      <th>score</th>\n",
              "      <th>Text</th>\n",
              "      <th>CleanTweet</th>\n",
              "    </tr>\n",
              "  </thead>\n",
              "  <tbody>\n",
              "    <tr>\n",
              "      <th>1477</th>\n",
              "      <td>2022-03-03 05:05:07+00:00</td>\n",
              "      <td>pos</td>\n",
              "      <td>0.974171</td>\n",
              "      <td>ใครเป็นคนคิดชื่อนิทรรศกีชอบมากอยากมอบโล่ให้ใดๆ...</td>\n",
              "      <td>ใครเป็นคนคิดชื่อนิทรรศกีชอบมากอยากมอบโล่ให้ใดๆ...</td>\n",
              "    </tr>\n",
              "    <tr>\n",
              "      <th>1737</th>\n",
              "      <td>2022-03-19 13:09:36+00:00</td>\n",
              "      <td>pos</td>\n",
              "      <td>0.969461</td>\n",
              "      <td>อันแรกคือแบบ สนุกอ่ะ ดูแล้วก็หมั่นไส้ฝั่งรัฐบา...</td>\n",
              "      <td>อันแรกคือแบบ&lt;_&gt;สนุกอ่ะ&lt;_&gt;ดูแล้วก็หมั่นไส้ฝั่งร...</td>\n",
              "    </tr>\n",
              "    <tr>\n",
              "      <th>1752</th>\n",
              "      <td>2022-03-20 04:01:27+00:00</td>\n",
              "      <td>pos</td>\n",
              "      <td>0.964053</td>\n",
              "      <td>พี่อิ่มเก่งมากๆ ทุกประเด็น ทุกคำพูดคือดีทุกอย่...</td>\n",
              "      <td>พี่อิ่มเก่งมากๆ&lt;_&gt;ทุกประเด็น&lt;_&gt;ทุกคำพูดคือดีทุ...</td>\n",
              "    </tr>\n",
              "    <tr>\n",
              "      <th>1829</th>\n",
              "      <td>2022-03-23 13:27:07+00:00</td>\n",
              "      <td>pos</td>\n",
              "      <td>0.963258</td>\n",
              "      <td>@Emiui000008 คุนแยมน่ารักมาก เวลาเมย์เห็นคุนแย...</td>\n",
              "      <td>คุนแยมน่ารักมาก&lt;_&gt;เวลาเมย์เห็นคุนแยมผ่านทล.เหม...</td>\n",
              "    </tr>\n",
              "    <tr>\n",
              "      <th>374</th>\n",
              "      <td>2022-01-15 17:07:18+00:00</td>\n",
              "      <td>pos</td>\n",
              "      <td>0.962111</td>\n",
              "      <td>รัฐบาลญี่ปุ่นทำงานดีมากดีมาตลอดชอบอ่ะ</td>\n",
              "      <td>รัฐบาลญี่ปุ่นทำงานดีมากดีมาตลอดชอบอ่ะ</td>\n",
              "    </tr>\n",
              "  </tbody>\n",
              "</table>\n",
              "</div>\n",
              "      <button class=\"colab-df-convert\" onclick=\"convertToInteractive('df-9c9a25db-6fa1-4476-98e8-09b56b47d583')\"\n",
              "              title=\"Convert this dataframe to an interactive table.\"\n",
              "              style=\"display:none;\">\n",
              "        \n",
              "  <svg xmlns=\"http://www.w3.org/2000/svg\" height=\"24px\"viewBox=\"0 0 24 24\"\n",
              "       width=\"24px\">\n",
              "    <path d=\"M0 0h24v24H0V0z\" fill=\"none\"/>\n",
              "    <path d=\"M18.56 5.44l.94 2.06.94-2.06 2.06-.94-2.06-.94-.94-2.06-.94 2.06-2.06.94zm-11 1L8.5 8.5l.94-2.06 2.06-.94-2.06-.94L8.5 2.5l-.94 2.06-2.06.94zm10 10l.94 2.06.94-2.06 2.06-.94-2.06-.94-.94-2.06-.94 2.06-2.06.94z\"/><path d=\"M17.41 7.96l-1.37-1.37c-.4-.4-.92-.59-1.43-.59-.52 0-1.04.2-1.43.59L10.3 9.45l-7.72 7.72c-.78.78-.78 2.05 0 2.83L4 21.41c.39.39.9.59 1.41.59.51 0 1.02-.2 1.41-.59l7.78-7.78 2.81-2.81c.8-.78.8-2.07 0-2.86zM5.41 20L4 18.59l7.72-7.72 1.47 1.35L5.41 20z\"/>\n",
              "  </svg>\n",
              "      </button>\n",
              "      \n",
              "  <style>\n",
              "    .colab-df-container {\n",
              "      display:flex;\n",
              "      flex-wrap:wrap;\n",
              "      gap: 12px;\n",
              "    }\n",
              "\n",
              "    .colab-df-convert {\n",
              "      background-color: #E8F0FE;\n",
              "      border: none;\n",
              "      border-radius: 50%;\n",
              "      cursor: pointer;\n",
              "      display: none;\n",
              "      fill: #1967D2;\n",
              "      height: 32px;\n",
              "      padding: 0 0 0 0;\n",
              "      width: 32px;\n",
              "    }\n",
              "\n",
              "    .colab-df-convert:hover {\n",
              "      background-color: #E2EBFA;\n",
              "      box-shadow: 0px 1px 2px rgba(60, 64, 67, 0.3), 0px 1px 3px 1px rgba(60, 64, 67, 0.15);\n",
              "      fill: #174EA6;\n",
              "    }\n",
              "\n",
              "    [theme=dark] .colab-df-convert {\n",
              "      background-color: #3B4455;\n",
              "      fill: #D2E3FC;\n",
              "    }\n",
              "\n",
              "    [theme=dark] .colab-df-convert:hover {\n",
              "      background-color: #434B5C;\n",
              "      box-shadow: 0px 1px 3px 1px rgba(0, 0, 0, 0.15);\n",
              "      filter: drop-shadow(0px 1px 2px rgba(0, 0, 0, 0.3));\n",
              "      fill: #FFFFFF;\n",
              "    }\n",
              "  </style>\n",
              "\n",
              "      <script>\n",
              "        const buttonEl =\n",
              "          document.querySelector('#df-9c9a25db-6fa1-4476-98e8-09b56b47d583 button.colab-df-convert');\n",
              "        buttonEl.style.display =\n",
              "          google.colab.kernel.accessAllowed ? 'block' : 'none';\n",
              "\n",
              "        async function convertToInteractive(key) {\n",
              "          const element = document.querySelector('#df-9c9a25db-6fa1-4476-98e8-09b56b47d583');\n",
              "          const dataTable =\n",
              "            await google.colab.kernel.invokeFunction('convertToInteractive',\n",
              "                                                     [key], {});\n",
              "          if (!dataTable) return;\n",
              "\n",
              "          const docLinkHtml = 'Like what you see? Visit the ' +\n",
              "            '<a target=\"_blank\" href=https://colab.research.google.com/notebooks/data_table.ipynb>data table notebook</a>'\n",
              "            + ' to learn more about interactive tables.';\n",
              "          element.innerHTML = '';\n",
              "          dataTable['output_type'] = 'display_data';\n",
              "          await google.colab.output.renderOutput(dataTable, element);\n",
              "          const docLink = document.createElement('div');\n",
              "          docLink.innerHTML = docLinkHtml;\n",
              "          element.appendChild(docLink);\n",
              "        }\n",
              "      </script>\n",
              "    </div>\n",
              "  </div>\n",
              "  "
            ]
          },
          "metadata": {},
          "execution_count": 9
        }
      ]
    },
    {
      "cell_type": "code",
      "source": [
        "q.count()"
      ],
      "metadata": {
        "colab": {
          "base_uri": "https://localhost:8080/"
        },
        "id": "753c3b1-CdOd",
        "outputId": "67fff190-d246-44c0-80ef-5ec17ca4fb53"
      },
      "execution_count": 10,
      "outputs": [
        {
          "output_type": "execute_result",
          "data": {
            "text/plain": [
              "Datetime      16\n",
              "label         16\n",
              "score         16\n",
              "Text          16\n",
              "CleanTweet    16\n",
              "dtype: int64"
            ]
          },
          "metadata": {},
          "execution_count": 10
        }
      ]
    },
    {
      "cell_type": "code",
      "source": [
        "q.head()"
      ],
      "metadata": {
        "colab": {
          "base_uri": "https://localhost:8080/",
          "height": 0
        },
        "id": "obJ4g08lCxiG",
        "outputId": "73b744bc-92b0-47a5-dbb0-46562968f352"
      },
      "execution_count": 11,
      "outputs": [
        {
          "output_type": "execute_result",
          "data": {
            "text/plain": [
              "                     Datetime label     score  \\\n",
              "7   2022-01-28 16:40:25+00:00     q  0.787893   \n",
              "0   2022-01-04 11:02:44+00:00     q  0.680821   \n",
              "14  2022-03-12 00:17:19+00:00     q  0.656820   \n",
              "15  2022-03-16 20:36:44+00:00     q  0.645468   \n",
              "4   2022-01-14 08:25:35+00:00     q  0.612534   \n",
              "\n",
              "                                                 Text  \\\n",
              "7   ทุนรัฐบาลเกาหลียื่นวัดระดับภาษาญี่ปุ่นไปด้วยจะ...   \n",
              "0   มีใครเคยสมัครทุนรัฐบาลเกาหลีแบบ uni track ของซ...   \n",
              "14         ทุนรัฐบาลเกานี่ ยื่นสายศิลป์ยังไงให้ติดหรอ   \n",
              "15  อยากทราบค่ะคือค่าเทอมรัฐบาลนี่เขาคิดกันยังไงหร...   \n",
              "4   รัฐบาลจีนจะสั่งลบรอยสัก #XIAO จริงๆหรอคะ หรือเ...   \n",
              "\n",
              "                                           CleanTweet  \n",
              "7   ทุนรัฐบาลเกาหลียื่นวัดระดับภาษาญี่ปุ่นไปด้วยจะ...  \n",
              "0   มีใครเคยสมัครทุนรัฐบาลเกาหลีแบบ<_>uni<_>track<...  \n",
              "14       ทุนรัฐบาลเกานี่<_>ยื่นสายศิลป์ยังไงให้ติดหรอ  \n",
              "15  อยากทราบค่ะคือค่าเทอมรัฐบาลนี่เขาคิดกันยังไงหร...  \n",
              "4   รัฐบาลจีนจะสั่งลบรอยสัก<_>xiao<_>จริงๆหรอคะ<_>...  "
            ],
            "text/html": [
              "\n",
              "  <div id=\"df-4e842a68-98e5-4b9a-8480-12d364fef325\">\n",
              "    <div class=\"colab-df-container\">\n",
              "      <div>\n",
              "<style scoped>\n",
              "    .dataframe tbody tr th:only-of-type {\n",
              "        vertical-align: middle;\n",
              "    }\n",
              "\n",
              "    .dataframe tbody tr th {\n",
              "        vertical-align: top;\n",
              "    }\n",
              "\n",
              "    .dataframe thead th {\n",
              "        text-align: right;\n",
              "    }\n",
              "</style>\n",
              "<table border=\"1\" class=\"dataframe\">\n",
              "  <thead>\n",
              "    <tr style=\"text-align: right;\">\n",
              "      <th></th>\n",
              "      <th>Datetime</th>\n",
              "      <th>label</th>\n",
              "      <th>score</th>\n",
              "      <th>Text</th>\n",
              "      <th>CleanTweet</th>\n",
              "    </tr>\n",
              "  </thead>\n",
              "  <tbody>\n",
              "    <tr>\n",
              "      <th>7</th>\n",
              "      <td>2022-01-28 16:40:25+00:00</td>\n",
              "      <td>q</td>\n",
              "      <td>0.787893</td>\n",
              "      <td>ทุนรัฐบาลเกาหลียื่นวัดระดับภาษาญี่ปุ่นไปด้วยจะ...</td>\n",
              "      <td>ทุนรัฐบาลเกาหลียื่นวัดระดับภาษาญี่ปุ่นไปด้วยจะ...</td>\n",
              "    </tr>\n",
              "    <tr>\n",
              "      <th>0</th>\n",
              "      <td>2022-01-04 11:02:44+00:00</td>\n",
              "      <td>q</td>\n",
              "      <td>0.680821</td>\n",
              "      <td>มีใครเคยสมัครทุนรัฐบาลเกาหลีแบบ uni track ของซ...</td>\n",
              "      <td>มีใครเคยสมัครทุนรัฐบาลเกาหลีแบบ&lt;_&gt;uni&lt;_&gt;track&lt;...</td>\n",
              "    </tr>\n",
              "    <tr>\n",
              "      <th>14</th>\n",
              "      <td>2022-03-12 00:17:19+00:00</td>\n",
              "      <td>q</td>\n",
              "      <td>0.656820</td>\n",
              "      <td>ทุนรัฐบาลเกานี่ ยื่นสายศิลป์ยังไงให้ติดหรอ</td>\n",
              "      <td>ทุนรัฐบาลเกานี่&lt;_&gt;ยื่นสายศิลป์ยังไงให้ติดหรอ</td>\n",
              "    </tr>\n",
              "    <tr>\n",
              "      <th>15</th>\n",
              "      <td>2022-03-16 20:36:44+00:00</td>\n",
              "      <td>q</td>\n",
              "      <td>0.645468</td>\n",
              "      <td>อยากทราบค่ะคือค่าเทอมรัฐบาลนี่เขาคิดกันยังไงหร...</td>\n",
              "      <td>อยากทราบค่ะคือค่าเทอมรัฐบาลนี่เขาคิดกันยังไงหร...</td>\n",
              "    </tr>\n",
              "    <tr>\n",
              "      <th>4</th>\n",
              "      <td>2022-01-14 08:25:35+00:00</td>\n",
              "      <td>q</td>\n",
              "      <td>0.612534</td>\n",
              "      <td>รัฐบาลจีนจะสั่งลบรอยสัก #XIAO จริงๆหรอคะ หรือเ...</td>\n",
              "      <td>รัฐบาลจีนจะสั่งลบรอยสัก&lt;_&gt;xiao&lt;_&gt;จริงๆหรอคะ&lt;_&gt;...</td>\n",
              "    </tr>\n",
              "  </tbody>\n",
              "</table>\n",
              "</div>\n",
              "      <button class=\"colab-df-convert\" onclick=\"convertToInteractive('df-4e842a68-98e5-4b9a-8480-12d364fef325')\"\n",
              "              title=\"Convert this dataframe to an interactive table.\"\n",
              "              style=\"display:none;\">\n",
              "        \n",
              "  <svg xmlns=\"http://www.w3.org/2000/svg\" height=\"24px\"viewBox=\"0 0 24 24\"\n",
              "       width=\"24px\">\n",
              "    <path d=\"M0 0h24v24H0V0z\" fill=\"none\"/>\n",
              "    <path d=\"M18.56 5.44l.94 2.06.94-2.06 2.06-.94-2.06-.94-.94-2.06-.94 2.06-2.06.94zm-11 1L8.5 8.5l.94-2.06 2.06-.94-2.06-.94L8.5 2.5l-.94 2.06-2.06.94zm10 10l.94 2.06.94-2.06 2.06-.94-2.06-.94-.94-2.06-.94 2.06-2.06.94z\"/><path d=\"M17.41 7.96l-1.37-1.37c-.4-.4-.92-.59-1.43-.59-.52 0-1.04.2-1.43.59L10.3 9.45l-7.72 7.72c-.78.78-.78 2.05 0 2.83L4 21.41c.39.39.9.59 1.41.59.51 0 1.02-.2 1.41-.59l7.78-7.78 2.81-2.81c.8-.78.8-2.07 0-2.86zM5.41 20L4 18.59l7.72-7.72 1.47 1.35L5.41 20z\"/>\n",
              "  </svg>\n",
              "      </button>\n",
              "      \n",
              "  <style>\n",
              "    .colab-df-container {\n",
              "      display:flex;\n",
              "      flex-wrap:wrap;\n",
              "      gap: 12px;\n",
              "    }\n",
              "\n",
              "    .colab-df-convert {\n",
              "      background-color: #E8F0FE;\n",
              "      border: none;\n",
              "      border-radius: 50%;\n",
              "      cursor: pointer;\n",
              "      display: none;\n",
              "      fill: #1967D2;\n",
              "      height: 32px;\n",
              "      padding: 0 0 0 0;\n",
              "      width: 32px;\n",
              "    }\n",
              "\n",
              "    .colab-df-convert:hover {\n",
              "      background-color: #E2EBFA;\n",
              "      box-shadow: 0px 1px 2px rgba(60, 64, 67, 0.3), 0px 1px 3px 1px rgba(60, 64, 67, 0.15);\n",
              "      fill: #174EA6;\n",
              "    }\n",
              "\n",
              "    [theme=dark] .colab-df-convert {\n",
              "      background-color: #3B4455;\n",
              "      fill: #D2E3FC;\n",
              "    }\n",
              "\n",
              "    [theme=dark] .colab-df-convert:hover {\n",
              "      background-color: #434B5C;\n",
              "      box-shadow: 0px 1px 3px 1px rgba(0, 0, 0, 0.15);\n",
              "      filter: drop-shadow(0px 1px 2px rgba(0, 0, 0, 0.3));\n",
              "      fill: #FFFFFF;\n",
              "    }\n",
              "  </style>\n",
              "\n",
              "      <script>\n",
              "        const buttonEl =\n",
              "          document.querySelector('#df-4e842a68-98e5-4b9a-8480-12d364fef325 button.colab-df-convert');\n",
              "        buttonEl.style.display =\n",
              "          google.colab.kernel.accessAllowed ? 'block' : 'none';\n",
              "\n",
              "        async function convertToInteractive(key) {\n",
              "          const element = document.querySelector('#df-4e842a68-98e5-4b9a-8480-12d364fef325');\n",
              "          const dataTable =\n",
              "            await google.colab.kernel.invokeFunction('convertToInteractive',\n",
              "                                                     [key], {});\n",
              "          if (!dataTable) return;\n",
              "\n",
              "          const docLinkHtml = 'Like what you see? Visit the ' +\n",
              "            '<a target=\"_blank\" href=https://colab.research.google.com/notebooks/data_table.ipynb>data table notebook</a>'\n",
              "            + ' to learn more about interactive tables.';\n",
              "          element.innerHTML = '';\n",
              "          dataTable['output_type'] = 'display_data';\n",
              "          await google.colab.output.renderOutput(dataTable, element);\n",
              "          const docLink = document.createElement('div');\n",
              "          docLink.innerHTML = docLinkHtml;\n",
              "          element.appendChild(docLink);\n",
              "        }\n",
              "      </script>\n",
              "    </div>\n",
              "  </div>\n",
              "  "
            ]
          },
          "metadata": {},
          "execution_count": 11
        }
      ]
    },
    {
      "cell_type": "code",
      "source": [
        "import string\n",
        "def cleanForSum(text: str) -> str:\n",
        "\n",
        "    newText = re.sub(r\"<_>\", \" \", text)\n",
        "    \n",
        "    return newText"
      ],
      "metadata": {
        "id": "oDLLaCLcmYdZ"
      },
      "execution_count": 12,
      "outputs": []
    },
    {
      "cell_type": "code",
      "source": [
        "#clean Remove the special character \"<_>\" from text\n",
        "neu['CleanForSum'] = neu['CleanTweet'].apply(cleanForSum)\n",
        "neg['CleanForSum'] = neg['CleanTweet'].apply(cleanForSum)\n",
        "pos['CleanForSum'] = pos['CleanTweet'].apply(cleanForSum)\n",
        "q['CleanForSum'] = q['CleanTweet'].apply(cleanForSum)"
      ],
      "metadata": {
        "id": "DgOpbdFe0uDI"
      },
      "execution_count": 13,
      "outputs": []
    },
    {
      "cell_type": "code",
      "source": [
        "list_neu= list(neu['CleanForSum'])\n",
        "list_neg= list(neg['CleanForSum'])\n",
        "list_pos= list(pos['CleanForSum'])\n",
        "list_q= list(q['CleanForSum'])"
      ],
      "metadata": {
        "id": "DGPq8RTn06oD"
      },
      "execution_count": 14,
      "outputs": []
    },
    {
      "cell_type": "code",
      "source": [
        "#concatenate items in a list to a single string\n",
        "neu = '\\n'.join(list_neu)\n",
        "neg = '\\n'.join(list_neg)\n",
        "pos = '\\n'.join(list_pos)\n",
        "q = '\\n'.join(list_q)"
      ],
      "metadata": {
        "id": "aExBO3tW1LH7"
      },
      "execution_count": 15,
      "outputs": []
    },
    {
      "cell_type": "markdown",
      "source": [
        "# **Summarization (Feq)**"
      ],
      "metadata": {
        "id": "C27yh3MiGl2R"
      }
    },
    {
      "cell_type": "code",
      "source": [
        "pip install pythainlp"
      ],
      "metadata": {
        "colab": {
          "base_uri": "https://localhost:8080/"
        },
        "id": "OQ-RNnQTU70d",
        "outputId": "8d573535-e49b-4318-c4de-eabcfef7819e"
      },
      "execution_count": 16,
      "outputs": [
        {
          "output_type": "stream",
          "name": "stdout",
          "text": [
            "Looking in indexes: https://pypi.org/simple, https://us-python.pkg.dev/colab-wheels/public/simple/\n",
            "Requirement already satisfied: pythainlp in /usr/local/lib/python3.7/dist-packages (3.0.8)\n",
            "Requirement already satisfied: tinydb>=3.0 in /usr/local/lib/python3.7/dist-packages (from pythainlp) (4.7.0)\n",
            "Requirement already satisfied: requests>=2.22.0 in /usr/local/lib/python3.7/dist-packages (from pythainlp) (2.23.0)\n",
            "Requirement already satisfied: idna<3,>=2.5 in /usr/local/lib/python3.7/dist-packages (from requests>=2.22.0->pythainlp) (2.10)\n",
            "Requirement already satisfied: certifi>=2017.4.17 in /usr/local/lib/python3.7/dist-packages (from requests>=2.22.0->pythainlp) (2022.6.15)\n",
            "Requirement already satisfied: chardet<4,>=3.0.2 in /usr/local/lib/python3.7/dist-packages (from requests>=2.22.0->pythainlp) (3.0.4)\n",
            "Requirement already satisfied: urllib3!=1.25.0,!=1.25.1,<1.26,>=1.21.1 in /usr/local/lib/python3.7/dist-packages (from requests>=2.22.0->pythainlp) (1.24.3)\n",
            "Requirement already satisfied: typing-extensions<5.0.0,>=3.10.0 in /usr/local/lib/python3.7/dist-packages (from tinydb>=3.0->pythainlp) (4.1.1)\n"
          ]
        }
      ]
    },
    {
      "cell_type": "code",
      "source": [
        "#Summarization by frequency of words\n",
        "\n",
        "from collections import defaultdict\n",
        "from heapq import nlargest\n",
        "from string import punctuation\n",
        "from typing import List\n",
        "\n",
        "from pythainlp.corpus import thai_stopwords\n",
        "from pythainlp.tokenize import sent_tokenize, word_tokenize\n",
        "\n",
        "_STOPWORDS = thai_stopwords()\n",
        "\n",
        "\n",
        "class FrequencySummarizer:\n",
        "    def __init__(self, min_cut: float=0.1, max_cut: float=0.9):\n",
        "        self.__min_cut = min_cut\n",
        "        self.__max_cut = max_cut\n",
        "        self.__stopwords = set(punctuation).union(_STOPWORDS)\n",
        "\n",
        "    @staticmethod\n",
        "    def __rank(ranking, n: int):\n",
        "        return nlargest(n, ranking, key=ranking.get)\n",
        "\n",
        "    def __compute_frequencies(self, word_tokenized_sents: List[List[str]]) -> defaultdict:\n",
        "        word_freqs = defaultdict(int)\n",
        "        for sent in word_tokenized_sents:\n",
        "            for word in sent:\n",
        "                if word not in self.__stopwords:\n",
        "                    word_freqs[word] += 1\n",
        "\n",
        "        max_freq = float(max(word_freqs.values()))\n",
        "        for w in list(word_freqs):\n",
        "            word_freqs[w] = word_freqs[w] / max_freq\n",
        "            if word_freqs[w] >= self.__max_cut or word_freqs[w] <= self.__min_cut:\n",
        "                del word_freqs[w]\n",
        "\n",
        "        return word_freqs\n",
        "\n",
        "    def summarize(self, text: str, n: int, tokenizer: str = \"newmm\") -> List[str]:\n",
        "        sents = sent_tokenize(text, engine=\"newline\")\n",
        "        word_tokenized_sents = [word_tokenize(sent, engine=tokenizer) for sent in sents]\n",
        "        self.__freq = self.__compute_frequencies(word_tokenized_sents)\n",
        "        ranking = defaultdict(int)\n",
        "\n",
        "        for i, sent in enumerate(word_tokenized_sents):\n",
        "            for w in sent:\n",
        "                if w in self.__freq:\n",
        "                    ranking[i] += self.__freq[w]\n",
        "        summaries_idx = self.__rank(ranking, n)\n",
        "\n",
        "        return [sents[j] for j in summaries_idx]"
      ],
      "metadata": {
        "id": "toqk18IBGrVa"
      },
      "execution_count": 17,
      "outputs": []
    },
    {
      "cell_type": "code",
      "source": [
        "#Text summarization\n",
        "\n",
        "from typing import List\n",
        "\n",
        "from pythainlp.summarize import DEFAULT_SUMMARIZE_ENGINE\n",
        "from pythainlp.summarize.freq import FrequencySummarizer\n",
        "from pythainlp.tokenize import sent_tokenize\n",
        "\n",
        "\n",
        "def summarization(\n",
        "    text: str,\n",
        "    n: int = 1,\n",
        "    engine: str = DEFAULT_SUMMARIZE_ENGINE,\n",
        "    tokenizer: str = \"newmm\",\n",
        ") -> List[str]:\n",
        "    if not text or not isinstance(text, str):\n",
        "        return []\n",
        "    sents = []\n",
        "\n",
        "    if engine == DEFAULT_SUMMARIZE_ENGINE:\n",
        "        sents = FrequencySummarizer().summarize(text, n, tokenizer)\n",
        "    else:  # if engine not found, return first n sentences\n",
        "        sents = sent_tokenize(text, engine=\"newline\")[:n]\n",
        "\n",
        "    return sents"
      ],
      "metadata": {
        "id": "lwDq2LmCHJHw"
      },
      "execution_count": 18,
      "outputs": []
    },
    {
      "cell_type": "code",
      "source": [
        "summarization(neu, n=5)"
      ],
      "metadata": {
        "colab": {
          "base_uri": "https://localhost:8080/"
        },
        "id": "-QIb3Uy7H_SP",
        "outputId": "15070149-8ec2-4403-d4b2-6f42b0ba4cba"
      },
      "execution_count": 19,
      "outputs": [
        {
          "output_type": "execute_result",
          "data": {
            "text/plain": [
              "['วัคซีนโควิด19',\n",
              " 'รัฐบาลญี่ปุ่นรับรองการใช้วัคซีนโควิด-19',\n",
              " 'เดินหน้าวิจัยวัคซีนโควิดสัญชาติไทยกว่า',\n",
              " 'รองโฆษกรัฐบาลเผยขณะนี้มีงานวิจัยวัคซีนโควิดสัญชาติไทยที่หลากหลายกว่า',\n",
              " 'วิจัยวัคซีนโควิดสัญชาติไทยมีกว่า']"
            ]
          },
          "metadata": {},
          "execution_count": 19
        }
      ]
    },
    {
      "cell_type": "code",
      "source": [
        "summarization(neg, n=5)"
      ],
      "metadata": {
        "colab": {
          "base_uri": "https://localhost:8080/"
        },
        "id": "FJ3VDO63IVlt",
        "outputId": "fe67e014-d354-4e4b-d392-c73a5a7f0b27"
      },
      "execution_count": 20,
      "outputs": [
        {
          "output_type": "execute_result",
          "data": {
            "text/plain": [
              "['แทนที่รัฐบาลจะคุมราคากลับไม่ทำเหี้ยไรเลยหมูก็แพงไข่ก็แพงผักก็แพงอีควาย',\n",
              " 'อีรัฐบาลเผด็จการส้นตีนแม่งเหี้ยทั้งหมด',\n",
              " 'อีเหี้ยรัฐบาลนี่ทำเหี้ยไรได้บ้างนอกจากโกงกิน',\n",
              " 'ประเทศเหี้ยนี่แพงแม่งทุกอย่าง',\n",
              " 'อีพวกเจ้าสัวสันดานแม่งก็เหี้ยเหมือนกัน']"
            ]
          },
          "metadata": {},
          "execution_count": 20
        }
      ]
    },
    {
      "cell_type": "code",
      "source": [
        "summarization(pos, n=5)"
      ],
      "metadata": {
        "colab": {
          "base_uri": "https://localhost:8080/"
        },
        "id": "ib60AuggIXKK",
        "outputId": "a1c757cf-c008-4606-9d2f-d30dd8259e13"
      },
      "execution_count": 21,
      "outputs": [
        {
          "output_type": "execute_result",
          "data": {
            "text/plain": [
              "['เอาจริงชอบมากชอบศิลปินไปด้วยด่ารัฐบาลไปด้วยแถมศิลปินที่ชอบก็ด่ารัฐบาลไปพร้อมกับเรา',\n",
              " 'ใครเป็นคนคิดชื่อนิทรรศกีชอบมากอยากมอบโล่ให้ใดๆคืออยากให้เพื่อไทยได้เป็นรัฐบาล',\n",
              " 'กูชอบไดนามิคที่พระเอกกลายเป็นคนปกป้องคนเกาหลีใต้จากรัฐบาลเกาหลีใต้เอง',\n",
              " 'ถ้าปาเทดไทยมีรัฐบาลและเศรษฐกิจที่ดีกุจะชอบมากๆ',\n",
              " 'กุชอบปาเทดไทยนะ']"
            ]
          },
          "metadata": {},
          "execution_count": 21
        }
      ]
    },
    {
      "cell_type": "code",
      "source": [
        "summarization(q, n=5)"
      ],
      "metadata": {
        "colab": {
          "base_uri": "https://localhost:8080/"
        },
        "id": "_EFqUo6wIgPF",
        "outputId": "88a88b00-ccf6-402e-87cc-0386e7972f36"
      },
      "execution_count": 22,
      "outputs": [
        {
          "output_type": "execute_result",
          "data": {
            "text/plain": [
              "['มีใครเคยยื่นสมัครยื่นทุนรัฐบาลไปเรียนต่อเกาหลีบ้างมั้ยคับ',\n",
              " 'ทุนรัฐบาลเกาหลียื่นวัดระดับภาษาญี่ปุ่นไปด้วยจะดีมั้ยคะ',\n",
              " 'มีใครเคยสอบหรืออยากสอบทุนรัฐบาลเกาหลีมั้ยคะ',\n",
              " 'มีใครเคยสมัครทุนรัฐบาลเกาหลีแบบ',\n",
              " 'เรียนโทที่อินเดีย(ทุนรัฐบาลอินเดีย)']"
            ]
          },
          "metadata": {},
          "execution_count": 22
        }
      ]
    },
    {
      "cell_type": "code",
      "source": [
        ""
      ],
      "metadata": {
        "id": "jOK89-DSV_KO"
      },
      "execution_count": 22,
      "outputs": []
    }
  ]
}